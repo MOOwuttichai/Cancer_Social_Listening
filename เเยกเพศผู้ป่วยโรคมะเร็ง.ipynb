{
  "nbformat": 4,
  "nbformat_minor": 0,
  "metadata": {
    "colab": {
      "provenance": [],
      "authorship_tag": "ABX9TyNGqjs8DnY0q9NDyso/YkxM",
      "include_colab_link": true
    },
    "kernelspec": {
      "name": "python3",
      "display_name": "Python 3"
    },
    "language_info": {
      "name": "python"
    }
  },
  "cells": [
    {
      "cell_type": "markdown",
      "metadata": {
        "id": "view-in-github",
        "colab_type": "text"
      },
      "source": [
        "<a href=\"https://colab.research.google.com/github/MOOwuttichai/Cancer_Social_Listening/blob/main/%E0%B9%80%E0%B9%80%E0%B8%A2%E0%B8%81%E0%B9%80%E0%B8%9E%E0%B8%A8%E0%B8%9C%E0%B8%B9%E0%B9%89%E0%B8%9B%E0%B9%88%E0%B8%A7%E0%B8%A2%E0%B9%82%E0%B8%A3%E0%B8%84%E0%B8%A1%E0%B8%B0%E0%B9%80%E0%B8%A3%E0%B9%87%E0%B8%87.ipynb\" target=\"_parent\"><img src=\"https://colab.research.google.com/assets/colab-badge.svg\" alt=\"Open In Colab\"/></a>"
      ]
    },
    {
      "cell_type": "code",
      "execution_count": 4,
      "metadata": {
        "colab": {
          "base_uri": "https://localhost:8080/"
        },
        "id": "NF7h-pANSbxA",
        "outputId": "98d6c1bd-651b-4377-fa9f-dfc965178113"
      },
      "outputs": [
        {
          "output_type": "stream",
          "name": "stdout",
          "text": [
            "Requirement already satisfied: attacut in /usr/local/lib/python3.10/dist-packages (1.0.6)\n",
            "Requirement already satisfied: docopt>=0.6.2 in /usr/local/lib/python3.10/dist-packages (from attacut) (0.6.2)\n",
            "Requirement already satisfied: fire>=0.1.3 in /usr/local/lib/python3.10/dist-packages (from attacut) (0.6.0)\n",
            "Requirement already satisfied: nptyping>=0.2.0 in /usr/local/lib/python3.10/dist-packages (from attacut) (2.5.0)\n",
            "Requirement already satisfied: numpy>=1.17.0 in /usr/local/lib/python3.10/dist-packages (from attacut) (1.25.2)\n",
            "Requirement already satisfied: pyyaml>=5.1.2 in /usr/local/lib/python3.10/dist-packages (from attacut) (6.0.1)\n",
            "Requirement already satisfied: six>=1.12.0 in /usr/local/lib/python3.10/dist-packages (from attacut) (1.16.0)\n",
            "Requirement already satisfied: ssg>=0.0.4 in /usr/local/lib/python3.10/dist-packages (from attacut) (0.0.8)\n",
            "Requirement already satisfied: torch>=1.2.0 in /usr/local/lib/python3.10/dist-packages (from attacut) (2.2.1+cu121)\n",
            "Requirement already satisfied: termcolor in /usr/local/lib/python3.10/dist-packages (from fire>=0.1.3->attacut) (2.4.0)\n",
            "Requirement already satisfied: python-crfsuite>=0.9.6 in /usr/local/lib/python3.10/dist-packages (from ssg>=0.0.4->attacut) (0.9.10)\n",
            "Requirement already satisfied: tqdm>=4.32.2 in /usr/local/lib/python3.10/dist-packages (from ssg>=0.0.4->attacut) (4.66.4)\n",
            "Requirement already satisfied: filelock in /usr/local/lib/python3.10/dist-packages (from torch>=1.2.0->attacut) (3.14.0)\n",
            "Requirement already satisfied: typing-extensions>=4.8.0 in /usr/local/lib/python3.10/dist-packages (from torch>=1.2.0->attacut) (4.11.0)\n",
            "Requirement already satisfied: sympy in /usr/local/lib/python3.10/dist-packages (from torch>=1.2.0->attacut) (1.12)\n",
            "Requirement already satisfied: networkx in /usr/local/lib/python3.10/dist-packages (from torch>=1.2.0->attacut) (3.3)\n",
            "Requirement already satisfied: jinja2 in /usr/local/lib/python3.10/dist-packages (from torch>=1.2.0->attacut) (3.1.4)\n",
            "Requirement already satisfied: fsspec in /usr/local/lib/python3.10/dist-packages (from torch>=1.2.0->attacut) (2023.6.0)\n",
            "Requirement already satisfied: nvidia-cuda-nvrtc-cu12==12.1.105 in /usr/local/lib/python3.10/dist-packages (from torch>=1.2.0->attacut) (12.1.105)\n",
            "Requirement already satisfied: nvidia-cuda-runtime-cu12==12.1.105 in /usr/local/lib/python3.10/dist-packages (from torch>=1.2.0->attacut) (12.1.105)\n",
            "Requirement already satisfied: nvidia-cuda-cupti-cu12==12.1.105 in /usr/local/lib/python3.10/dist-packages (from torch>=1.2.0->attacut) (12.1.105)\n",
            "Requirement already satisfied: nvidia-cudnn-cu12==8.9.2.26 in /usr/local/lib/python3.10/dist-packages (from torch>=1.2.0->attacut) (8.9.2.26)\n",
            "Requirement already satisfied: nvidia-cublas-cu12==12.1.3.1 in /usr/local/lib/python3.10/dist-packages (from torch>=1.2.0->attacut) (12.1.3.1)\n",
            "Requirement already satisfied: nvidia-cufft-cu12==11.0.2.54 in /usr/local/lib/python3.10/dist-packages (from torch>=1.2.0->attacut) (11.0.2.54)\n",
            "Requirement already satisfied: nvidia-curand-cu12==10.3.2.106 in /usr/local/lib/python3.10/dist-packages (from torch>=1.2.0->attacut) (10.3.2.106)\n",
            "Requirement already satisfied: nvidia-cusolver-cu12==11.4.5.107 in /usr/local/lib/python3.10/dist-packages (from torch>=1.2.0->attacut) (11.4.5.107)\n",
            "Requirement already satisfied: nvidia-cusparse-cu12==12.1.0.106 in /usr/local/lib/python3.10/dist-packages (from torch>=1.2.0->attacut) (12.1.0.106)\n",
            "Requirement already satisfied: nvidia-nccl-cu12==2.19.3 in /usr/local/lib/python3.10/dist-packages (from torch>=1.2.0->attacut) (2.19.3)\n",
            "Requirement already satisfied: nvidia-nvtx-cu12==12.1.105 in /usr/local/lib/python3.10/dist-packages (from torch>=1.2.0->attacut) (12.1.105)\n",
            "Requirement already satisfied: triton==2.2.0 in /usr/local/lib/python3.10/dist-packages (from torch>=1.2.0->attacut) (2.2.0)\n",
            "Requirement already satisfied: nvidia-nvjitlink-cu12 in /usr/local/lib/python3.10/dist-packages (from nvidia-cusolver-cu12==11.4.5.107->torch>=1.2.0->attacut) (12.4.127)\n",
            "Requirement already satisfied: MarkupSafe>=2.0 in /usr/local/lib/python3.10/dist-packages (from jinja2->torch>=1.2.0->attacut) (2.1.5)\n",
            "Requirement already satisfied: mpmath>=0.19 in /usr/local/lib/python3.10/dist-packages (from sympy->torch>=1.2.0->attacut) (1.3.0)\n",
            "Requirement already satisfied: pythainlp in /usr/local/lib/python3.10/dist-packages (5.0.3)\n",
            "Requirement already satisfied: requests>=2.22.0 in /usr/local/lib/python3.10/dist-packages (from pythainlp) (2.31.0)\n",
            "Requirement already satisfied: charset-normalizer<4,>=2 in /usr/local/lib/python3.10/dist-packages (from requests>=2.22.0->pythainlp) (3.3.2)\n",
            "Requirement already satisfied: idna<4,>=2.5 in /usr/local/lib/python3.10/dist-packages (from requests>=2.22.0->pythainlp) (3.7)\n",
            "Requirement already satisfied: urllib3<3,>=1.21.1 in /usr/local/lib/python3.10/dist-packages (from requests>=2.22.0->pythainlp) (2.0.7)\n",
            "Requirement already satisfied: certifi>=2017.4.17 in /usr/local/lib/python3.10/dist-packages (from requests>=2.22.0->pythainlp) (2024.2.2)\n",
            "Requirement already satisfied: epitran in /usr/local/lib/python3.10/dist-packages (1.25)\n",
            "Requirement already satisfied: setuptools in /usr/local/lib/python3.10/dist-packages (from epitran) (67.7.2)\n",
            "Requirement already satisfied: regex in /usr/local/lib/python3.10/dist-packages (from epitran) (2023.12.25)\n",
            "Requirement already satisfied: panphon>=0.20 in /usr/local/lib/python3.10/dist-packages (from epitran) (0.20.0)\n",
            "Requirement already satisfied: marisa-trie in /usr/local/lib/python3.10/dist-packages (from epitran) (1.1.1)\n",
            "Requirement already satisfied: requests in /usr/local/lib/python3.10/dist-packages (from epitran) (2.31.0)\n",
            "Requirement already satisfied: unicodecsv in /usr/local/lib/python3.10/dist-packages (from panphon>=0.20->epitran) (0.14.1)\n",
            "Requirement already satisfied: PyYAML in /usr/local/lib/python3.10/dist-packages (from panphon>=0.20->epitran) (6.0.1)\n",
            "Requirement already satisfied: numpy>=1.20.2 in /usr/local/lib/python3.10/dist-packages (from panphon>=0.20->epitran) (1.25.2)\n",
            "Requirement already satisfied: editdistance in /usr/local/lib/python3.10/dist-packages (from panphon>=0.20->epitran) (0.6.2)\n",
            "Requirement already satisfied: munkres in /usr/local/lib/python3.10/dist-packages (from panphon>=0.20->epitran) (1.1.4)\n",
            "Requirement already satisfied: charset-normalizer<4,>=2 in /usr/local/lib/python3.10/dist-packages (from requests->epitran) (3.3.2)\n",
            "Requirement already satisfied: idna<4,>=2.5 in /usr/local/lib/python3.10/dist-packages (from requests->epitran) (3.7)\n",
            "Requirement already satisfied: urllib3<3,>=1.21.1 in /usr/local/lib/python3.10/dist-packages (from requests->epitran) (2.0.7)\n",
            "Requirement already satisfied: certifi>=2017.4.17 in /usr/local/lib/python3.10/dist-packages (from requests->epitran) (2024.2.2)\n"
          ]
        }
      ],
      "source": [
        "!pip install attacut\n",
        "!pip install pythainlp\n",
        "!pip install epitran"
      ]
    },
    {
      "cell_type": "code",
      "source": [
        "import pandas as pd\n",
        "from google.colab import drive\n",
        "from attacut import tokenize, Tokenizer\n",
        "import pythainlp\n",
        "from pythainlp import sent_tokenize, word_tokenize, Tokenizer\n",
        "from pythainlp.util import normalize\n",
        "from pythainlp.corpus.common import thai_words\n",
        "from collections import OrderedDict\n",
        "import matplotlib as mpl\n",
        "drive.mount('/content/drive')"
      ],
      "metadata": {
        "colab": {
          "base_uri": "https://localhost:8080/"
        },
        "id": "0MkO5C7VSh84",
        "outputId": "f18e065e-bc7f-4ccd-b8d5-e14a98c7d337"
      },
      "execution_count": 5,
      "outputs": [
        {
          "output_type": "stream",
          "name": "stdout",
          "text": [
            "Drive already mounted at /content/drive; to attempt to forcibly remount, call drive.mount(\"/content/drive\", force_remount=True).\n"
          ]
        }
      ]
    },
    {
      "cell_type": "code",
      "source": [
        "data = pd.read_csv('/content/drive/MyDrive/Carbon/data/ดึงข้อความFacbook - Sheet1.csv')"
      ],
      "metadata": {
        "id": "dlISlvKSSkr1"
      },
      "execution_count": 6,
      "outputs": []
    },
    {
      "cell_type": "code",
      "source": [
        "comment=data.groupby('ชื่อ').sum().reset_index()"
      ],
      "metadata": {
        "id": "hMRecCiYU0DG"
      },
      "execution_count": 9,
      "outputs": []
    },
    {
      "cell_type": "code",
      "source": [
        "words = set(thai_words())\n",
        "name =['กระเพาะปัสสวะ','กระเพาะปัสสาวะ','เยื่อบุโพรงมดลูก','ปากมดลูก','เม็ดเลือดขาว','กระเพาะอาหาร','กระเพราะอาหาร','ต่อมไทรอยด์','ต่อมไทยรอยด์','ท่อน้ำดี']\n",
        "for i in name:\n",
        "  words.add(i)\n",
        "custom_tokenizer = Tokenizer(words)"
      ],
      "metadata": {
        "id": "0WJrLhFeU9fT"
      },
      "execution_count": 12,
      "outputs": []
    },
    {
      "cell_type": "code",
      "source": [
        "comment"
      ],
      "metadata": {
        "colab": {
          "base_uri": "https://localhost:8080/",
          "height": 423
        },
        "id": "3P9ZAOuOejEi",
        "outputId": "71625f0e-2087-46a8-b8b3-f9b75ad7c248"
      },
      "execution_count": 23,
      "outputs": [
        {
          "output_type": "execute_result",
          "data": {
            "text/plain": [
              "                          ชื่อ  ลำดับที่  \\\n",
              "0         \\r\\nAtsanai Nenraksa       652   \n",
              "1               A Achi Sarakam       749   \n",
              "2     A Ew Rattikhan Saykammul      1115   \n",
              "3               AI'Jack TheRam       527   \n",
              "4          Abdfbaba Chillchill       677   \n",
              "...                        ...       ...   \n",
              "1033            ไซมึ้ง ชวยเสาะ      2189   \n",
              "1034           ไพบูลย์ จณะวัตร      1079   \n",
              "1035    ไพรัตน์ ชอบกินข้าวเช้า       610   \n",
              "1036             ไม่รู้ ไม่ชี้      5711   \n",
              "1037                       杨小龙      1026   \n",
              "\n",
              "                                               คำพูดโรค  \n",
              "0     ไม่ครับ เขาคลำตรงคอดูครับแล้วให้เรากลืนน้ำลายค...  \n",
              "1     ปี62 แม่เกร็ดเลือดต่ำ+ค่าตับผิดปกติ ตรวจพบไวรั...  \n",
              "2     แม่เป็นมะเร็งในเม็ดเลือด แต่มีก้อนที่กระเพาะอา...  \n",
              "3     ท้ายพอไปตรวจtcสแกน มะเร็งก็ได้ลามไปกระดูกสันหล...  \n",
              "4     แม่เป็นมะเร็งปอดค่ะ\\r\\nเมื่อมิ.ย.62มีอาการแรกเ...  \n",
              "...                                                 ...  \n",
              "1033  ถ่าย 3 4 ครั้ง นี่เหลว หรือ แข็ง ครับขอถามอีกอ...  \n",
              "1034  อาการมะเร็งรังไข่ เริ่มต้น คือ ท้องอืด เป็นประ...  \n",
              "1035  แม่ผมเป็นมะเร็งเม็ดเลือดขาวเฉียบพลันชนิดมัยอิล...  \n",
              "1036  ก่อนกลืนแร่ ผ่าตัดออก ยังไม่พบการลุกลามไปต่อมน...  \n",
              "1037  คุณแม่พึ่งพบว่าเป็นมะเร็งรังไข่ตอนตุลาคมปีนี้ค...  \n",
              "\n",
              "[1038 rows x 3 columns]"
            ],
            "text/html": [
              "\n",
              "  <div id=\"df-1de756c9-f9ac-4062-a23f-4f811849491c\" class=\"colab-df-container\">\n",
              "    <div>\n",
              "<style scoped>\n",
              "    .dataframe tbody tr th:only-of-type {\n",
              "        vertical-align: middle;\n",
              "    }\n",
              "\n",
              "    .dataframe tbody tr th {\n",
              "        vertical-align: top;\n",
              "    }\n",
              "\n",
              "    .dataframe thead th {\n",
              "        text-align: right;\n",
              "    }\n",
              "</style>\n",
              "<table border=\"1\" class=\"dataframe\">\n",
              "  <thead>\n",
              "    <tr style=\"text-align: right;\">\n",
              "      <th></th>\n",
              "      <th>ชื่อ</th>\n",
              "      <th>ลำดับที่</th>\n",
              "      <th>คำพูดโรค</th>\n",
              "    </tr>\n",
              "  </thead>\n",
              "  <tbody>\n",
              "    <tr>\n",
              "      <th>0</th>\n",
              "      <td>\\r\\nAtsanai Nenraksa</td>\n",
              "      <td>652</td>\n",
              "      <td>ไม่ครับ เขาคลำตรงคอดูครับแล้วให้เรากลืนน้ำลายค...</td>\n",
              "    </tr>\n",
              "    <tr>\n",
              "      <th>1</th>\n",
              "      <td>A Achi Sarakam</td>\n",
              "      <td>749</td>\n",
              "      <td>ปี62 แม่เกร็ดเลือดต่ำ+ค่าตับผิดปกติ ตรวจพบไวรั...</td>\n",
              "    </tr>\n",
              "    <tr>\n",
              "      <th>2</th>\n",
              "      <td>A Ew Rattikhan Saykammul</td>\n",
              "      <td>1115</td>\n",
              "      <td>แม่เป็นมะเร็งในเม็ดเลือด แต่มีก้อนที่กระเพาะอา...</td>\n",
              "    </tr>\n",
              "    <tr>\n",
              "      <th>3</th>\n",
              "      <td>AI'Jack TheRam</td>\n",
              "      <td>527</td>\n",
              "      <td>ท้ายพอไปตรวจtcสแกน มะเร็งก็ได้ลามไปกระดูกสันหล...</td>\n",
              "    </tr>\n",
              "    <tr>\n",
              "      <th>4</th>\n",
              "      <td>Abdfbaba Chillchill</td>\n",
              "      <td>677</td>\n",
              "      <td>แม่เป็นมะเร็งปอดค่ะ\\r\\nเมื่อมิ.ย.62มีอาการแรกเ...</td>\n",
              "    </tr>\n",
              "    <tr>\n",
              "      <th>...</th>\n",
              "      <td>...</td>\n",
              "      <td>...</td>\n",
              "      <td>...</td>\n",
              "    </tr>\n",
              "    <tr>\n",
              "      <th>1033</th>\n",
              "      <td>ไซมึ้ง ชวยเสาะ</td>\n",
              "      <td>2189</td>\n",
              "      <td>ถ่าย 3 4 ครั้ง นี่เหลว หรือ แข็ง ครับขอถามอีกอ...</td>\n",
              "    </tr>\n",
              "    <tr>\n",
              "      <th>1034</th>\n",
              "      <td>ไพบูลย์ จณะวัตร</td>\n",
              "      <td>1079</td>\n",
              "      <td>อาการมะเร็งรังไข่ เริ่มต้น คือ ท้องอืด เป็นประ...</td>\n",
              "    </tr>\n",
              "    <tr>\n",
              "      <th>1035</th>\n",
              "      <td>ไพรัตน์ ชอบกินข้าวเช้า</td>\n",
              "      <td>610</td>\n",
              "      <td>แม่ผมเป็นมะเร็งเม็ดเลือดขาวเฉียบพลันชนิดมัยอิล...</td>\n",
              "    </tr>\n",
              "    <tr>\n",
              "      <th>1036</th>\n",
              "      <td>ไม่รู้ ไม่ชี้</td>\n",
              "      <td>5711</td>\n",
              "      <td>ก่อนกลืนแร่ ผ่าตัดออก ยังไม่พบการลุกลามไปต่อมน...</td>\n",
              "    </tr>\n",
              "    <tr>\n",
              "      <th>1037</th>\n",
              "      <td>杨小龙</td>\n",
              "      <td>1026</td>\n",
              "      <td>คุณแม่พึ่งพบว่าเป็นมะเร็งรังไข่ตอนตุลาคมปีนี้ค...</td>\n",
              "    </tr>\n",
              "  </tbody>\n",
              "</table>\n",
              "<p>1038 rows × 3 columns</p>\n",
              "</div>\n",
              "    <div class=\"colab-df-buttons\">\n",
              "\n",
              "  <div class=\"colab-df-container\">\n",
              "    <button class=\"colab-df-convert\" onclick=\"convertToInteractive('df-1de756c9-f9ac-4062-a23f-4f811849491c')\"\n",
              "            title=\"Convert this dataframe to an interactive table.\"\n",
              "            style=\"display:none;\">\n",
              "\n",
              "  <svg xmlns=\"http://www.w3.org/2000/svg\" height=\"24px\" viewBox=\"0 -960 960 960\">\n",
              "    <path d=\"M120-120v-720h720v720H120Zm60-500h600v-160H180v160Zm220 220h160v-160H400v160Zm0 220h160v-160H400v160ZM180-400h160v-160H180v160Zm440 0h160v-160H620v160ZM180-180h160v-160H180v160Zm440 0h160v-160H620v160Z\"/>\n",
              "  </svg>\n",
              "    </button>\n",
              "\n",
              "  <style>\n",
              "    .colab-df-container {\n",
              "      display:flex;\n",
              "      gap: 12px;\n",
              "    }\n",
              "\n",
              "    .colab-df-convert {\n",
              "      background-color: #E8F0FE;\n",
              "      border: none;\n",
              "      border-radius: 50%;\n",
              "      cursor: pointer;\n",
              "      display: none;\n",
              "      fill: #1967D2;\n",
              "      height: 32px;\n",
              "      padding: 0 0 0 0;\n",
              "      width: 32px;\n",
              "    }\n",
              "\n",
              "    .colab-df-convert:hover {\n",
              "      background-color: #E2EBFA;\n",
              "      box-shadow: 0px 1px 2px rgba(60, 64, 67, 0.3), 0px 1px 3px 1px rgba(60, 64, 67, 0.15);\n",
              "      fill: #174EA6;\n",
              "    }\n",
              "\n",
              "    .colab-df-buttons div {\n",
              "      margin-bottom: 4px;\n",
              "    }\n",
              "\n",
              "    [theme=dark] .colab-df-convert {\n",
              "      background-color: #3B4455;\n",
              "      fill: #D2E3FC;\n",
              "    }\n",
              "\n",
              "    [theme=dark] .colab-df-convert:hover {\n",
              "      background-color: #434B5C;\n",
              "      box-shadow: 0px 1px 3px 1px rgba(0, 0, 0, 0.15);\n",
              "      filter: drop-shadow(0px 1px 2px rgba(0, 0, 0, 0.3));\n",
              "      fill: #FFFFFF;\n",
              "    }\n",
              "  </style>\n",
              "\n",
              "    <script>\n",
              "      const buttonEl =\n",
              "        document.querySelector('#df-1de756c9-f9ac-4062-a23f-4f811849491c button.colab-df-convert');\n",
              "      buttonEl.style.display =\n",
              "        google.colab.kernel.accessAllowed ? 'block' : 'none';\n",
              "\n",
              "      async function convertToInteractive(key) {\n",
              "        const element = document.querySelector('#df-1de756c9-f9ac-4062-a23f-4f811849491c');\n",
              "        const dataTable =\n",
              "          await google.colab.kernel.invokeFunction('convertToInteractive',\n",
              "                                                    [key], {});\n",
              "        if (!dataTable) return;\n",
              "\n",
              "        const docLinkHtml = 'Like what you see? Visit the ' +\n",
              "          '<a target=\"_blank\" href=https://colab.research.google.com/notebooks/data_table.ipynb>data table notebook</a>'\n",
              "          + ' to learn more about interactive tables.';\n",
              "        element.innerHTML = '';\n",
              "        dataTable['output_type'] = 'display_data';\n",
              "        await google.colab.output.renderOutput(dataTable, element);\n",
              "        const docLink = document.createElement('div');\n",
              "        docLink.innerHTML = docLinkHtml;\n",
              "        element.appendChild(docLink);\n",
              "      }\n",
              "    </script>\n",
              "  </div>\n",
              "\n",
              "\n",
              "<div id=\"df-5c177443-0cd9-4a9a-bf35-f3d149a29b8c\">\n",
              "  <button class=\"colab-df-quickchart\" onclick=\"quickchart('df-5c177443-0cd9-4a9a-bf35-f3d149a29b8c')\"\n",
              "            title=\"Suggest charts\"\n",
              "            style=\"display:none;\">\n",
              "\n",
              "<svg xmlns=\"http://www.w3.org/2000/svg\" height=\"24px\"viewBox=\"0 0 24 24\"\n",
              "     width=\"24px\">\n",
              "    <g>\n",
              "        <path d=\"M19 3H5c-1.1 0-2 .9-2 2v14c0 1.1.9 2 2 2h14c1.1 0 2-.9 2-2V5c0-1.1-.9-2-2-2zM9 17H7v-7h2v7zm4 0h-2V7h2v10zm4 0h-2v-4h2v4z\"/>\n",
              "    </g>\n",
              "</svg>\n",
              "  </button>\n",
              "\n",
              "<style>\n",
              "  .colab-df-quickchart {\n",
              "      --bg-color: #E8F0FE;\n",
              "      --fill-color: #1967D2;\n",
              "      --hover-bg-color: #E2EBFA;\n",
              "      --hover-fill-color: #174EA6;\n",
              "      --disabled-fill-color: #AAA;\n",
              "      --disabled-bg-color: #DDD;\n",
              "  }\n",
              "\n",
              "  [theme=dark] .colab-df-quickchart {\n",
              "      --bg-color: #3B4455;\n",
              "      --fill-color: #D2E3FC;\n",
              "      --hover-bg-color: #434B5C;\n",
              "      --hover-fill-color: #FFFFFF;\n",
              "      --disabled-bg-color: #3B4455;\n",
              "      --disabled-fill-color: #666;\n",
              "  }\n",
              "\n",
              "  .colab-df-quickchart {\n",
              "    background-color: var(--bg-color);\n",
              "    border: none;\n",
              "    border-radius: 50%;\n",
              "    cursor: pointer;\n",
              "    display: none;\n",
              "    fill: var(--fill-color);\n",
              "    height: 32px;\n",
              "    padding: 0;\n",
              "    width: 32px;\n",
              "  }\n",
              "\n",
              "  .colab-df-quickchart:hover {\n",
              "    background-color: var(--hover-bg-color);\n",
              "    box-shadow: 0 1px 2px rgba(60, 64, 67, 0.3), 0 1px 3px 1px rgba(60, 64, 67, 0.15);\n",
              "    fill: var(--button-hover-fill-color);\n",
              "  }\n",
              "\n",
              "  .colab-df-quickchart-complete:disabled,\n",
              "  .colab-df-quickchart-complete:disabled:hover {\n",
              "    background-color: var(--disabled-bg-color);\n",
              "    fill: var(--disabled-fill-color);\n",
              "    box-shadow: none;\n",
              "  }\n",
              "\n",
              "  .colab-df-spinner {\n",
              "    border: 2px solid var(--fill-color);\n",
              "    border-color: transparent;\n",
              "    border-bottom-color: var(--fill-color);\n",
              "    animation:\n",
              "      spin 1s steps(1) infinite;\n",
              "  }\n",
              "\n",
              "  @keyframes spin {\n",
              "    0% {\n",
              "      border-color: transparent;\n",
              "      border-bottom-color: var(--fill-color);\n",
              "      border-left-color: var(--fill-color);\n",
              "    }\n",
              "    20% {\n",
              "      border-color: transparent;\n",
              "      border-left-color: var(--fill-color);\n",
              "      border-top-color: var(--fill-color);\n",
              "    }\n",
              "    30% {\n",
              "      border-color: transparent;\n",
              "      border-left-color: var(--fill-color);\n",
              "      border-top-color: var(--fill-color);\n",
              "      border-right-color: var(--fill-color);\n",
              "    }\n",
              "    40% {\n",
              "      border-color: transparent;\n",
              "      border-right-color: var(--fill-color);\n",
              "      border-top-color: var(--fill-color);\n",
              "    }\n",
              "    60% {\n",
              "      border-color: transparent;\n",
              "      border-right-color: var(--fill-color);\n",
              "    }\n",
              "    80% {\n",
              "      border-color: transparent;\n",
              "      border-right-color: var(--fill-color);\n",
              "      border-bottom-color: var(--fill-color);\n",
              "    }\n",
              "    90% {\n",
              "      border-color: transparent;\n",
              "      border-bottom-color: var(--fill-color);\n",
              "    }\n",
              "  }\n",
              "</style>\n",
              "\n",
              "  <script>\n",
              "    async function quickchart(key) {\n",
              "      const quickchartButtonEl =\n",
              "        document.querySelector('#' + key + ' button');\n",
              "      quickchartButtonEl.disabled = true;  // To prevent multiple clicks.\n",
              "      quickchartButtonEl.classList.add('colab-df-spinner');\n",
              "      try {\n",
              "        const charts = await google.colab.kernel.invokeFunction(\n",
              "            'suggestCharts', [key], {});\n",
              "      } catch (error) {\n",
              "        console.error('Error during call to suggestCharts:', error);\n",
              "      }\n",
              "      quickchartButtonEl.classList.remove('colab-df-spinner');\n",
              "      quickchartButtonEl.classList.add('colab-df-quickchart-complete');\n",
              "    }\n",
              "    (() => {\n",
              "      let quickchartButtonEl =\n",
              "        document.querySelector('#df-5c177443-0cd9-4a9a-bf35-f3d149a29b8c button');\n",
              "      quickchartButtonEl.style.display =\n",
              "        google.colab.kernel.accessAllowed ? 'block' : 'none';\n",
              "    })();\n",
              "  </script>\n",
              "</div>\n",
              "    </div>\n",
              "  </div>\n"
            ],
            "application/vnd.google.colaboratory.intrinsic+json": {
              "type": "dataframe",
              "variable_name": "comment",
              "summary": "{\n  \"name\": \"comment\",\n  \"rows\": 1038,\n  \"fields\": [\n    {\n      \"column\": \"\\u0e0a\\u0e37\\u0e48\\u0e2d\",\n      \"properties\": {\n        \"dtype\": \"string\",\n        \"num_unique_values\": 1038,\n        \"samples\": [\n          \"JO Thanaphat\",\n          \"\\u0e18\\u0e19\\u0e1e\\u0e23 \\u0e41\\u0e01\\u0e49\\u0e27\\u0e2b\\u0e25\\u0e49\\u0e32\",\n          \"Pariyaporn Jongrakklang\"\n        ],\n        \"semantic_type\": \"\",\n        \"description\": \"\"\n      }\n    },\n    {\n      \"column\": \"\\u0e25\\u0e33\\u0e14\\u0e31\\u0e1a\\u0e17\\u0e35\\u0e48\",\n      \"properties\": {\n        \"dtype\": \"number\",\n        \"std\": 777,\n        \"min\": 3,\n        \"max\": 9109,\n        \"num_unique_values\": 981,\n        \"samples\": [\n          875,\n          539,\n          963\n        ],\n        \"semantic_type\": \"\",\n        \"description\": \"\"\n      }\n    },\n    {\n      \"column\": \"\\u0e04\\u0e33\\u0e1e\\u0e39\\u0e14\\u0e42\\u0e23\\u0e04\",\n      \"properties\": {\n        \"dtype\": \"string\",\n        \"num_unique_values\": 1038,\n        \"samples\": [\n          \"#\\u0e21\\u0e30\\u0e40\\u0e23\\u0e47\\u0e07\\u0e15\\u0e31\\u0e1a \\u0e41\\u0e21\\u0e48\\u0e41\\u0e1f\\u0e19\\u0e2d\\u0e32\\u0e22\\u0e3860 \\u0e44\\u0e21\\u0e48\\u0e40\\u0e04\\u0e22\\u0e14\\u0e37\\u0e48\\u0e21\\u0e40\\u0e2b\\u0e25\\u0e49\\u0e32 \\u0e44\\u0e21\\u0e48\\u0e2a\\u0e39\\u0e1a\\u0e1a\\u0e38\\u0e2b\\u0e23\\u0e35\\u0e48 \\u0e19\\u0e49\\u0e33\\u0e2b\\u0e19\\u0e31\\u0e01\\u0e25\\u0e14\\u0e41\\u0e15\\u0e48\\u0e44\\u0e21\\u0e48\\u0e21\\u0e35\\u0e2d\\u0e32\\u0e01\\u0e32\\u0e23\\u0e2d\\u0e30\\u0e44\\u0e23 \\u0e40\\u0e1e\\u0e23\\u0e32\\u0e30\\u0e17\\u0e38\\u0e01\\u0e2a\\u0e31\\u0e1b\\u0e14\\u0e32\\u0e2b\\u0e4c\\u0e15\\u0e49\\u0e2d\\u0e07\\u0e43\\u0e2a\\u0e48\\u0e0a\\u0e38\\u0e14\\u0e23\\u0e32\\u0e15\\u0e23\\u0e35\\u0e2d\\u0e2d\\u0e01\\u0e44\\u0e1b\\u0e23\\u0e49\\u0e2d\\u0e07\\u0e40\\u0e1e\\u0e25\\u0e07\\u0e01\\u0e31\\u0e1a\\u0e40\\u0e1e\\u0e37\\u0e48\\u0e2d\\u0e19 \\u0e40\\u0e25\\u0e22\\u0e44\\u0e21\\u0e48\\u0e44\\u0e14\\u0e49\\u0e04\\u0e34\\u0e14\\u0e16\\u0e36\\u0e07\\u0e40\\u0e23\\u0e37\\u0e48\\u0e2d\\u0e07\\u0e40\\u0e08\\u0e47\\u0e1a\\u0e1b\\u0e48\\u0e27\\u0e22 \\u0e04\\u0e34\\u0e14\\u0e27\\u0e48\\u0e32\\u0e41\\u0e21\\u0e48\\u0e04\\u0e38\\u0e21\\u0e2d\\u0e32\\u0e2b\\u0e32\\u0e23 \\u0e41\\u0e15\\u0e48\\u0e15\\u0e49\\u0e19\\u0e40\\u0e14\\u0e37\\u0e2d\\u0e19 \\u0e15.\\u0e04. 2566 \\u0e08\\u0e38\\u0e01\\u0e17\\u0e49\\u0e2d\\u0e07 \\u0e1b\\u0e27\\u0e14\\u0e2b\\u0e25\\u0e31\\u0e07 \\u0e01\\u0e34\\u0e19\\u0e2d\\u0e30\\u0e44\\u0e23\\u0e01\\u0e47\\u0e2d\\u0e49\\u0e27\\u0e01\\u0e44\\u0e1b\\u0e2b\\u0e32\\u0e2b\\u0e21\\u0e2d\\u0e1b\\u0e23\\u0e30\\u0e40\\u0e21\\u0e34\\u0e19\\u0e27\\u0e48\\u0e32\\u0e40\\u0e1b\\u0e47\\u0e19\\u0e01\\u0e23\\u0e14\\u0e44\\u0e2b\\u0e25\\u0e22\\u0e49\\u0e2d\\u0e19 \\u0e23\\u0e31\\u0e01\\u0e29\\u0e32\\u0e2d\\u0e32\\u0e17\\u0e34\\u0e15\\u0e22\\u0e4c\\u0e2b\\u0e19\\u0e36\\u0e48\\u0e07\\u0e44\\u0e21\\u0e48\\u0e14\\u0e35\\u0e02\\u0e36\\u0e49\\u0e19 \\u0e1e\\u0e32\\u0e44\\u0e1b\\u0e15\\u0e23\\u0e27\\u0e08\\u0e2d\\u0e35\\u0e01\\u0e23\\u0e2d\\u0e1a \\u0e40\\u0e08\\u0e32\\u0e30\\u0e40\\u0e25\\u0e37\\u0e2d\\u0e14\\u0e15\\u0e23\\u0e27\\u0e08\\u0e04\\u0e48\\u0e32\\u0e15\\u0e31\\u0e1a \\u0e44\\u0e15 \\u0e1b\\u0e01\\u0e15\\u0e34 \\u0e40\\u0e25\\u0e22\\u0e02\\u0e2d\\u0e2b\\u0e21\\u0e2d\\u0e2d\\u0e31\\u0e25\\u0e15\\u0e49\\u0e32\\u0e0b\\u0e32\\u0e27\\u0e14\\u0e4c \\u0e1e\\u0e1a\\u0e08\\u0e38\\u0e14\\u0e17\\u0e35\\u0e48\\u0e15\\u0e31\\u0e1a \\u0e40\\u0e25\\u0e22\\u0e17\\u0e33\\u0e01\\u0e32\\u0e23 CT SCAN \\u0e2b\\u0e21\\u0e2d\\u0e1a\\u0e2d\\u0e01\\u0e27\\u0e48\\u0e32\\u0e15\\u0e31\\u0e1a\\u0e44\\u0e21\\u0e48\\u0e2a\\u0e27\\u0e22 \\u0e02\\u0e2d\\u0e15\\u0e31\\u0e14\\u0e0a\\u0e34\\u0e49\\u0e19\\u0e40\\u0e19\\u0e37\\u0e49\\u0e2d\\u0e15\\u0e23\\u0e27\\u0e08 \\u0e41\\u0e25\\u0e30\\u0e15\\u0e23\\u0e27\\u0e08\\u0e04\\u0e48\\u0e32\\u0e40\\u0e0b\\u0e25\\u0e25\\u0e4c\\u0e21\\u0e30\\u0e40\\u0e23\\u0e47\\u0e07 \\u0e08\\u0e32\\u0e01\\u0e19\\u0e31\\u0e49\\u0e19\\u0e23\\u0e2d\\u0e1c\\u0e251\\u0e2d\\u0e32\\u0e17\\u0e34\\u0e15\\u0e22\\u0e4c \\u0e01\\u0e47\\u0e17\\u0e23\\u0e32\\u0e1a\\u0e27\\u0e48\\u0e32\\u0e40\\u0e1b\\u0e47\\u0e19\\u0e21\\u0e30\\u0e40\\u0e23\\u0e47\\u0e07\\u0e15\\u0e31\\u0e1a \\u0e40\\u0e23\\u0e34\\u0e48\\u0e21\\u0e25\\u0e32\\u0e21\\u0e44\\u0e1b\\u0e1b\\u0e2d\\u0e14\\u0e01\\u0e31\\u0e1a\\u0e17\\u0e48\\u0e2d\\u0e19\\u0e49\\u0e33\\u0e14\\u0e35\\u0e19\\u0e34\\u0e14\\u0e2b\\u0e19\\u0e48\\u0e2d\\u0e22 \\u0e15\\u0e2d\\u0e19\\u0e19\\u0e35\\u0e49\\u0e43\\u0e2b\\u0e49\\u0e04\\u0e35\\u0e42\\u0e21 2 \\u0e04\\u0e23\\u0e31\\u0e49\\u0e07\\u0e41\\u0e25\\u0e49\\u0e27 \\u0e23\\u0e2d\\u0e1c\\u0e25 CT Scan \\u0e27\\u0e31\\u0e19\\u0e17\\u0e35\\u0e48 7 \\u0e1e.\\u0e22.2566 \\u0e17\\u0e35\\u0e48\\u0e40\\u0e25\\u0e48\\u0e32\\u0e21\\u0e32\\u0e40\\u0e2b\\u0e15\\u0e38\\u0e01\\u0e32\\u0e23\\u0e13\\u0e4c\\u0e17\\u0e38\\u0e01\\u0e2d\\u0e22\\u0e48\\u0e32\\u0e07\\u0e40\\u0e01\\u0e34\\u0e14\\u0e02\\u0e36\\u0e49\\u0e19\\u0e44\\u0e27\\u0e21\\u0e32\\u0e01\\u0e46\\u0e04\\u0e23\\u0e31\\u0e1a\",\n          \"\\u0e41\\u0e1f\\u0e19\\u0e01\\u0e47\\u0e40\\u0e08\\u0e2d\\u0e40\\u0e0b\\u0e25\\u0e25\\u0e4c\\u0e21\\u0e30\\u0e40\\u0e23\\u0e47\\u0e07\\u0e43\\u0e19\\u0e0a\\u0e48\\u0e2d\\u0e07\\u0e17\\u0e49\\u0e2d\\u0e07\\u0e21\\u0e31\\u0e19\\u0e2a\\u0e23\\u0e49\\u0e32\\u0e07\\u0e1c\\u0e31\\u0e07\\u0e1c\\u0e37\\u0e14\\u0e40\\u0e01\\u0e32\\u0e30\\u0e25\\u0e33\\u0e44\\u0e2a\\u0e49\\u0e1a\\u0e35\\u0e1a\\u0e23\\u0e31\\u0e14\\u0e17\\u0e33\\u0e43\\u0e2b\\u0e49\\u0e17\\u0e32\\u0e19\\u0e2d\\u0e32\\u0e2b\\u0e32\\u0e23\\u0e44\\u0e14\\u0e49\\u0e19\\u0e49\\u0e2d\\u0e22\\u0e43\\u0e2b\\u0e49\\u0e40\\u0e23\\u0e32\\u0e21\\u0e35\\u0e1a\\u0e33\\u0e1a\\u0e31\\u0e14\\u0e2d\\u0e22\\u0e39\\u0e48\\u0e22\\u0e31\\u0e07\\u0e44\\u0e21\\u0e48\\u0e14\\u0e35\\u0e02\\u0e36\\u0e49\\u0e19\\u0e1c\\u0e2d\\u0e21\\u0e21\\u0e32\\u0e01\\u0e1b\\u0e31\\u0e0d\\u0e2b\\u0e32\\u0e43\\u0e2b\\u0e0d\\u0e48\\u0e04\\u0e37\\u0e2d\\u0e1c\\u0e31\\u0e07\\u0e1c\\u0e37\\u0e14\\u0e23\\u0e1a\\u0e01\\u0e27\\u0e19\\u0e16\\u0e32\\u0e21\\u0e04\\u0e38\\u0e13\\u0e2b\\u0e21\\u0e2d\\u0e40\\u0e01\\u0e35\\u0e48\\u0e22\\u0e27\\u0e01\\u0e31\\u0e1a\\u0e01\\u0e32\\u0e23\\u0e40\\u0e01\\u0e34\\u0e14\\u0e1e\\u0e31\\u0e07\\u0e1c\\u0e37\\u0e14\\u0e40\\u0e01\\u0e32\\u0e30\\u0e22\\u0e36\\u0e14\\u0e25\\u0e33\\u0e44\\u0e2a\\u0e49\\u0e2d\\u0e27\\u0e31\\u0e22\\u0e27\\u0e30\\u0e20\\u0e32\\u0e22\\u0e43\\u0e19\\u0e0a\\u0e48\\u0e2d\\u0e07\\u0e17\\u0e49\\u0e2d\\u0e07\\u0e17\\u0e35\\u0e48\\u0e40\\u0e01\\u0e34\\u0e14\\u0e08\\u0e32\\u0e01\\u0e40\\u0e0b\\u0e25\\u0e21\\u0e30\\u0e40\\u0e23\\u0e47\\u0e07 \\u0e21\\u0e35\\u0e27\\u0e34\\u0e18\\u0e35\\u0e23\\u0e31\\u0e01\\u0e29\\u0e32\\u0e44\\u0e21\\u0e4a\\u0e04\\u0e30\",\n          \"\\u0e04\\u0e38\\u0e13\\u0e41\\u0e21\\u0e48\\u0e40\\u0e1b\\u0e47\\u0e19\\u0e21\\u0e30\\u0e40\\u0e23\\u0e47\\u0e07\\u0e40\\u0e15\\u0e49\\u0e32\\u0e19\\u0e21 \\u0e2d\\u0e32\\u0e01\\u0e32\\u0e23\\u0e44\\u0e21\\u0e48\\u0e21\\u0e35\\u0e2d\\u0e30\\u0e44\\u0e23\\u0e40\\u0e25\\u0e22 \\u0e44\\u0e1b\\u0e2b\\u0e32\\u0e2b\\u0e21\\u0e2d\\u0e40\\u0e1e\\u0e23\\u0e32\\u0e30\\u0e40\\u0e27\\u0e35\\u0e22\\u0e19\\u0e2b\\u0e19\\u0e49\\u0e32 \\u0e2d\\u0e32\\u0e40\\u0e08\\u0e35\\u0e22\\u0e19 \\u0e41\\u0e15\\u0e48\\u0e2b\\u0e21\\u0e2d\\u0e15\\u0e23\\u0e27\\u0e08\\u0e40\\u0e25\\u0e37\\u0e2d\\u0e14\\u0e41\\u0e25\\u0e49\\u0e27\\u0e40\\u0e08\\u0e2d \\u201c\\u0e40\\u0e01\\u0e25\\u0e47\\u0e14\\u0e40\\u0e25\\u0e37\\u0e2d\\u0e14\\u0e15\\u0e48\\u0e33\\u201d \\u0e2b\\u0e21\\u0e2d\\u0e40\\u0e25\\u0e22\\u0e2b\\u0e32\\u0e2a\\u0e32\\u0e21\\u0e32\\u0e40\\u0e2b\\u0e15\\u0e38\\u0e17\\u0e35\\u0e48\\u0e17\\u0e33\\u0e43\\u0e2b\\u0e49\\u0e40\\u0e01\\u0e25\\u0e47\\u0e14\\u0e40\\u0e25\\u0e37\\u0e2d\\u0e14\\u0e15\\u0e48\\u0e33 \\u0e40\\u0e25\\u0e22\\u0e1e\\u0e1a\\u0e27\\u0e48\\u0e32\\u0e40\\u0e1b\\u0e47\\u0e19\\u0e21\\u0e30\\u0e40\\u0e23\\u0e47\\u0e07 \\u0e23\\u0e30\\u0e22\\u0e30 4 \\u0e44\\u0e21\\u0e48\\u0e2a\\u0e32\\u0e21\\u0e32\\u0e23\\u0e16\\u0e23\\u0e31\\u0e01\\u0e29\\u0e32\\u0e2d\\u0e30\\u0e44\\u0e23\\u0e44\\u0e14\\u0e49\\u0e41\\u0e25\\u0e49\\u0e27 \\u0e19\\u0e31\\u0e1a\\u0e08\\u0e32\\u0e01\\u0e27\\u0e31\\u0e19\\u0e17\\u0e35\\u0e48\\u0e15\\u0e23\\u0e27\\u0e08\\u0e40\\u0e08\\u0e2d \\u0e01\\u0e47\\u0e04\\u0e48\\u0e2d\\u0e22\\u0e46\\u0e17\\u0e23\\u0e38\\u0e14\\u0e25\\u0e07 \\u0e17\\u0e48\\u0e2d\\u0e07\\u0e42\\u0e15 \\u0e15\\u0e49\\u0e2d\\u0e07\\u0e49\\u0e08\\u0e32\\u0e30\\u0e19\\u0e49\\u0e2d\\u0e07\\u0e43\\u0e19\\u0e17\\u0e49\\u0e2d\\u0e07\\u0e2d\\u0e2d\\u0e01 \\u0e40\\u0e1e\\u0e23\\u0e32\\u0e30\\u0e21\\u0e30\\u0e40\\u0e23\\u0e47\\u0e07\\u0e01\\u0e23\\u0e30\\u0e08\\u0e32\\u0e22\\u0e41\\u0e25\\u0e49\\u0e27\\u0e41\\u0e21\\u0e48\\u0e2d\\u0e22\\u0e39\\u0e48 \\u0e44\\u0e14\\u0e49 3 \\u0e40\\u0e14\\u0e37\\u0e2d\\u0e19 \\u0e41\\u0e25\\u0e49\\u0e27\\u0e41\\u0e01\\u0e01\\u0e47\\u0e40\\u0e14\\u0e34\\u0e19\\u0e17\\u0e32\\u0e07\\u0e44\\u0e1b\\u0e42\\u0e25\\u0e01\\u0e43\\u0e1a\\u0e43\\u0e2b\\u0e21\\u0e48\"\n        ],\n        \"semantic_type\": \"\",\n        \"description\": \"\"\n      }\n    }\n  ]\n}"
            }
          },
          "metadata": {},
          "execution_count": 23
        }
      ]
    },
    {
      "cell_type": "code",
      "source": [
        "Genden = {'ชาย':['พ่อ','บิดา','พี่ชาย','น้องชาย','ลูกชาย','สามี','พัว','ผัว','ปู่','ตา','คุณปู่','คุณตา','คุณพ่อ','ปู่ทวด','ตาทวด','ลุง','อา','คุณอา','คุณลุง','หลายชาย','ลูกเขย','เขย','พี่เขย','น้องเขย','พ่อตา']\n",
        "          ,'หญิง':['แม่','เเม่','มารดา','พี่สาว','น้องสาว','ลูกสาว','ภรรยา','เมีย','ย่า','ยาย','คุณย่า','คุณยาย','คุณเเม่','ย่าทวด','ยายทวด','ป้า','น้า่','คุณป้า','คุณน้า','หลายสาว','ลูกสะใถ้','ลูกสะใภ้','สะใภ้','พี่สะใภ้','น้องสะใภ้']}"
      ],
      "metadata": {
        "id": "G1i8wHm6TjZt"
      },
      "execution_count": 81,
      "outputs": []
    },
    {
      "cell_type": "code",
      "source": [
        "text= comment['คำพูดโรค'][1]\n",
        "custom_tokenizer = Tokenizer(words)\n",
        "Token = custom_tokenizer.word_tokenize(normalize(text))\n",
        "Token.append('end')\n",
        "Token"
      ],
      "metadata": {
        "colab": {
          "base_uri": "https://localhost:8080/"
        },
        "collapsed": true,
        "id": "ZTAzUfMMpNvm",
        "outputId": "6f3c2b21-930d-4e08-d96f-5666cd7e2be8"
      },
      "execution_count": 75,
      "outputs": [
        {
          "output_type": "execute_result",
          "data": {
            "text/plain": [
              "['ปี',\n",
              " '62',\n",
              " ' ',\n",
              " 'แม่',\n",
              " 'เกร็ด',\n",
              " 'เลือด',\n",
              " 'ต่ำ',\n",
              " '+',\n",
              " 'ค่า',\n",
              " 'ตับ',\n",
              " 'ผิดปกติ',\n",
              " ' ',\n",
              " 'ตรวจ',\n",
              " 'พบ',\n",
              " 'ไวรัส',\n",
              " 'ตับอักเสบ',\n",
              " 'ซี',\n",
              " ' ',\n",
              " 'และ',\n",
              " 'มี',\n",
              " 'ตับแข็ง',\n",
              " ' ',\n",
              " 'ใช้',\n",
              " 'สิทธิ์',\n",
              " 'เบิก',\n",
              " 'ได้',\n",
              " 'ข้าราชการ',\n",
              " ' ',\n",
              " 'รักษา',\n",
              " 'ที่',\n",
              " 'รพ.',\n",
              " 'ศิริราช',\n",
              " ' ',\n",
              " 'ทาน',\n",
              " 'ยา',\n",
              " 'ครบ',\n",
              " '3',\n",
              " 'เดือน',\n",
              " ' ',\n",
              " 'จน',\n",
              " 'ค่า',\n",
              " 'ไวรัส',\n",
              " 'อยู่ในเกณฑ์',\n",
              " 'ปกติ',\n",
              " ' ',\n",
              " 'F',\n",
              " '/U',\n",
              " ' ',\n",
              " '+',\n",
              " ' ',\n",
              " 'U',\n",
              " '/S',\n",
              " ' ',\n",
              " 'ทุกๆ',\n",
              " '6',\n",
              " 'เดือน',\n",
              " ' ',\n",
              " 'จน',\n",
              " 'ช่วง',\n",
              " 'โควิด',\n",
              " ' ',\n",
              " 'Loss',\n",
              " ' ',\n",
              " 'F',\n",
              " '/U',\n",
              " ' ',\n",
              " 'ไป',\n",
              " 'อีกที',\n",
              " ' ',\n",
              " 'ปี',\n",
              " '64',\n",
              " ' ',\n",
              " 'U',\n",
              " '/S',\n",
              " ' ',\n",
              " 'พบ',\n",
              " ' ',\n",
              " 'HCC',\n",
              " ' ',\n",
              " 'stage',\n",
              " '3',\n",
              " ' ',\n",
              " 'ได้',\n",
              " 'ทำ',\n",
              " ' ',\n",
              " 'TACE',\n",
              " ' ',\n",
              " '5',\n",
              " ' ',\n",
              " 'ครั้ง',\n",
              " ' ',\n",
              " '+',\n",
              " ' ',\n",
              " 'RFA',\n",
              " ' ',\n",
              " '2',\n",
              " ' ',\n",
              " 'ครั้ง',\n",
              " ' ',\n",
              " 'จน',\n",
              " 'หาย',\n",
              " 'ปกติ',\n",
              " ' ',\n",
              " 'ตอนนี้',\n",
              " ' ',\n",
              " 'มีนัด',\n",
              " 'ทุก',\n",
              " '6',\n",
              " 'เดือน',\n",
              " 'ติดตาม',\n",
              " 'อาการ',\n",
              " 'คะ',\n",
              " 'end']"
            ]
          },
          "metadata": {},
          "execution_count": 75
        }
      ]
    },
    {
      "cell_type": "code",
      "source": [
        "Genden['หญิง'][2]"
      ],
      "metadata": {
        "colab": {
          "base_uri": "https://localhost:8080/",
          "height": 36
        },
        "id": "Q18UiWQtqVf2",
        "outputId": "dcd7b015-96fa-4539-aa4b-533054e40306"
      },
      "execution_count": 86,
      "outputs": [
        {
          "output_type": "execute_result",
          "data": {
            "text/plain": [
              "'มารดา'"
            ],
            "application/vnd.google.colaboratory.intrinsic+json": {
              "type": "string"
            }
          },
          "metadata": {},
          "execution_count": 86
        }
      ]
    },
    {
      "cell_type": "code",
      "source": [
        "comment['คำพูดโรค'][0]"
      ],
      "metadata": {
        "colab": {
          "base_uri": "https://localhost:8080/",
          "height": 36
        },
        "id": "mSBE7qMkrUtN",
        "outputId": "e95f4524-6f94-4435-af9d-9b47c5e80b0f"
      },
      "execution_count": 98,
      "outputs": [
        {
          "output_type": "execute_result",
          "data": {
            "text/plain": [
              "'ไม่ครับ เขาคลำตรงคอดูครับแล้วให้เรากลืนน้ำลายครับ ส่วนที่ผมมารักษาตามสิทธิ เจาะเลือดดูค่าไทรอยด์แล้วก็ติดตามตามลำดับครับ'"
            ],
            "application/vnd.google.colaboratory.intrinsic+json": {
              "type": "string"
            }
          },
          "metadata": {},
          "execution_count": 98
        }
      ]
    },
    {
      "cell_type": "code",
      "source": [
        " #หาเพศ\n",
        "  #----------------------------------------------------------\n",
        "new_colgenden=[]\n",
        "for i in range(len(comment)):\n",
        "  text= comment['คำพูดโรค'][i]\n",
        "  custom_tokenizer = Tokenizer(words)\n",
        "  Token = custom_tokenizer.word_tokenize(normalize(text))\n",
        "  Token.append('end')\n",
        "  list_genden = []\n",
        "  for j in range(len(Genden['หญิง'])):\n",
        "    for k in range(len(Token)):\n",
        "      if (Token[k] == Genden['ชาย'][j]):\n",
        "        list_genden.append('เพศชาย')\n",
        "      elif(Token[k] == Genden['หญิง'][j]):\n",
        "        list_genden.append('เพศหญิง')\n",
        "  genden_list =[]\n",
        "  genden_list = list(OrderedDict.fromkeys(list_genden)) # ลบคำซ้ำ\n",
        "  #-------------------------------------------------------------------\n",
        "  list_define_genden = []\n",
        "  if len(genden_list) > 0 :\n",
        "    if len(genden_list) == 2:\n",
        "      list_define_genden.append('เล่าทั้งสองเพศ')\n",
        "    elif len(genden_list)==1:\n",
        "      list_define_genden.append(genden_list[0])\n",
        "  elif len(genden_list)==0:\n",
        "    list_define_genden.append('ไม่สามารถระบุได้/ไม่มั่นใจว่าเป็น')\n",
        "  genden_list_de =[]\n",
        "  genden_list_de = list(OrderedDict.fromkeys(list_define_genden))\n",
        "  new_colgenden.append(genden_list_de[0])\n",
        "print(new_colgenden)"
      ],
      "metadata": {
        "colab": {
          "base_uri": "https://localhost:8080/"
        },
        "id": "cl9cf1CWTrrJ",
        "outputId": "88e79068-b281-4e19-9b7d-1827d27f7570"
      },
      "execution_count": 115,
      "outputs": [
        {
          "output_type": "stream",
          "name": "stdout",
          "text": [
            "['ไม่สามารถระบุได้/ไม่มั่นใจว่าเป็น', 'เพศหญิง', 'เล่าทั้งสองเพศ', 'เล่าทั้งสองเพศ', 'เพศหญิง', 'ไม่สามารถระบุได้/ไม่มั่นใจว่าเป็น', 'เพศชาย', 'ไม่สามารถระบุได้/ไม่มั่นใจว่าเป็น', 'ไม่สามารถระบุได้/ไม่มั่นใจว่าเป็น', 'เล่าทั้งสองเพศ', 'เล่าทั้งสองเพศ', 'ไม่สามารถระบุได้/ไม่มั่นใจว่าเป็น', 'เพศหญิง', 'ไม่สามารถระบุได้/ไม่มั่นใจว่าเป็น', 'ไม่สามารถระบุได้/ไม่มั่นใจว่าเป็น', 'เพศชาย', 'ไม่สามารถระบุได้/ไม่มั่นใจว่าเป็น', 'เพศชาย', 'เพศหญิง', 'ไม่สามารถระบุได้/ไม่มั่นใจว่าเป็น', 'เล่าทั้งสองเพศ', 'ไม่สามารถระบุได้/ไม่มั่นใจว่าเป็น', 'เพศหญิง', 'ไม่สามารถระบุได้/ไม่มั่นใจว่าเป็น', 'เพศหญิง', 'เพศหญิง', 'เพศหญิง', 'ไม่สามารถระบุได้/ไม่มั่นใจว่าเป็น', 'เพศชาย', 'เพศหญิง', 'เพศชาย', 'เพศชาย', 'เพศหญิง', 'ไม่สามารถระบุได้/ไม่มั่นใจว่าเป็น', 'ไม่สามารถระบุได้/ไม่มั่นใจว่าเป็น', 'เพศหญิง', 'เพศชาย', 'เพศชาย', 'ไม่สามารถระบุได้/ไม่มั่นใจว่าเป็น', 'ไม่สามารถระบุได้/ไม่มั่นใจว่าเป็น', 'ไม่สามารถระบุได้/ไม่มั่นใจว่าเป็น', 'เพศชาย', 'เพศชาย', 'เพศชาย', 'ไม่สามารถระบุได้/ไม่มั่นใจว่าเป็น', 'เพศชาย', 'เพศชาย', 'เพศชาย', 'ไม่สามารถระบุได้/ไม่มั่นใจว่าเป็น', 'เพศชาย', 'เพศชาย', 'เพศชาย', 'เล่าทั้งสองเพศ', 'เพศชาย', 'ไม่สามารถระบุได้/ไม่มั่นใจว่าเป็น', 'เล่าทั้งสองเพศ', 'เพศชาย', 'เพศชาย', 'ไม่สามารถระบุได้/ไม่มั่นใจว่าเป็น', 'ไม่สามารถระบุได้/ไม่มั่นใจว่าเป็น', 'เพศชาย', 'ไม่สามารถระบุได้/ไม่มั่นใจว่าเป็น', 'เล่าทั้งสองเพศ', 'เล่าทั้งสองเพศ', 'เล่าทั้งสองเพศ', 'ไม่สามารถระบุได้/ไม่มั่นใจว่าเป็น', 'เพศหญิง', 'เพศชาย', 'เพศหญิง', 'ไม่สามารถระบุได้/ไม่มั่นใจว่าเป็น', 'เพศหญิง', 'เพศชาย', 'เล่าทั้งสองเพศ', 'ไม่สามารถระบุได้/ไม่มั่นใจว่าเป็น', 'ไม่สามารถระบุได้/ไม่มั่นใจว่าเป็น', 'เพศหญิง', 'เล่าทั้งสองเพศ', 'ไม่สามารถระบุได้/ไม่มั่นใจว่าเป็น', 'เล่าทั้งสองเพศ', 'ไม่สามารถระบุได้/ไม่มั่นใจว่าเป็น', 'ไม่สามารถระบุได้/ไม่มั่นใจว่าเป็น', 'เพศชาย', 'ไม่สามารถระบุได้/ไม่มั่นใจว่าเป็น', 'ไม่สามารถระบุได้/ไม่มั่นใจว่าเป็น', 'ไม่สามารถระบุได้/ไม่มั่นใจว่าเป็น', 'ไม่สามารถระบุได้/ไม่มั่นใจว่าเป็น', 'ไม่สามารถระบุได้/ไม่มั่นใจว่าเป็น', 'เพศหญิง', 'เพศชาย', 'ไม่สามารถระบุได้/ไม่มั่นใจว่าเป็น', 'ไม่สามารถระบุได้/ไม่มั่นใจว่าเป็น', 'ไม่สามารถระบุได้/ไม่มั่นใจว่าเป็น', 'ไม่สามารถระบุได้/ไม่มั่นใจว่าเป็น', 'ไม่สามารถระบุได้/ไม่มั่นใจว่าเป็น', 'ไม่สามารถระบุได้/ไม่มั่นใจว่าเป็น', 'ไม่สามารถระบุได้/ไม่มั่นใจว่าเป็น', 'ไม่สามารถระบุได้/ไม่มั่นใจว่าเป็น', 'เพศหญิง', 'เพศชาย', 'เพศหญิง', 'เพศชาย', 'เพศชาย', 'ไม่สามารถระบุได้/ไม่มั่นใจว่าเป็น', 'เพศชาย', 'ไม่สามารถระบุได้/ไม่มั่นใจว่าเป็น', 'ไม่สามารถระบุได้/ไม่มั่นใจว่าเป็น', 'ไม่สามารถระบุได้/ไม่มั่นใจว่าเป็น', 'เพศหญิง', 'เพศหญิง', 'ไม่สามารถระบุได้/ไม่มั่นใจว่าเป็น', 'เล่าทั้งสองเพศ', 'ไม่สามารถระบุได้/ไม่มั่นใจว่าเป็น', 'ไม่สามารถระบุได้/ไม่มั่นใจว่าเป็น', 'เพศชาย', 'ไม่สามารถระบุได้/ไม่มั่นใจว่าเป็น', 'เพศชาย', 'ไม่สามารถระบุได้/ไม่มั่นใจว่าเป็น', 'เพศชาย', 'เพศชาย', 'เพศชาย', 'ไม่สามารถระบุได้/ไม่มั่นใจว่าเป็น', 'เล่าทั้งสองเพศ', 'ไม่สามารถระบุได้/ไม่มั่นใจว่าเป็น', 'ไม่สามารถระบุได้/ไม่มั่นใจว่าเป็น', 'ไม่สามารถระบุได้/ไม่มั่นใจว่าเป็น', 'เพศชาย', 'ไม่สามารถระบุได้/ไม่มั่นใจว่าเป็น', 'เพศชาย', 'ไม่สามารถระบุได้/ไม่มั่นใจว่าเป็น', 'ไม่สามารถระบุได้/ไม่มั่นใจว่าเป็น', 'เพศหญิง', 'ไม่สามารถระบุได้/ไม่มั่นใจว่าเป็น', 'ไม่สามารถระบุได้/ไม่มั่นใจว่าเป็น', 'ไม่สามารถระบุได้/ไม่มั่นใจว่าเป็น', 'เพศชาย', 'เพศหญิง', 'เพศชาย', 'ไม่สามารถระบุได้/ไม่มั่นใจว่าเป็น', 'เพศหญิง', 'เพศหญิง', 'ไม่สามารถระบุได้/ไม่มั่นใจว่าเป็น', 'เพศชาย', 'ไม่สามารถระบุได้/ไม่มั่นใจว่าเป็น', 'ไม่สามารถระบุได้/ไม่มั่นใจว่าเป็น', 'ไม่สามารถระบุได้/ไม่มั่นใจว่าเป็น', 'เพศชาย', 'ไม่สามารถระบุได้/ไม่มั่นใจว่าเป็น', 'เพศชาย', 'เพศชาย', 'ไม่สามารถระบุได้/ไม่มั่นใจว่าเป็น', 'เพศชาย', 'เพศหญิง', 'ไม่สามารถระบุได้/ไม่มั่นใจว่าเป็น', 'เล่าทั้งสองเพศ', 'เพศชาย', 'ไม่สามารถระบุได้/ไม่มั่นใจว่าเป็น', 'ไม่สามารถระบุได้/ไม่มั่นใจว่าเป็น', 'เล่าทั้งสองเพศ', 'ไม่สามารถระบุได้/ไม่มั่นใจว่าเป็น', 'ไม่สามารถระบุได้/ไม่มั่นใจว่าเป็น', 'เพศชาย', 'เพศหญิง', 'เพศชาย', 'ไม่สามารถระบุได้/ไม่มั่นใจว่าเป็น', 'ไม่สามารถระบุได้/ไม่มั่นใจว่าเป็น', 'ไม่สามารถระบุได้/ไม่มั่นใจว่าเป็น', 'เพศชาย', 'เพศชาย', 'เพศหญิง', 'เพศชาย', 'ไม่สามารถระบุได้/ไม่มั่นใจว่าเป็น', 'เพศชาย', 'ไม่สามารถระบุได้/ไม่มั่นใจว่าเป็น', 'ไม่สามารถระบุได้/ไม่มั่นใจว่าเป็น', 'ไม่สามารถระบุได้/ไม่มั่นใจว่าเป็น', 'เพศชาย', 'เพศหญิง', 'เพศชาย', 'ไม่สามารถระบุได้/ไม่มั่นใจว่าเป็น', 'เพศหญิง', 'ไม่สามารถระบุได้/ไม่มั่นใจว่าเป็น', 'ไม่สามารถระบุได้/ไม่มั่นใจว่าเป็น', 'ไม่สามารถระบุได้/ไม่มั่นใจว่าเป็น', 'ไม่สามารถระบุได้/ไม่มั่นใจว่าเป็น', 'ไม่สามารถระบุได้/ไม่มั่นใจว่าเป็น', 'ไม่สามารถระบุได้/ไม่มั่นใจว่าเป็น', 'ไม่สามารถระบุได้/ไม่มั่นใจว่าเป็น', 'เพศหญิง', 'ไม่สามารถระบุได้/ไม่มั่นใจว่าเป็น', 'เพศหญิง', 'เพศชาย', 'เพศชาย', 'เพศชาย', 'เพศหญิง', 'ไม่สามารถระบุได้/ไม่มั่นใจว่าเป็น', 'ไม่สามารถระบุได้/ไม่มั่นใจว่าเป็น', 'ไม่สามารถระบุได้/ไม่มั่นใจว่าเป็น', 'ไม่สามารถระบุได้/ไม่มั่นใจว่าเป็น', 'เล่าทั้งสองเพศ', 'เพศหญิง', 'ไม่สามารถระบุได้/ไม่มั่นใจว่าเป็น', 'เพศหญิง', 'เพศหญิง', 'เพศชาย', 'ไม่สามารถระบุได้/ไม่มั่นใจว่าเป็น', 'ไม่สามารถระบุได้/ไม่มั่นใจว่าเป็น', 'เพศชาย', 'ไม่สามารถระบุได้/ไม่มั่นใจว่าเป็น', 'ไม่สามารถระบุได้/ไม่มั่นใจว่าเป็น', 'เพศหญิง', 'เพศชาย', 'เพศชาย', 'เพศหญิง', 'เพศหญิง', 'ไม่สามารถระบุได้/ไม่มั่นใจว่าเป็น', 'ไม่สามารถระบุได้/ไม่มั่นใจว่าเป็น', 'ไม่สามารถระบุได้/ไม่มั่นใจว่าเป็น', 'เพศหญิง', 'ไม่สามารถระบุได้/ไม่มั่นใจว่าเป็น', 'ไม่สามารถระบุได้/ไม่มั่นใจว่าเป็น', 'เพศชาย', 'เพศชาย', 'ไม่สามารถระบุได้/ไม่มั่นใจว่าเป็น', 'เล่าทั้งสองเพศ', 'ไม่สามารถระบุได้/ไม่มั่นใจว่าเป็น', 'เล่าทั้งสองเพศ', 'ไม่สามารถระบุได้/ไม่มั่นใจว่าเป็น', 'เล่าทั้งสองเพศ', 'เพศชาย', 'ไม่สามารถระบุได้/ไม่มั่นใจว่าเป็น', 'ไม่สามารถระบุได้/ไม่มั่นใจว่าเป็น', 'ไม่สามารถระบุได้/ไม่มั่นใจว่าเป็น', 'ไม่สามารถระบุได้/ไม่มั่นใจว่าเป็น', 'เพศชาย', 'เพศชาย', 'เพศชาย', 'เพศชาย', 'เพศหญิง', 'ไม่สามารถระบุได้/ไม่มั่นใจว่าเป็น', 'เพศชาย', 'เล่าทั้งสองเพศ', 'เล่าทั้งสองเพศ', 'ไม่สามารถระบุได้/ไม่มั่นใจว่าเป็น', 'เพศชาย', 'เพศชาย', 'ไม่สามารถระบุได้/ไม่มั่นใจว่าเป็น', 'ไม่สามารถระบุได้/ไม่มั่นใจว่าเป็น', 'ไม่สามารถระบุได้/ไม่มั่นใจว่าเป็น', 'ไม่สามารถระบุได้/ไม่มั่นใจว่าเป็น', 'ไม่สามารถระบุได้/ไม่มั่นใจว่าเป็น', 'ไม่สามารถระบุได้/ไม่มั่นใจว่าเป็น', 'ไม่สามารถระบุได้/ไม่มั่นใจว่าเป็น', 'เพศชาย', 'ไม่สามารถระบุได้/ไม่มั่นใจว่าเป็น', 'ไม่สามารถระบุได้/ไม่มั่นใจว่าเป็น', 'ไม่สามารถระบุได้/ไม่มั่นใจว่าเป็น', 'ไม่สามารถระบุได้/ไม่มั่นใจว่าเป็น', 'เล่าทั้งสองเพศ', 'ไม่สามารถระบุได้/ไม่มั่นใจว่าเป็น', 'ไม่สามารถระบุได้/ไม่มั่นใจว่าเป็น', 'ไม่สามารถระบุได้/ไม่มั่นใจว่าเป็น', 'เพศหญิง', 'เล่าทั้งสองเพศ', 'เพศหญิง', 'ไม่สามารถระบุได้/ไม่มั่นใจว่าเป็น', 'ไม่สามารถระบุได้/ไม่มั่นใจว่าเป็น', 'เพศหญิง', 'เพศชาย', 'เพศชาย', 'เพศชาย', 'เพศชาย', 'เล่าทั้งสองเพศ', 'ไม่สามารถระบุได้/ไม่มั่นใจว่าเป็น', 'เพศหญิง', 'ไม่สามารถระบุได้/ไม่มั่นใจว่าเป็น', 'เพศหญิง', 'ไม่สามารถระบุได้/ไม่มั่นใจว่าเป็น', 'เพศชาย', 'ไม่สามารถระบุได้/ไม่มั่นใจว่าเป็น', 'เพศหญิง', 'ไม่สามารถระบุได้/ไม่มั่นใจว่าเป็น', 'ไม่สามารถระบุได้/ไม่มั่นใจว่าเป็น', 'เพศชาย', 'ไม่สามารถระบุได้/ไม่มั่นใจว่าเป็น', 'ไม่สามารถระบุได้/ไม่มั่นใจว่าเป็น', 'เพศชาย', 'เล่าทั้งสองเพศ', 'เพศหญิง', 'เพศชาย', 'เล่าทั้งสองเพศ', 'ไม่สามารถระบุได้/ไม่มั่นใจว่าเป็น', 'ไม่สามารถระบุได้/ไม่มั่นใจว่าเป็น', 'ไม่สามารถระบุได้/ไม่มั่นใจว่าเป็น', 'เพศหญิง', 'เพศหญิง', 'เพศหญิง', 'ไม่สามารถระบุได้/ไม่มั่นใจว่าเป็น', 'ไม่สามารถระบุได้/ไม่มั่นใจว่าเป็น', 'ไม่สามารถระบุได้/ไม่มั่นใจว่าเป็น', 'ไม่สามารถระบุได้/ไม่มั่นใจว่าเป็น', 'ไม่สามารถระบุได้/ไม่มั่นใจว่าเป็น', 'ไม่สามารถระบุได้/ไม่มั่นใจว่าเป็น', 'เพศชาย', 'ไม่สามารถระบุได้/ไม่มั่นใจว่าเป็น', 'เพศชาย', 'เพศชาย', 'เพศชาย', 'ไม่สามารถระบุได้/ไม่มั่นใจว่าเป็น', 'ไม่สามารถระบุได้/ไม่มั่นใจว่าเป็น', 'เพศหญิง', 'เพศชาย', 'เพศชาย', 'ไม่สามารถระบุได้/ไม่มั่นใจว่าเป็น', 'ไม่สามารถระบุได้/ไม่มั่นใจว่าเป็น', 'เพศหญิง', 'ไม่สามารถระบุได้/ไม่มั่นใจว่าเป็น', 'เพศชาย', 'ไม่สามารถระบุได้/ไม่มั่นใจว่าเป็น', 'เพศชาย', 'เพศชาย', 'เล่าทั้งสองเพศ', 'เพศชาย', 'ไม่สามารถระบุได้/ไม่มั่นใจว่าเป็น', 'ไม่สามารถระบุได้/ไม่มั่นใจว่าเป็น', 'ไม่สามารถระบุได้/ไม่มั่นใจว่าเป็น', 'เพศหญิง', 'เพศหญิง', 'เพศชาย', 'ไม่สามารถระบุได้/ไม่มั่นใจว่าเป็น', 'เล่าทั้งสองเพศ', 'เพศหญิง', 'ไม่สามารถระบุได้/ไม่มั่นใจว่าเป็น', 'เพศหญิง', 'เพศชาย', 'ไม่สามารถระบุได้/ไม่มั่นใจว่าเป็น', 'เพศชาย', 'ไม่สามารถระบุได้/ไม่มั่นใจว่าเป็น', 'เพศชาย', 'ไม่สามารถระบุได้/ไม่มั่นใจว่าเป็น', 'เพศหญิง', 'เพศชาย', 'ไม่สามารถระบุได้/ไม่มั่นใจว่าเป็น', 'เพศชาย', 'เพศชาย', 'เพศชาย', 'ไม่สามารถระบุได้/ไม่มั่นใจว่าเป็น', 'ไม่สามารถระบุได้/ไม่มั่นใจว่าเป็น', 'ไม่สามารถระบุได้/ไม่มั่นใจว่าเป็น', 'ไม่สามารถระบุได้/ไม่มั่นใจว่าเป็น', 'เพศชาย', 'ไม่สามารถระบุได้/ไม่มั่นใจว่าเป็น', 'เพศชาย', 'เพศหญิง', 'เพศหญิง', 'เพศหญิง', 'เพศชาย', 'ไม่สามารถระบุได้/ไม่มั่นใจว่าเป็น', 'ไม่สามารถระบุได้/ไม่มั่นใจว่าเป็น', 'เพศชาย', 'ไม่สามารถระบุได้/ไม่มั่นใจว่าเป็น', 'ไม่สามารถระบุได้/ไม่มั่นใจว่าเป็น', 'ไม่สามารถระบุได้/ไม่มั่นใจว่าเป็น', 'ไม่สามารถระบุได้/ไม่มั่นใจว่าเป็น', 'ไม่สามารถระบุได้/ไม่มั่นใจว่าเป็น', 'ไม่สามารถระบุได้/ไม่มั่นใจว่าเป็น', 'ไม่สามารถระบุได้/ไม่มั่นใจว่าเป็น', 'ไม่สามารถระบุได้/ไม่มั่นใจว่าเป็น', 'เพศหญิง', 'เพศชาย', 'เพศหญิง', 'เพศหญิง', 'ไม่สามารถระบุได้/ไม่มั่นใจว่าเป็น', 'เพศชาย', 'เล่าทั้งสองเพศ', 'ไม่สามารถระบุได้/ไม่มั่นใจว่าเป็น', 'เพศหญิง', 'เพศชาย', 'ไม่สามารถระบุได้/ไม่มั่นใจว่าเป็น', 'เพศหญิง', 'ไม่สามารถระบุได้/ไม่มั่นใจว่าเป็น', 'ไม่สามารถระบุได้/ไม่มั่นใจว่าเป็น', 'เล่าทั้งสองเพศ', 'เพศชาย', 'ไม่สามารถระบุได้/ไม่มั่นใจว่าเป็น', 'ไม่สามารถระบุได้/ไม่มั่นใจว่าเป็น', 'ไม่สามารถระบุได้/ไม่มั่นใจว่าเป็น', 'เพศหญิง', 'เพศชาย', 'เพศชาย', 'ไม่สามารถระบุได้/ไม่มั่นใจว่าเป็น', 'ไม่สามารถระบุได้/ไม่มั่นใจว่าเป็น', 'เพศหญิง', 'ไม่สามารถระบุได้/ไม่มั่นใจว่าเป็น', 'เล่าทั้งสองเพศ', 'ไม่สามารถระบุได้/ไม่มั่นใจว่าเป็น', 'ไม่สามารถระบุได้/ไม่มั่นใจว่าเป็น', 'ไม่สามารถระบุได้/ไม่มั่นใจว่าเป็น', 'เพศชาย', 'เพศหญิง', 'ไม่สามารถระบุได้/ไม่มั่นใจว่าเป็น', 'เพศชาย', 'เพศชาย', 'ไม่สามารถระบุได้/ไม่มั่นใจว่าเป็น', 'เพศหญิง', 'ไม่สามารถระบุได้/ไม่มั่นใจว่าเป็น', 'เพศชาย', 'ไม่สามารถระบุได้/ไม่มั่นใจว่าเป็น', 'ไม่สามารถระบุได้/ไม่มั่นใจว่าเป็น', 'ไม่สามารถระบุได้/ไม่มั่นใจว่าเป็น', 'เพศชาย', 'เพศหญิง', 'เล่าทั้งสองเพศ', 'ไม่สามารถระบุได้/ไม่มั่นใจว่าเป็น', 'เพศชาย', 'เล่าทั้งสองเพศ', 'เพศชาย', 'ไม่สามารถระบุได้/ไม่มั่นใจว่าเป็น', 'เพศชาย', 'ไม่สามารถระบุได้/ไม่มั่นใจว่าเป็น', 'เพศหญิง', 'เพศชาย', 'เล่าทั้งสองเพศ', 'ไม่สามารถระบุได้/ไม่มั่นใจว่าเป็น', 'ไม่สามารถระบุได้/ไม่มั่นใจว่าเป็น', 'ไม่สามารถระบุได้/ไม่มั่นใจว่าเป็น', 'เล่าทั้งสองเพศ', 'เพศหญิง', 'ไม่สามารถระบุได้/ไม่มั่นใจว่าเป็น', 'ไม่สามารถระบุได้/ไม่มั่นใจว่าเป็น', 'ไม่สามารถระบุได้/ไม่มั่นใจว่าเป็น', 'เพศหญิง', 'เพศหญิง', 'เพศหญิง', 'ไม่สามารถระบุได้/ไม่มั่นใจว่าเป็น', 'เล่าทั้งสองเพศ', 'ไม่สามารถระบุได้/ไม่มั่นใจว่าเป็น', 'เพศหญิง', 'เพศหญิง', 'ไม่สามารถระบุได้/ไม่มั่นใจว่าเป็น', 'เพศชาย', 'เพศชาย', 'เพศหญิง', 'เพศชาย', 'เพศชาย', 'ไม่สามารถระบุได้/ไม่มั่นใจว่าเป็น', 'เพศหญิง', 'เพศชาย', 'เพศหญิง', 'ไม่สามารถระบุได้/ไม่มั่นใจว่าเป็น', 'ไม่สามารถระบุได้/ไม่มั่นใจว่าเป็น', 'ไม่สามารถระบุได้/ไม่มั่นใจว่าเป็น', 'เล่าทั้งสองเพศ', 'เพศหญิง', 'เพศชาย', 'เพศหญิง', 'เพศหญิง', 'ไม่สามารถระบุได้/ไม่มั่นใจว่าเป็น', 'เพศหญิง', 'เพศหญิง', 'เล่าทั้งสองเพศ', 'ไม่สามารถระบุได้/ไม่มั่นใจว่าเป็น', 'เพศชาย', 'ไม่สามารถระบุได้/ไม่มั่นใจว่าเป็น', 'เพศชาย', 'เพศหญิง', 'เพศหญิง', 'เพศชาย', 'เพศชาย', 'เพศชาย', 'เพศหญิง', 'ไม่สามารถระบุได้/ไม่มั่นใจว่าเป็น', 'ไม่สามารถระบุได้/ไม่มั่นใจว่าเป็น', 'ไม่สามารถระบุได้/ไม่มั่นใจว่าเป็น', 'ไม่สามารถระบุได้/ไม่มั่นใจว่าเป็น', 'ไม่สามารถระบุได้/ไม่มั่นใจว่าเป็น', 'เพศชาย', 'ไม่สามารถระบุได้/ไม่มั่นใจว่าเป็น', 'ไม่สามารถระบุได้/ไม่มั่นใจว่าเป็น', 'เพศหญิง', 'เพศชาย', 'ไม่สามารถระบุได้/ไม่มั่นใจว่าเป็น', 'เพศหญิง', 'เพศหญิง', 'เพศชาย', 'ไม่สามารถระบุได้/ไม่มั่นใจว่าเป็น', 'ไม่สามารถระบุได้/ไม่มั่นใจว่าเป็น', 'ไม่สามารถระบุได้/ไม่มั่นใจว่าเป็น', 'เพศชาย', 'เพศชาย', 'เพศชาย', 'ไม่สามารถระบุได้/ไม่มั่นใจว่าเป็น', 'ไม่สามารถระบุได้/ไม่มั่นใจว่าเป็น', 'ไม่สามารถระบุได้/ไม่มั่นใจว่าเป็น', 'ไม่สามารถระบุได้/ไม่มั่นใจว่าเป็น', 'เล่าทั้งสองเพศ', 'ไม่สามารถระบุได้/ไม่มั่นใจว่าเป็น', 'ไม่สามารถระบุได้/ไม่มั่นใจว่าเป็น', 'เพศหญิง', 'เพศชาย', 'เล่าทั้งสองเพศ', 'เพศชาย', 'ไม่สามารถระบุได้/ไม่มั่นใจว่าเป็น', 'ไม่สามารถระบุได้/ไม่มั่นใจว่าเป็น', 'เพศหญิง', 'ไม่สามารถระบุได้/ไม่มั่นใจว่าเป็น', 'เพศหญิง', 'เพศหญิง', 'เพศหญิง', 'ไม่สามารถระบุได้/ไม่มั่นใจว่าเป็น', 'เล่าทั้งสองเพศ', 'ไม่สามารถระบุได้/ไม่มั่นใจว่าเป็น', 'เพศหญิง', 'เพศชาย', 'เพศชาย', 'ไม่สามารถระบุได้/ไม่มั่นใจว่าเป็น', 'ไม่สามารถระบุได้/ไม่มั่นใจว่าเป็น', 'ไม่สามารถระบุได้/ไม่มั่นใจว่าเป็น', 'เพศชาย', 'ไม่สามารถระบุได้/ไม่มั่นใจว่าเป็น', 'เพศชาย', 'ไม่สามารถระบุได้/ไม่มั่นใจว่าเป็น', 'ไม่สามารถระบุได้/ไม่มั่นใจว่าเป็น', 'เพศหญิง', 'เล่าทั้งสองเพศ', 'ไม่สามารถระบุได้/ไม่มั่นใจว่าเป็น', 'เล่าทั้งสองเพศ', 'เพศชาย', 'เพศชาย', 'ไม่สามารถระบุได้/ไม่มั่นใจว่าเป็น', 'เพศชาย', 'ไม่สามารถระบุได้/ไม่มั่นใจว่าเป็น', 'เพศชาย', 'เล่าทั้งสองเพศ', 'ไม่สามารถระบุได้/ไม่มั่นใจว่าเป็น', 'เพศชาย', 'เพศหญิง', 'เพศหญิง', 'เพศชาย', 'ไม่สามารถระบุได้/ไม่มั่นใจว่าเป็น', 'เพศชาย', 'เพศชาย', 'เพศชาย', 'เล่าทั้งสองเพศ', 'เพศชาย', 'เพศชาย', 'ไม่สามารถระบุได้/ไม่มั่นใจว่าเป็น', 'ไม่สามารถระบุได้/ไม่มั่นใจว่าเป็น', 'เล่าทั้งสองเพศ', 'เพศหญิง', 'เพศหญิง', 'เพศหญิง', 'ไม่สามารถระบุได้/ไม่มั่นใจว่าเป็น', 'ไม่สามารถระบุได้/ไม่มั่นใจว่าเป็น', 'เล่าทั้งสองเพศ', 'เพศชาย', 'เล่าทั้งสองเพศ', 'ไม่สามารถระบุได้/ไม่มั่นใจว่าเป็น', 'เพศชาย', 'เพศชาย', 'เพศชาย', 'เล่าทั้งสองเพศ', 'เพศหญิง', 'ไม่สามารถระบุได้/ไม่มั่นใจว่าเป็น', 'ไม่สามารถระบุได้/ไม่มั่นใจว่าเป็น', 'เพศชาย', 'ไม่สามารถระบุได้/ไม่มั่นใจว่าเป็น', 'ไม่สามารถระบุได้/ไม่มั่นใจว่าเป็น', 'ไม่สามารถระบุได้/ไม่มั่นใจว่าเป็น', 'ไม่สามารถระบุได้/ไม่มั่นใจว่าเป็น', 'เพศหญิง', 'ไม่สามารถระบุได้/ไม่มั่นใจว่าเป็น', 'เพศหญิง', 'ไม่สามารถระบุได้/ไม่มั่นใจว่าเป็น', 'เพศชาย', 'ไม่สามารถระบุได้/ไม่มั่นใจว่าเป็น', 'ไม่สามารถระบุได้/ไม่มั่นใจว่าเป็น', 'ไม่สามารถระบุได้/ไม่มั่นใจว่าเป็น', 'เพศหญิง', 'ไม่สามารถระบุได้/ไม่มั่นใจว่าเป็น', 'เพศหญิง', 'เพศชาย', 'ไม่สามารถระบุได้/ไม่มั่นใจว่าเป็น', 'เพศชาย', 'เล่าทั้งสองเพศ', 'ไม่สามารถระบุได้/ไม่มั่นใจว่าเป็น', 'เพศชาย', 'เพศหญิง', 'ไม่สามารถระบุได้/ไม่มั่นใจว่าเป็น', 'เพศชาย', 'ไม่สามารถระบุได้/ไม่มั่นใจว่าเป็น', 'เล่าทั้งสองเพศ', 'เพศหญิง', 'ไม่สามารถระบุได้/ไม่มั่นใจว่าเป็น', 'เล่าทั้งสองเพศ', 'ไม่สามารถระบุได้/ไม่มั่นใจว่าเป็น', 'ไม่สามารถระบุได้/ไม่มั่นใจว่าเป็น', 'ไม่สามารถระบุได้/ไม่มั่นใจว่าเป็น', 'เพศหญิง', 'เพศชาย', 'ไม่สามารถระบุได้/ไม่มั่นใจว่าเป็น', 'ไม่สามารถระบุได้/ไม่มั่นใจว่าเป็น', 'เพศชาย', 'เพศชาย', 'ไม่สามารถระบุได้/ไม่มั่นใจว่าเป็น', 'ไม่สามารถระบุได้/ไม่มั่นใจว่าเป็น', 'ไม่สามารถระบุได้/ไม่มั่นใจว่าเป็น', 'ไม่สามารถระบุได้/ไม่มั่นใจว่าเป็น', 'เล่าทั้งสองเพศ', 'เพศหญิง', 'ไม่สามารถระบุได้/ไม่มั่นใจว่าเป็น', 'ไม่สามารถระบุได้/ไม่มั่นใจว่าเป็น', 'เพศหญิง', 'เพศชาย', 'เพศชาย', 'เพศหญิง', 'เล่าทั้งสองเพศ', 'เพศหญิง', 'เพศหญิง', 'เล่าทั้งสองเพศ', 'ไม่สามารถระบุได้/ไม่มั่นใจว่าเป็น', 'ไม่สามารถระบุได้/ไม่มั่นใจว่าเป็น', 'ไม่สามารถระบุได้/ไม่มั่นใจว่าเป็น', 'ไม่สามารถระบุได้/ไม่มั่นใจว่าเป็น', 'ไม่สามารถระบุได้/ไม่มั่นใจว่าเป็น', 'เพศหญิง', 'เพศชาย', 'เพศชาย', 'ไม่สามารถระบุได้/ไม่มั่นใจว่าเป็น', 'เพศหญิง', 'เพศหญิง', 'ไม่สามารถระบุได้/ไม่มั่นใจว่าเป็น', 'เล่าทั้งสองเพศ', 'ไม่สามารถระบุได้/ไม่มั่นใจว่าเป็น', 'เพศหญิง', 'ไม่สามารถระบุได้/ไม่มั่นใจว่าเป็น', 'ไม่สามารถระบุได้/ไม่มั่นใจว่าเป็น', 'เล่าทั้งสองเพศ', 'ไม่สามารถระบุได้/ไม่มั่นใจว่าเป็น', 'ไม่สามารถระบุได้/ไม่มั่นใจว่าเป็น', 'ไม่สามารถระบุได้/ไม่มั่นใจว่าเป็น', 'เพศชาย', 'ไม่สามารถระบุได้/ไม่มั่นใจว่าเป็น', 'ไม่สามารถระบุได้/ไม่มั่นใจว่าเป็น', 'เพศชาย', 'ไม่สามารถระบุได้/ไม่มั่นใจว่าเป็น', 'เพศชาย', 'เพศชาย', 'เพศชาย', 'เพศชาย', 'ไม่สามารถระบุได้/ไม่มั่นใจว่าเป็น', 'ไม่สามารถระบุได้/ไม่มั่นใจว่าเป็น', 'เพศชาย', 'เพศหญิง', 'ไม่สามารถระบุได้/ไม่มั่นใจว่าเป็น', 'เพศชาย', 'ไม่สามารถระบุได้/ไม่มั่นใจว่าเป็น', 'เล่าทั้งสองเพศ', 'เพศชาย', 'เพศหญิง', 'ไม่สามารถระบุได้/ไม่มั่นใจว่าเป็น', 'เพศชาย', 'เพศชาย', 'เพศหญิง', 'ไม่สามารถระบุได้/ไม่มั่นใจว่าเป็น', 'เพศชาย', 'เพศหญิง', 'เพศหญิง', 'ไม่สามารถระบุได้/ไม่มั่นใจว่าเป็น', 'ไม่สามารถระบุได้/ไม่มั่นใจว่าเป็น', 'เพศชาย', 'เพศหญิง', 'เพศหญิง', 'ไม่สามารถระบุได้/ไม่มั่นใจว่าเป็น', 'เพศหญิง', 'เพศหญิง', 'เพศหญิง', 'เพศชาย', 'เพศชาย', 'ไม่สามารถระบุได้/ไม่มั่นใจว่าเป็น', 'เพศชาย', 'เพศหญิง', 'เพศชาย', 'เพศหญิง', 'เพศหญิง', 'เพศชาย', 'เพศหญิง', 'เพศหญิง', 'เล่าทั้งสองเพศ', 'เล่าทั้งสองเพศ', 'ไม่สามารถระบุได้/ไม่มั่นใจว่าเป็น', 'เพศหญิง', 'ไม่สามารถระบุได้/ไม่มั่นใจว่าเป็น', 'ไม่สามารถระบุได้/ไม่มั่นใจว่าเป็น', 'เพศชาย', 'เพศหญิง', 'ไม่สามารถระบุได้/ไม่มั่นใจว่าเป็น', 'เพศชาย', 'เพศชาย', 'ไม่สามารถระบุได้/ไม่มั่นใจว่าเป็น', 'เพศหญิง', 'ไม่สามารถระบุได้/ไม่มั่นใจว่าเป็น', 'ไม่สามารถระบุได้/ไม่มั่นใจว่าเป็น', 'เพศหญิง', 'เพศหญิง', 'เพศหญิง', 'ไม่สามารถระบุได้/ไม่มั่นใจว่าเป็น', 'เพศหญิง', 'เพศชาย', 'ไม่สามารถระบุได้/ไม่มั่นใจว่าเป็น', 'เพศชาย', 'เล่าทั้งสองเพศ', 'ไม่สามารถระบุได้/ไม่มั่นใจว่าเป็น', 'ไม่สามารถระบุได้/ไม่มั่นใจว่าเป็น', 'ไม่สามารถระบุได้/ไม่มั่นใจว่าเป็น', 'เพศหญิง', 'ไม่สามารถระบุได้/ไม่มั่นใจว่าเป็น', 'ไม่สามารถระบุได้/ไม่มั่นใจว่าเป็น', 'ไม่สามารถระบุได้/ไม่มั่นใจว่าเป็น', 'เล่าทั้งสองเพศ', 'ไม่สามารถระบุได้/ไม่มั่นใจว่าเป็น', 'ไม่สามารถระบุได้/ไม่มั่นใจว่าเป็น', 'ไม่สามารถระบุได้/ไม่มั่นใจว่าเป็น', 'ไม่สามารถระบุได้/ไม่มั่นใจว่าเป็น', 'ไม่สามารถระบุได้/ไม่มั่นใจว่าเป็น', 'เพศชาย', 'เพศชาย', 'เพศชาย', 'เพศชาย', 'ไม่สามารถระบุได้/ไม่มั่นใจว่าเป็น', 'เพศหญิง', 'ไม่สามารถระบุได้/ไม่มั่นใจว่าเป็น', 'เพศชาย', 'ไม่สามารถระบุได้/ไม่มั่นใจว่าเป็น', 'ไม่สามารถระบุได้/ไม่มั่นใจว่าเป็น', 'ไม่สามารถระบุได้/ไม่มั่นใจว่าเป็น', 'ไม่สามารถระบุได้/ไม่มั่นใจว่าเป็น', 'เพศชาย', 'เพศชาย', 'เพศหญิง', 'เพศชาย', 'เพศชาย', 'เพศชาย', 'ไม่สามารถระบุได้/ไม่มั่นใจว่าเป็น', 'ไม่สามารถระบุได้/ไม่มั่นใจว่าเป็น', 'ไม่สามารถระบุได้/ไม่มั่นใจว่าเป็น', 'ไม่สามารถระบุได้/ไม่มั่นใจว่าเป็น', 'เพศหญิง', 'เพศหญิง', 'เพศชาย', 'เพศชาย', 'ไม่สามารถระบุได้/ไม่มั่นใจว่าเป็น', 'เพศชาย', 'ไม่สามารถระบุได้/ไม่มั่นใจว่าเป็น', 'ไม่สามารถระบุได้/ไม่มั่นใจว่าเป็น', 'เพศชาย', 'ไม่สามารถระบุได้/ไม่มั่นใจว่าเป็น', 'ไม่สามารถระบุได้/ไม่มั่นใจว่าเป็น', 'ไม่สามารถระบุได้/ไม่มั่นใจว่าเป็น', 'เพศชาย', 'เพศชาย', 'เพศชาย', 'เพศหญิง', 'เพศชาย', 'ไม่สามารถระบุได้/ไม่มั่นใจว่าเป็น', 'เพศชาย', 'เพศหญิง', 'เพศหญิง', 'ไม่สามารถระบุได้/ไม่มั่นใจว่าเป็น', 'เพศหญิง', 'ไม่สามารถระบุได้/ไม่มั่นใจว่าเป็น', 'เล่าทั้งสองเพศ', 'เพศชาย', 'เพศชาย', 'เล่าทั้งสองเพศ', 'เพศหญิง', 'ไม่สามารถระบุได้/ไม่มั่นใจว่าเป็น', 'เพศชาย', 'ไม่สามารถระบุได้/ไม่มั่นใจว่าเป็น', 'เพศหญิง', 'เพศหญิง', 'ไม่สามารถระบุได้/ไม่มั่นใจว่าเป็น', 'ไม่สามารถระบุได้/ไม่มั่นใจว่าเป็น', 'ไม่สามารถระบุได้/ไม่มั่นใจว่าเป็น', 'เล่าทั้งสองเพศ', 'ไม่สามารถระบุได้/ไม่มั่นใจว่าเป็น', 'ไม่สามารถระบุได้/ไม่มั่นใจว่าเป็น', 'เล่าทั้งสองเพศ', 'เพศชาย', 'เพศหญิง', 'ไม่สามารถระบุได้/ไม่มั่นใจว่าเป็น', 'เพศหญิง', 'ไม่สามารถระบุได้/ไม่มั่นใจว่าเป็น', 'เพศหญิง', 'เพศชาย', 'ไม่สามารถระบุได้/ไม่มั่นใจว่าเป็น', 'ไม่สามารถระบุได้/ไม่มั่นใจว่าเป็น', 'เพศหญิง', 'ไม่สามารถระบุได้/ไม่มั่นใจว่าเป็น', 'เล่าทั้งสองเพศ', 'ไม่สามารถระบุได้/ไม่มั่นใจว่าเป็น', 'เล่าทั้งสองเพศ', 'ไม่สามารถระบุได้/ไม่มั่นใจว่าเป็น', 'ไม่สามารถระบุได้/ไม่มั่นใจว่าเป็น', 'ไม่สามารถระบุได้/ไม่มั่นใจว่าเป็น', 'เล่าทั้งสองเพศ', 'เล่าทั้งสองเพศ', 'เพศชาย', 'ไม่สามารถระบุได้/ไม่มั่นใจว่าเป็น', 'ไม่สามารถระบุได้/ไม่มั่นใจว่าเป็น', 'เพศหญิง', 'เพศชาย', 'เพศหญิง', 'ไม่สามารถระบุได้/ไม่มั่นใจว่าเป็น', 'ไม่สามารถระบุได้/ไม่มั่นใจว่าเป็น', 'เพศหญิง', 'ไม่สามารถระบุได้/ไม่มั่นใจว่าเป็น', 'ไม่สามารถระบุได้/ไม่มั่นใจว่าเป็น', 'เพศหญิง', 'เล่าทั้งสองเพศ', 'ไม่สามารถระบุได้/ไม่มั่นใจว่าเป็น', 'ไม่สามารถระบุได้/ไม่มั่นใจว่าเป็น', 'ไม่สามารถระบุได้/ไม่มั่นใจว่าเป็น', 'เพศชาย', 'เพศชาย', 'ไม่สามารถระบุได้/ไม่มั่นใจว่าเป็น', 'เล่าทั้งสองเพศ', 'ไม่สามารถระบุได้/ไม่มั่นใจว่าเป็น', 'ไม่สามารถระบุได้/ไม่มั่นใจว่าเป็น', 'เพศหญิง', 'ไม่สามารถระบุได้/ไม่มั่นใจว่าเป็น', 'เพศชาย', 'เล่าทั้งสองเพศ', 'เพศชาย', 'เพศชาย', 'เพศชาย', 'เพศหญิง', 'ไม่สามารถระบุได้/ไม่มั่นใจว่าเป็น', 'ไม่สามารถระบุได้/ไม่มั่นใจว่าเป็น', 'เพศชาย', 'เล่าทั้งสองเพศ', 'ไม่สามารถระบุได้/ไม่มั่นใจว่าเป็น', 'ไม่สามารถระบุได้/ไม่มั่นใจว่าเป็น', 'เล่าทั้งสองเพศ', 'ไม่สามารถระบุได้/ไม่มั่นใจว่าเป็น', 'เพศชาย', 'เพศชาย', 'ไม่สามารถระบุได้/ไม่มั่นใจว่าเป็น', 'เล่าทั้งสองเพศ', 'ไม่สามารถระบุได้/ไม่มั่นใจว่าเป็น', 'ไม่สามารถระบุได้/ไม่มั่นใจว่าเป็น', 'ไม่สามารถระบุได้/ไม่มั่นใจว่าเป็น', 'ไม่สามารถระบุได้/ไม่มั่นใจว่าเป็น', 'เล่าทั้งสองเพศ', 'เพศชาย', 'เพศชาย', 'ไม่สามารถระบุได้/ไม่มั่นใจว่าเป็น', 'ไม่สามารถระบุได้/ไม่มั่นใจว่าเป็น', 'ไม่สามารถระบุได้/ไม่มั่นใจว่าเป็น', 'เพศหญิง', 'เล่าทั้งสองเพศ', 'ไม่สามารถระบุได้/ไม่มั่นใจว่าเป็น', 'เพศชาย', 'ไม่สามารถระบุได้/ไม่มั่นใจว่าเป็น', 'ไม่สามารถระบุได้/ไม่มั่นใจว่าเป็น', 'ไม่สามารถระบุได้/ไม่มั่นใจว่าเป็น', 'เพศหญิง', 'ไม่สามารถระบุได้/ไม่มั่นใจว่าเป็น', 'เพศชาย', 'ไม่สามารถระบุได้/ไม่มั่นใจว่าเป็น', 'เพศหญิง', 'เล่าทั้งสองเพศ', 'ไม่สามารถระบุได้/ไม่มั่นใจว่าเป็น', 'ไม่สามารถระบุได้/ไม่มั่นใจว่าเป็น', 'ไม่สามารถระบุได้/ไม่มั่นใจว่าเป็น', 'เพศชาย', 'เล่าทั้งสองเพศ', 'ไม่สามารถระบุได้/ไม่มั่นใจว่าเป็น', 'ไม่สามารถระบุได้/ไม่มั่นใจว่าเป็น', 'เพศหญิง', 'ไม่สามารถระบุได้/ไม่มั่นใจว่าเป็น', 'ไม่สามารถระบุได้/ไม่มั่นใจว่าเป็น', 'ไม่สามารถระบุได้/ไม่มั่นใจว่าเป็น', 'เพศหญิง', 'ไม่สามารถระบุได้/ไม่มั่นใจว่าเป็น', 'เพศชาย', 'เพศชาย', 'ไม่สามารถระบุได้/ไม่มั่นใจว่าเป็น', 'เล่าทั้งสองเพศ', 'ไม่สามารถระบุได้/ไม่มั่นใจว่าเป็น', 'ไม่สามารถระบุได้/ไม่มั่นใจว่าเป็น', 'เพศหญิง', 'เพศชาย', 'เล่าทั้งสองเพศ', 'ไม่สามารถระบุได้/ไม่มั่นใจว่าเป็น', 'ไม่สามารถระบุได้/ไม่มั่นใจว่าเป็น', 'ไม่สามารถระบุได้/ไม่มั่นใจว่าเป็น', 'เพศหญิง', 'เล่าทั้งสองเพศ', 'ไม่สามารถระบุได้/ไม่มั่นใจว่าเป็น', 'เพศชาย', 'ไม่สามารถระบุได้/ไม่มั่นใจว่าเป็น', 'เพศชาย', 'ไม่สามารถระบุได้/ไม่มั่นใจว่าเป็น', 'ไม่สามารถระบุได้/ไม่มั่นใจว่าเป็น', 'เพศชาย', 'เพศชาย', 'เพศชาย', 'ไม่สามารถระบุได้/ไม่มั่นใจว่าเป็น', 'เพศชาย', 'เพศชาย', 'ไม่สามารถระบุได้/ไม่มั่นใจว่าเป็น', 'ไม่สามารถระบุได้/ไม่มั่นใจว่าเป็น', 'ไม่สามารถระบุได้/ไม่มั่นใจว่าเป็น', 'เพศหญิง', 'ไม่สามารถระบุได้/ไม่มั่นใจว่าเป็น', 'ไม่สามารถระบุได้/ไม่มั่นใจว่าเป็น', 'ไม่สามารถระบุได้/ไม่มั่นใจว่าเป็น', 'ไม่สามารถระบุได้/ไม่มั่นใจว่าเป็น', 'เพศหญิง', 'เพศชาย', 'เพศชาย', 'ไม่สามารถระบุได้/ไม่มั่นใจว่าเป็น', 'ไม่สามารถระบุได้/ไม่มั่นใจว่าเป็น', 'เล่าทั้งสองเพศ', 'เพศหญิง', 'เล่าทั้งสองเพศ', 'เพศชาย', 'ไม่สามารถระบุได้/ไม่มั่นใจว่าเป็น', 'เพศชาย', 'เพศหญิง', 'ไม่สามารถระบุได้/ไม่มั่นใจว่าเป็น', 'เพศชาย', 'เพศชาย', 'เพศชาย', 'เพศชาย', 'เพศชาย', 'ไม่สามารถระบุได้/ไม่มั่นใจว่าเป็น', 'เพศชาย', 'ไม่สามารถระบุได้/ไม่มั่นใจว่าเป็น', 'ไม่สามารถระบุได้/ไม่มั่นใจว่าเป็น', 'ไม่สามารถระบุได้/ไม่มั่นใจว่าเป็น', 'ไม่สามารถระบุได้/ไม่มั่นใจว่าเป็น', 'ไม่สามารถระบุได้/ไม่มั่นใจว่าเป็น', 'ไม่สามารถระบุได้/ไม่มั่นใจว่าเป็น', 'เพศชาย', 'ไม่สามารถระบุได้/ไม่มั่นใจว่าเป็น', 'ไม่สามารถระบุได้/ไม่มั่นใจว่าเป็น', 'เพศหญิง', 'เพศชาย', 'ไม่สามารถระบุได้/ไม่มั่นใจว่าเป็น', 'ไม่สามารถระบุได้/ไม่มั่นใจว่าเป็น', 'เพศชาย', 'ไม่สามารถระบุได้/ไม่มั่นใจว่าเป็น', 'เพศหญิง', 'ไม่สามารถระบุได้/ไม่มั่นใจว่าเป็น', 'เล่าทั้งสองเพศ', 'ไม่สามารถระบุได้/ไม่มั่นใจว่าเป็น', 'เพศหญิง', 'เพศชาย', 'ไม่สามารถระบุได้/ไม่มั่นใจว่าเป็น', 'เพศหญิง', 'เพศชาย', 'ไม่สามารถระบุได้/ไม่มั่นใจว่าเป็น', 'ไม่สามารถระบุได้/ไม่มั่นใจว่าเป็น', 'ไม่สามารถระบุได้/ไม่มั่นใจว่าเป็น', 'เพศชาย', 'ไม่สามารถระบุได้/ไม่มั่นใจว่าเป็น', 'ไม่สามารถระบุได้/ไม่มั่นใจว่าเป็น', 'ไม่สามารถระบุได้/ไม่มั่นใจว่าเป็น', 'เพศชาย', 'ไม่สามารถระบุได้/ไม่มั่นใจว่าเป็น', 'ไม่สามารถระบุได้/ไม่มั่นใจว่าเป็น', 'เพศหญิง', 'เพศชาย', 'ไม่สามารถระบุได้/ไม่มั่นใจว่าเป็น', 'เพศหญิง', 'เล่าทั้งสองเพศ', 'ไม่สามารถระบุได้/ไม่มั่นใจว่าเป็น', 'เล่าทั้งสองเพศ', 'ไม่สามารถระบุได้/ไม่มั่นใจว่าเป็น', 'ไม่สามารถระบุได้/ไม่มั่นใจว่าเป็น', 'เพศชาย', 'ไม่สามารถระบุได้/ไม่มั่นใจว่าเป็น', 'เพศหญิง', 'เล่าทั้งสองเพศ', 'เล่าทั้งสองเพศ', 'ไม่สามารถระบุได้/ไม่มั่นใจว่าเป็น', 'ไม่สามารถระบุได้/ไม่มั่นใจว่าเป็น', 'เล่าทั้งสองเพศ', 'เพศหญิง', 'เพศหญิง', 'เพศชาย', 'เพศหญิง', 'เพศชาย', 'เพศหญิง', 'เพศหญิง', 'ไม่สามารถระบุได้/ไม่มั่นใจว่าเป็น', 'เพศชาย', 'ไม่สามารถระบุได้/ไม่มั่นใจว่าเป็น', 'เล่าทั้งสองเพศ', 'เล่าทั้งสองเพศ', 'เล่าทั้งสองเพศ', 'เพศหญิง', 'ไม่สามารถระบุได้/ไม่มั่นใจว่าเป็น', 'ไม่สามารถระบุได้/ไม่มั่นใจว่าเป็น', 'ไม่สามารถระบุได้/ไม่มั่นใจว่าเป็น', 'ไม่สามารถระบุได้/ไม่มั่นใจว่าเป็น', 'เพศชาย', 'ไม่สามารถระบุได้/ไม่มั่นใจว่าเป็น', 'เพศหญิง', 'ไม่สามารถระบุได้/ไม่มั่นใจว่าเป็น', 'ไม่สามารถระบุได้/ไม่มั่นใจว่าเป็น', 'เพศหญิง', 'ไม่สามารถระบุได้/ไม่มั่นใจว่าเป็น', 'เพศหญิง', 'ไม่สามารถระบุได้/ไม่มั่นใจว่าเป็น', 'เพศหญิง', 'ไม่สามารถระบุได้/ไม่มั่นใจว่าเป็น', 'เล่าทั้งสองเพศ', 'ไม่สามารถระบุได้/ไม่มั่นใจว่าเป็น', 'ไม่สามารถระบุได้/ไม่มั่นใจว่าเป็น', 'เพศชาย', 'ไม่สามารถระบุได้/ไม่มั่นใจว่าเป็น', 'ไม่สามารถระบุได้/ไม่มั่นใจว่าเป็น', 'เล่าทั้งสองเพศ', 'เพศหญิง', 'เพศชาย', 'ไม่สามารถระบุได้/ไม่มั่นใจว่าเป็น', 'เพศชาย', 'ไม่สามารถระบุได้/ไม่มั่นใจว่าเป็น', 'ไม่สามารถระบุได้/ไม่มั่นใจว่าเป็น', 'ไม่สามารถระบุได้/ไม่มั่นใจว่าเป็น', 'ไม่สามารถระบุได้/ไม่มั่นใจว่าเป็น', 'ไม่สามารถระบุได้/ไม่มั่นใจว่าเป็น', 'เพศหญิง', 'เพศหญิง', 'ไม่สามารถระบุได้/ไม่มั่นใจว่าเป็น', 'เล่าทั้งสองเพศ']\n"
          ]
        }
      ]
    },
    {
      "cell_type": "code",
      "source": [
        "len(new_colgenden)"
      ],
      "metadata": {
        "colab": {
          "base_uri": "https://localhost:8080/"
        },
        "id": "ktIUxXuukJza",
        "outputId": "dafd03e8-7834-4423-8c69-2bc82026f907"
      },
      "execution_count": 116,
      "outputs": [
        {
          "output_type": "execute_result",
          "data": {
            "text/plain": [
              "1038"
            ]
          },
          "metadata": {},
          "execution_count": 116
        }
      ]
    }
  ]
}