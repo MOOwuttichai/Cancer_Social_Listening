{
  "nbformat": 4,
  "nbformat_minor": 0,
  "metadata": {
    "colab": {
      "provenance": [],
      "authorship_tag": "ABX9TyMF1M1NdgrfEjRfRwqeOQep",
      "include_colab_link": true
    },
    "kernelspec": {
      "name": "python3",
      "display_name": "Python 3"
    },
    "language_info": {
      "name": "python"
    }
  },
  "cells": [
    {
      "cell_type": "markdown",
      "metadata": {
        "id": "view-in-github",
        "colab_type": "text"
      },
      "source": [
        "<a href=\"https://colab.research.google.com/github/MOOwuttichai/Cancer_Social_Listening/blob/main/%E0%B8%94%E0%B8%B6%E0%B8%87%E0%B8%82%E0%B9%89%E0%B8%AD%E0%B8%A1%E0%B8%B9%E0%B8%A5_comment_%E0%B8%88%E0%B8%B2%E0%B8%81%E0%B9%80%E0%B8%A7%E0%B9%87%E0%B8%9B%E0%B9%84%E0%B8%8B%E0%B8%95%E0%B9%8C_Reddit_ipynb.ipynb\" target=\"_parent\"><img src=\"https://colab.research.google.com/assets/colab-badge.svg\" alt=\"Open In Colab\"/></a>"
      ]
    },
    {
      "cell_type": "code",
      "execution_count": null,
      "metadata": {
        "id": "hffan_tSDX2G"
      },
      "outputs": [],
      "source": [
        "from bs4 import BeautifulSoup\n",
        "from selenium import webdriver\n",
        "from selenium.webdriver.support.ui import WebDriverWait\n",
        "from selenium.webdriver.common.by import By\n",
        "from selenium.webdriver.support import expected_conditions as EC\n",
        "from selenium.common.exceptions import TimeoutException\n",
        "import time\n",
        "import pandas as pd\n",
        "names=[]\n",
        "comments=[]\n",
        "data = pd.DataFrame()\n",
        "\n",
        "options = webdriver.ChromeOptions()\n",
        "driver = webdriver.Chrome(options=options)\n",
        "url = 'https://www.reddit.com/r/memes/comments/1c6yxj9/most_useless_feature/'\n",
        "driver.get(url)\n",
        "for i in range(0,1) :\n",
        "    driver.execute_script(\"window.scrollTo(0, document.body.scrollHeight)\")\n",
        "    wait = WebDriverWait(driver, 60)\n",
        "    time.sleep(3)\n",
        "    l = driver.find_element(\"xpath\",'//*[@id=\"comment-tree\"]/faceplate-partial/div[1]/button')\n",
        "    if l == driver.find_element(\"xpath\",'//*[@id=\"comment-tree\"]/faceplate-partial/div[1]/button') :\n",
        "        l.click()\n",
        "        driver.execute_script(\"window.scrollTo(0, document.body.scrollHeight)\")\n",
        "        wait = WebDriverWait(driver, 60)\n",
        "        time.sleep(3)\n",
        "    else :\n",
        "        break\n",
        "time.sleep(5)\n",
        "html =  BeautifulSoup(driver.page_source, \"html.parser\")\n",
        "result = html.find_all('div',{\"class\":\"py-0 xs:mx-xs mx-2xs inline-block max-w-full\"})\n",
        "name = html.find_all('a',{\"class\":\"truncate font-bold text-neutral-content-strong text-12 hover:underline\"})\n",
        "for item in result:\n",
        "    comments.append(item.text)\n",
        "for item in name :\n",
        "    names.append(item.text)\n",
        "data['name'] = names\n",
        "data['comments'] = comments\n",
        "data=data.applymap(lambda x: \" \".join(x.split()) if isinstance(x, str) else x)\n",
        "print(data)\n"
      ]
    }
  ]
}