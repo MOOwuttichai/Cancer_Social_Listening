{
  "cells": [
    {
      "cell_type": "markdown",
      "metadata": {
        "id": "view-in-github",
        "colab_type": "text"
      },
      "source": [
        "<a href=\"https://colab.research.google.com/github/MOOwuttichai/Cancer_Social_Listening/blob/main/%E0%B8%9A%E0%B8%AD%E0%B8%81%E0%B9%82%E0%B8%A3%E0%B8%84%2B%E0%B9%80%E0%B8%9E%E0%B8%A8%2B%E0%B9%83%E0%B8%84%E0%B8%A3%E0%B9%80%E0%B8%9B%E0%B9%87%E0%B8%99%E0%B8%84%E0%B8%99%E0%B9%80%E0%B8%A5%E0%B9%88%E0%B8%B2%2BSentenceTransformer.ipynb\" target=\"_parent\"><img src=\"https://colab.research.google.com/assets/colab-badge.svg\" alt=\"Open In Colab\"/></a>"
      ]
    },
    {
      "cell_type": "code",
      "execution_count": null,
      "metadata": {
        "colab": {
          "base_uri": "https://localhost:8080/"
        },
        "id": "F81G_rLRjgRM",
        "outputId": "d7327543-ff43-47aa-e450-4ac35e6b3477"
      },
      "outputs": [
        {
          "name": "stdout",
          "output_type": "stream",
          "text": [
            "Collecting attacut\n",
            "  Downloading attacut-1.0.6-py3-none-any.whl (1.3 MB)\n",
            "\u001b[2K     \u001b[90m━━━━━━━━━━━━━━━━━━━━━━━━━━━━━━━━━━━━━━━━\u001b[0m \u001b[32m1.3/1.3 MB\u001b[0m \u001b[31m9.3 MB/s\u001b[0m eta \u001b[36m0:00:00\u001b[0m\n",
            "\u001b[?25hCollecting docopt>=0.6.2 (from attacut)\n",
            "  Downloading docopt-0.6.2.tar.gz (25 kB)\n",
            "  Preparing metadata (setup.py) ... \u001b[?25l\u001b[?25hdone\n",
            "Collecting fire>=0.1.3 (from attacut)\n",
            "  Downloading fire-0.6.0.tar.gz (88 kB)\n",
            "\u001b[2K     \u001b[90m━━━━━━━━━━━━━━━━━━━━━━━━━━━━━━━━━━━━━━━━\u001b[0m \u001b[32m88.4/88.4 kB\u001b[0m \u001b[31m2.7 MB/s\u001b[0m eta \u001b[36m0:00:00\u001b[0m\n",
            "\u001b[?25h  Preparing metadata (setup.py) ... \u001b[?25l\u001b[?25hdone\n",
            "Collecting nptyping>=0.2.0 (from attacut)\n",
            "  Downloading nptyping-2.5.0-py3-none-any.whl (37 kB)\n",
            "Requirement already satisfied: numpy>=1.17.0 in /usr/local/lib/python3.10/dist-packages (from attacut) (1.25.2)\n",
            "Requirement already satisfied: pyyaml>=5.1.2 in /usr/local/lib/python3.10/dist-packages (from attacut) (6.0.1)\n",
            "Requirement already satisfied: six>=1.12.0 in /usr/local/lib/python3.10/dist-packages (from attacut) (1.16.0)\n",
            "Collecting ssg>=0.0.4 (from attacut)\n",
            "  Downloading ssg-0.0.8-py3-none-any.whl (473 kB)\n",
            "\u001b[2K     \u001b[90m━━━━━━━━━━━━━━━━━━━━━━━━━━━━━━━━━━━━━━━━\u001b[0m \u001b[32m473.8/473.8 kB\u001b[0m \u001b[31m15.7 MB/s\u001b[0m eta \u001b[36m0:00:00\u001b[0m\n",
            "\u001b[?25hRequirement already satisfied: torch>=1.2.0 in /usr/local/lib/python3.10/dist-packages (from attacut) (2.3.0+cu121)\n",
            "Requirement already satisfied: termcolor in /usr/local/lib/python3.10/dist-packages (from fire>=0.1.3->attacut) (2.4.0)\n",
            "Collecting python-crfsuite>=0.9.6 (from ssg>=0.0.4->attacut)\n",
            "  Downloading python_crfsuite-0.9.10-cp310-cp310-manylinux_2_17_x86_64.manylinux2014_x86_64.whl (1.1 MB)\n",
            "\u001b[2K     \u001b[90m━━━━━━━━━━━━━━━━━━━━━━━━━━━━━━━━━━━━━━━━\u001b[0m \u001b[32m1.1/1.1 MB\u001b[0m \u001b[31m15.6 MB/s\u001b[0m eta \u001b[36m0:00:00\u001b[0m\n",
            "\u001b[?25hRequirement already satisfied: tqdm>=4.32.2 in /usr/local/lib/python3.10/dist-packages (from ssg>=0.0.4->attacut) (4.66.4)\n",
            "Requirement already satisfied: filelock in /usr/local/lib/python3.10/dist-packages (from torch>=1.2.0->attacut) (3.14.0)\n",
            "Requirement already satisfied: typing-extensions>=4.8.0 in /usr/local/lib/python3.10/dist-packages (from torch>=1.2.0->attacut) (4.12.2)\n",
            "Requirement already satisfied: sympy in /usr/local/lib/python3.10/dist-packages (from torch>=1.2.0->attacut) (1.12.1)\n",
            "Requirement already satisfied: networkx in /usr/local/lib/python3.10/dist-packages (from torch>=1.2.0->attacut) (3.3)\n",
            "Requirement already satisfied: jinja2 in /usr/local/lib/python3.10/dist-packages (from torch>=1.2.0->attacut) (3.1.4)\n",
            "Requirement already satisfied: fsspec in /usr/local/lib/python3.10/dist-packages (from torch>=1.2.0->attacut) (2023.6.0)\n",
            "Collecting nvidia-cuda-nvrtc-cu12==12.1.105 (from torch>=1.2.0->attacut)\n",
            "  Using cached nvidia_cuda_nvrtc_cu12-12.1.105-py3-none-manylinux1_x86_64.whl (23.7 MB)\n",
            "Collecting nvidia-cuda-runtime-cu12==12.1.105 (from torch>=1.2.0->attacut)\n",
            "  Using cached nvidia_cuda_runtime_cu12-12.1.105-py3-none-manylinux1_x86_64.whl (823 kB)\n",
            "Collecting nvidia-cuda-cupti-cu12==12.1.105 (from torch>=1.2.0->attacut)\n",
            "  Using cached nvidia_cuda_cupti_cu12-12.1.105-py3-none-manylinux1_x86_64.whl (14.1 MB)\n",
            "Collecting nvidia-cudnn-cu12==8.9.2.26 (from torch>=1.2.0->attacut)\n",
            "  Using cached nvidia_cudnn_cu12-8.9.2.26-py3-none-manylinux1_x86_64.whl (731.7 MB)\n",
            "Collecting nvidia-cublas-cu12==12.1.3.1 (from torch>=1.2.0->attacut)\n",
            "  Using cached nvidia_cublas_cu12-12.1.3.1-py3-none-manylinux1_x86_64.whl (410.6 MB)\n",
            "Collecting nvidia-cufft-cu12==11.0.2.54 (from torch>=1.2.0->attacut)\n",
            "  Using cached nvidia_cufft_cu12-11.0.2.54-py3-none-manylinux1_x86_64.whl (121.6 MB)\n",
            "Collecting nvidia-curand-cu12==10.3.2.106 (from torch>=1.2.0->attacut)\n",
            "  Using cached nvidia_curand_cu12-10.3.2.106-py3-none-manylinux1_x86_64.whl (56.5 MB)\n",
            "Collecting nvidia-cusolver-cu12==11.4.5.107 (from torch>=1.2.0->attacut)\n",
            "  Using cached nvidia_cusolver_cu12-11.4.5.107-py3-none-manylinux1_x86_64.whl (124.2 MB)\n",
            "Collecting nvidia-cusparse-cu12==12.1.0.106 (from torch>=1.2.0->attacut)\n",
            "  Using cached nvidia_cusparse_cu12-12.1.0.106-py3-none-manylinux1_x86_64.whl (196.0 MB)\n",
            "Collecting nvidia-nccl-cu12==2.20.5 (from torch>=1.2.0->attacut)\n",
            "  Using cached nvidia_nccl_cu12-2.20.5-py3-none-manylinux2014_x86_64.whl (176.2 MB)\n",
            "Collecting nvidia-nvtx-cu12==12.1.105 (from torch>=1.2.0->attacut)\n",
            "  Using cached nvidia_nvtx_cu12-12.1.105-py3-none-manylinux1_x86_64.whl (99 kB)\n",
            "Requirement already satisfied: triton==2.3.0 in /usr/local/lib/python3.10/dist-packages (from torch>=1.2.0->attacut) (2.3.0)\n",
            "Collecting nvidia-nvjitlink-cu12 (from nvidia-cusolver-cu12==11.4.5.107->torch>=1.2.0->attacut)\n",
            "  Downloading nvidia_nvjitlink_cu12-12.5.40-py3-none-manylinux2014_x86_64.whl (21.3 MB)\n",
            "\u001b[2K     \u001b[90m━━━━━━━━━━━━━━━━━━━━━━━━━━━━━━━━━━━━━━━━\u001b[0m \u001b[32m21.3/21.3 MB\u001b[0m \u001b[31m59.3 MB/s\u001b[0m eta \u001b[36m0:00:00\u001b[0m\n",
            "\u001b[?25hRequirement already satisfied: MarkupSafe>=2.0 in /usr/local/lib/python3.10/dist-packages (from jinja2->torch>=1.2.0->attacut) (2.1.5)\n",
            "Requirement already satisfied: mpmath<1.4.0,>=1.1.0 in /usr/local/lib/python3.10/dist-packages (from sympy->torch>=1.2.0->attacut) (1.3.0)\n",
            "Building wheels for collected packages: docopt, fire\n",
            "  Building wheel for docopt (setup.py) ... \u001b[?25l\u001b[?25hdone\n",
            "  Created wheel for docopt: filename=docopt-0.6.2-py2.py3-none-any.whl size=13706 sha256=e5999faff32b5e563d434f3aff736fa88aaa210070a52287cbd266dd86bd19da\n",
            "  Stored in directory: /root/.cache/pip/wheels/fc/ab/d4/5da2067ac95b36618c629a5f93f809425700506f72c9732fac\n",
            "  Building wheel for fire (setup.py) ... \u001b[?25l\u001b[?25hdone\n",
            "  Created wheel for fire: filename=fire-0.6.0-py2.py3-none-any.whl size=117029 sha256=b9fa02d75961b60f2a2303c928eaea40272e334cb5c0ce3ad8197789619cab12\n",
            "  Stored in directory: /root/.cache/pip/wheels/d6/6d/5d/5b73fa0f46d01a793713f8859201361e9e581ced8c75e5c6a3\n",
            "Successfully built docopt fire\n",
            "Installing collected packages: python-crfsuite, docopt, nvidia-nvtx-cu12, nvidia-nvjitlink-cu12, nvidia-nccl-cu12, nvidia-curand-cu12, nvidia-cufft-cu12, nvidia-cuda-runtime-cu12, nvidia-cuda-nvrtc-cu12, nvidia-cuda-cupti-cu12, nvidia-cublas-cu12, nptyping, fire, ssg, nvidia-cusparse-cu12, nvidia-cudnn-cu12, nvidia-cusolver-cu12, attacut\n",
            "Successfully installed attacut-1.0.6 docopt-0.6.2 fire-0.6.0 nptyping-2.5.0 nvidia-cublas-cu12-12.1.3.1 nvidia-cuda-cupti-cu12-12.1.105 nvidia-cuda-nvrtc-cu12-12.1.105 nvidia-cuda-runtime-cu12-12.1.105 nvidia-cudnn-cu12-8.9.2.26 nvidia-cufft-cu12-11.0.2.54 nvidia-curand-cu12-10.3.2.106 nvidia-cusolver-cu12-11.4.5.107 nvidia-cusparse-cu12-12.1.0.106 nvidia-nccl-cu12-2.20.5 nvidia-nvjitlink-cu12-12.5.40 nvidia-nvtx-cu12-12.1.105 python-crfsuite-0.9.10 ssg-0.0.8\n",
            "Collecting pythainlp\n",
            "  Downloading pythainlp-5.0.4-py3-none-any.whl (17.9 MB)\n",
            "\u001b[2K     \u001b[90m━━━━━━━━━━━━━━━━━━━━━━━━━━━━━━━━━━━━━━━━\u001b[0m \u001b[32m17.9/17.9 MB\u001b[0m \u001b[31m47.1 MB/s\u001b[0m eta \u001b[36m0:00:00\u001b[0m\n",
            "\u001b[?25hRequirement already satisfied: requests>=2.22.0 in /usr/local/lib/python3.10/dist-packages (from pythainlp) (2.31.0)\n",
            "Requirement already satisfied: charset-normalizer<4,>=2 in /usr/local/lib/python3.10/dist-packages (from requests>=2.22.0->pythainlp) (3.3.2)\n",
            "Requirement already satisfied: idna<4,>=2.5 in /usr/local/lib/python3.10/dist-packages (from requests>=2.22.0->pythainlp) (3.7)\n",
            "Requirement already satisfied: urllib3<3,>=1.21.1 in /usr/local/lib/python3.10/dist-packages (from requests>=2.22.0->pythainlp) (2.0.7)\n",
            "Requirement already satisfied: certifi>=2017.4.17 in /usr/local/lib/python3.10/dist-packages (from requests>=2.22.0->pythainlp) (2024.6.2)\n",
            "Installing collected packages: pythainlp\n",
            "Successfully installed pythainlp-5.0.4\n",
            "Collecting epitran\n",
            "  Downloading epitran-1.25-py2.py3-none-any.whl (173 kB)\n",
            "\u001b[2K     \u001b[90m━━━━━━━━━━━━━━━━━━━━━━━━━━━━━━━━━━━━━━━━\u001b[0m \u001b[32m173.7/173.7 kB\u001b[0m \u001b[31m3.7 MB/s\u001b[0m eta \u001b[36m0:00:00\u001b[0m\n",
            "\u001b[?25hRequirement already satisfied: setuptools in /usr/local/lib/python3.10/dist-packages (from epitran) (67.7.2)\n",
            "Requirement already satisfied: regex in /usr/local/lib/python3.10/dist-packages (from epitran) (2024.5.15)\n",
            "Collecting panphon>=0.20 (from epitran)\n",
            "  Downloading panphon-0.20.0-py2.py3-none-any.whl (73 kB)\n",
            "\u001b[2K     \u001b[90m━━━━━━━━━━━━━━━━━━━━━━━━━━━━━━━━━━━━━━━━\u001b[0m \u001b[32m73.6/73.6 kB\u001b[0m \u001b[31m4.5 MB/s\u001b[0m eta \u001b[36m0:00:00\u001b[0m\n",
            "\u001b[?25hRequirement already satisfied: marisa-trie in /usr/local/lib/python3.10/dist-packages (from epitran) (1.2.0)\n",
            "Requirement already satisfied: requests in /usr/local/lib/python3.10/dist-packages (from epitran) (2.31.0)\n",
            "Collecting unicodecsv (from panphon>=0.20->epitran)\n",
            "  Downloading unicodecsv-0.14.1.tar.gz (10 kB)\n",
            "  Preparing metadata (setup.py) ... \u001b[?25l\u001b[?25hdone\n",
            "Requirement already satisfied: PyYAML in /usr/local/lib/python3.10/dist-packages (from panphon>=0.20->epitran) (6.0.1)\n",
            "Requirement already satisfied: numpy>=1.20.2 in /usr/local/lib/python3.10/dist-packages (from panphon>=0.20->epitran) (1.25.2)\n",
            "Requirement already satisfied: editdistance in /usr/local/lib/python3.10/dist-packages (from panphon>=0.20->epitran) (0.6.2)\n",
            "Collecting munkres (from panphon>=0.20->epitran)\n",
            "  Downloading munkres-1.1.4-py2.py3-none-any.whl (7.0 kB)\n",
            "Requirement already satisfied: charset-normalizer<4,>=2 in /usr/local/lib/python3.10/dist-packages (from requests->epitran) (3.3.2)\n",
            "Requirement already satisfied: idna<4,>=2.5 in /usr/local/lib/python3.10/dist-packages (from requests->epitran) (3.7)\n",
            "Requirement already satisfied: urllib3<3,>=1.21.1 in /usr/local/lib/python3.10/dist-packages (from requests->epitran) (2.0.7)\n",
            "Requirement already satisfied: certifi>=2017.4.17 in /usr/local/lib/python3.10/dist-packages (from requests->epitran) (2024.6.2)\n",
            "Building wheels for collected packages: unicodecsv\n",
            "  Building wheel for unicodecsv (setup.py) ... \u001b[?25l\u001b[?25hdone\n",
            "  Created wheel for unicodecsv: filename=unicodecsv-0.14.1-py3-none-any.whl size=10746 sha256=c2a979347932032e37c30b545b698daa0b89d92836017dc0c36f3fb6748f11e0\n",
            "  Stored in directory: /root/.cache/pip/wheels/9c/ea/66/8e45247b09052a933eb1a680b7c64802298faba58aac9b346b\n",
            "Successfully built unicodecsv\n",
            "Installing collected packages: unicodecsv, munkres, panphon, epitran\n",
            "Successfully installed epitran-1.25 munkres-1.1.4 panphon-0.20.0 unicodecsv-0.14.1\n",
            "Collecting sentence-transformers\n",
            "  Downloading sentence_transformers-3.0.1-py3-none-any.whl (227 kB)\n",
            "\u001b[2K     \u001b[90m━━━━━━━━━━━━━━━━━━━━━━━━━━━━━━━━━━━━━━━━\u001b[0m \u001b[32m227.1/227.1 kB\u001b[0m \u001b[31m4.9 MB/s\u001b[0m eta \u001b[36m0:00:00\u001b[0m\n",
            "\u001b[?25hRequirement already satisfied: transformers<5.0.0,>=4.34.0 in /usr/local/lib/python3.10/dist-packages (from sentence-transformers) (4.41.2)\n",
            "Requirement already satisfied: tqdm in /usr/local/lib/python3.10/dist-packages (from sentence-transformers) (4.66.4)\n",
            "Requirement already satisfied: torch>=1.11.0 in /usr/local/lib/python3.10/dist-packages (from sentence-transformers) (2.3.0+cu121)\n",
            "Requirement already satisfied: numpy in /usr/local/lib/python3.10/dist-packages (from sentence-transformers) (1.25.2)\n",
            "Requirement already satisfied: scikit-learn in /usr/local/lib/python3.10/dist-packages (from sentence-transformers) (1.2.2)\n",
            "Requirement already satisfied: scipy in /usr/local/lib/python3.10/dist-packages (from sentence-transformers) (1.11.4)\n",
            "Requirement already satisfied: huggingface-hub>=0.15.1 in /usr/local/lib/python3.10/dist-packages (from sentence-transformers) (0.23.3)\n",
            "Requirement already satisfied: Pillow in /usr/local/lib/python3.10/dist-packages (from sentence-transformers) (9.4.0)\n",
            "Requirement already satisfied: filelock in /usr/local/lib/python3.10/dist-packages (from huggingface-hub>=0.15.1->sentence-transformers) (3.14.0)\n",
            "Requirement already satisfied: fsspec>=2023.5.0 in /usr/local/lib/python3.10/dist-packages (from huggingface-hub>=0.15.1->sentence-transformers) (2023.6.0)\n",
            "Requirement already satisfied: packaging>=20.9 in /usr/local/lib/python3.10/dist-packages (from huggingface-hub>=0.15.1->sentence-transformers) (24.1)\n",
            "Requirement already satisfied: pyyaml>=5.1 in /usr/local/lib/python3.10/dist-packages (from huggingface-hub>=0.15.1->sentence-transformers) (6.0.1)\n",
            "Requirement already satisfied: requests in /usr/local/lib/python3.10/dist-packages (from huggingface-hub>=0.15.1->sentence-transformers) (2.31.0)\n",
            "Requirement already satisfied: typing-extensions>=3.7.4.3 in /usr/local/lib/python3.10/dist-packages (from huggingface-hub>=0.15.1->sentence-transformers) (4.12.2)\n",
            "Requirement already satisfied: sympy in /usr/local/lib/python3.10/dist-packages (from torch>=1.11.0->sentence-transformers) (1.12.1)\n",
            "Requirement already satisfied: networkx in /usr/local/lib/python3.10/dist-packages (from torch>=1.11.0->sentence-transformers) (3.3)\n",
            "Requirement already satisfied: jinja2 in /usr/local/lib/python3.10/dist-packages (from torch>=1.11.0->sentence-transformers) (3.1.4)\n",
            "Requirement already satisfied: nvidia-cuda-nvrtc-cu12==12.1.105 in /usr/local/lib/python3.10/dist-packages (from torch>=1.11.0->sentence-transformers) (12.1.105)\n",
            "Requirement already satisfied: nvidia-cuda-runtime-cu12==12.1.105 in /usr/local/lib/python3.10/dist-packages (from torch>=1.11.0->sentence-transformers) (12.1.105)\n",
            "Requirement already satisfied: nvidia-cuda-cupti-cu12==12.1.105 in /usr/local/lib/python3.10/dist-packages (from torch>=1.11.0->sentence-transformers) (12.1.105)\n",
            "Requirement already satisfied: nvidia-cudnn-cu12==8.9.2.26 in /usr/local/lib/python3.10/dist-packages (from torch>=1.11.0->sentence-transformers) (8.9.2.26)\n",
            "Requirement already satisfied: nvidia-cublas-cu12==12.1.3.1 in /usr/local/lib/python3.10/dist-packages (from torch>=1.11.0->sentence-transformers) (12.1.3.1)\n",
            "Requirement already satisfied: nvidia-cufft-cu12==11.0.2.54 in /usr/local/lib/python3.10/dist-packages (from torch>=1.11.0->sentence-transformers) (11.0.2.54)\n",
            "Requirement already satisfied: nvidia-curand-cu12==10.3.2.106 in /usr/local/lib/python3.10/dist-packages (from torch>=1.11.0->sentence-transformers) (10.3.2.106)\n",
            "Requirement already satisfied: nvidia-cusolver-cu12==11.4.5.107 in /usr/local/lib/python3.10/dist-packages (from torch>=1.11.0->sentence-transformers) (11.4.5.107)\n",
            "Requirement already satisfied: nvidia-cusparse-cu12==12.1.0.106 in /usr/local/lib/python3.10/dist-packages (from torch>=1.11.0->sentence-transformers) (12.1.0.106)\n",
            "Requirement already satisfied: nvidia-nccl-cu12==2.20.5 in /usr/local/lib/python3.10/dist-packages (from torch>=1.11.0->sentence-transformers) (2.20.5)\n",
            "Requirement already satisfied: nvidia-nvtx-cu12==12.1.105 in /usr/local/lib/python3.10/dist-packages (from torch>=1.11.0->sentence-transformers) (12.1.105)\n",
            "Requirement already satisfied: triton==2.3.0 in /usr/local/lib/python3.10/dist-packages (from torch>=1.11.0->sentence-transformers) (2.3.0)\n",
            "Requirement already satisfied: nvidia-nvjitlink-cu12 in /usr/local/lib/python3.10/dist-packages (from nvidia-cusolver-cu12==11.4.5.107->torch>=1.11.0->sentence-transformers) (12.5.40)\n",
            "Requirement already satisfied: regex!=2019.12.17 in /usr/local/lib/python3.10/dist-packages (from transformers<5.0.0,>=4.34.0->sentence-transformers) (2024.5.15)\n",
            "Requirement already satisfied: tokenizers<0.20,>=0.19 in /usr/local/lib/python3.10/dist-packages (from transformers<5.0.0,>=4.34.0->sentence-transformers) (0.19.1)\n",
            "Requirement already satisfied: safetensors>=0.4.1 in /usr/local/lib/python3.10/dist-packages (from transformers<5.0.0,>=4.34.0->sentence-transformers) (0.4.3)\n",
            "Requirement already satisfied: joblib>=1.1.1 in /usr/local/lib/python3.10/dist-packages (from scikit-learn->sentence-transformers) (1.4.2)\n",
            "Requirement already satisfied: threadpoolctl>=2.0.0 in /usr/local/lib/python3.10/dist-packages (from scikit-learn->sentence-transformers) (3.5.0)\n",
            "Requirement already satisfied: MarkupSafe>=2.0 in /usr/local/lib/python3.10/dist-packages (from jinja2->torch>=1.11.0->sentence-transformers) (2.1.5)\n",
            "Requirement already satisfied: charset-normalizer<4,>=2 in /usr/local/lib/python3.10/dist-packages (from requests->huggingface-hub>=0.15.1->sentence-transformers) (3.3.2)\n",
            "Requirement already satisfied: idna<4,>=2.5 in /usr/local/lib/python3.10/dist-packages (from requests->huggingface-hub>=0.15.1->sentence-transformers) (3.7)\n",
            "Requirement already satisfied: urllib3<3,>=1.21.1 in /usr/local/lib/python3.10/dist-packages (from requests->huggingface-hub>=0.15.1->sentence-transformers) (2.0.7)\n",
            "Requirement already satisfied: certifi>=2017.4.17 in /usr/local/lib/python3.10/dist-packages (from requests->huggingface-hub>=0.15.1->sentence-transformers) (2024.6.2)\n",
            "Requirement already satisfied: mpmath<1.4.0,>=1.1.0 in /usr/local/lib/python3.10/dist-packages (from sympy->torch>=1.11.0->sentence-transformers) (1.3.0)\n",
            "Installing collected packages: sentence-transformers\n",
            "Successfully installed sentence-transformers-3.0.1\n"
          ]
        }
      ],
      "source": [
        "!pip install attacut\n",
        "!pip install pythainlp\n",
        "!pip install epitran\n",
        "!pip install -U sentence-transformers"
      ]
    },
    {
      "cell_type": "code",
      "execution_count": null,
      "metadata": {
        "colab": {
          "base_uri": "https://localhost:8080/"
        },
        "id": "oiQWlnJ8jncz",
        "outputId": "42136743-7c6a-4783-a794-b27c65eb46cb"
      },
      "outputs": [
        {
          "name": "stdout",
          "output_type": "stream",
          "text": [
            "Mounted at /content/drive\n"
          ]
        }
      ],
      "source": [
        "import pandas as pd\n",
        "from google.colab import drive\n",
        "from attacut import tokenize, Tokenizer\n",
        "import pythainlp\n",
        "from pythainlp import sent_tokenize, word_tokenize, Tokenizer\n",
        "from pythainlp.util import normalize\n",
        "from pythainlp.corpus.common import thai_words\n",
        "from collections import OrderedDict\n",
        "import matplotlib as mpl\n",
        "import numpy as np\n",
        "from sklearn.cluster import KMeans\n",
        "drive.mount('/content/drive')"
      ]
    },
    {
      "cell_type": "code",
      "execution_count": null,
      "metadata": {
        "id": "ebFplI_Fjqc0"
      },
      "outputs": [],
      "source": [
        "data = pd.read_csv('/content/drive/MyDrive/Carbon/data/data_commentsFB_docter.csv')"
      ]
    },
    {
      "cell_type": "code",
      "execution_count": null,
      "metadata": {
        "id": "bzA1zy7nUm7E"
      },
      "outputs": [],
      "source": [
        "data.rename(columns={'name': 'ชื่อ', 'comments': 'คำพูดโรค'}, inplace=True)"
      ]
    },
    {
      "cell_type": "code",
      "execution_count": null,
      "metadata": {
        "colab": {
          "base_uri": "https://localhost:8080/",
          "height": 423
        },
        "id": "m9MzFlwrVIxt",
        "outputId": "6c650860-2397-4076-9a16-f39819d137f5"
      },
      "outputs": [
        {
          "data": {
            "application/vnd.google.colaboratory.intrinsic+json": {
              "summary": "{\n  \"name\": \"data\",\n  \"rows\": 1666,\n  \"fields\": [\n    {\n      \"column\": \"\\u0e0a\\u0e37\\u0e48\\u0e2d\",\n      \"properties\": {\n        \"dtype\": \"string\",\n        \"num_unique_values\": 1623,\n        \"samples\": [\n          \"Wanida Tadthong\",\n          \"Reina Ross Lancret\",\n          \"Raphat Sangeumram\"\n        ],\n        \"semantic_type\": \"\",\n        \"description\": \"\"\n      }\n    },\n    {\n      \"column\": \"\\u0e04\\u0e33\\u0e1e\\u0e39\\u0e14\\u0e42\\u0e23\\u0e04\",\n      \"properties\": {\n        \"dtype\": \"string\",\n        \"num_unique_values\": 1641,\n        \"samples\": [\n          \"Supansa Srimala \\u0e01\\u0e38\\u0e15\\u0e49\\u0e2d\\u0e07\\u0e23\\u0e35\\u0e1a\\u0e44\\u0e1b\\u0e15\\u0e23\\u0e27\\u0e08\\u0e25\\u0e30\",\n          \"Anchisa Oungtrakool\",\n          \"Day Aof Walinee Sangsawang \\u0e19\\u0e1e\\u0e04\\u0e38\\u0e13 \\u0e2a\\u0e32\\u0e22\\u0e2a\\u0e39\\u0e07 Naiyanan Saisoong Pratoom Narathee Pattamaporn Saisoong\"\n        ],\n        \"semantic_type\": \"\",\n        \"description\": \"\"\n      }\n    }\n  ]\n}",
              "type": "dataframe",
              "variable_name": "data"
            },
            "text/html": [
              "\n",
              "  <div id=\"df-02af3fce-d328-4c7c-bb59-35d9fa9d98b8\" class=\"colab-df-container\">\n",
              "    <div>\n",
              "<style scoped>\n",
              "    .dataframe tbody tr th:only-of-type {\n",
              "        vertical-align: middle;\n",
              "    }\n",
              "\n",
              "    .dataframe tbody tr th {\n",
              "        vertical-align: top;\n",
              "    }\n",
              "\n",
              "    .dataframe thead th {\n",
              "        text-align: right;\n",
              "    }\n",
              "</style>\n",
              "<table border=\"1\" class=\"dataframe\">\n",
              "  <thead>\n",
              "    <tr style=\"text-align: right;\">\n",
              "      <th></th>\n",
              "      <th>ชื่อ</th>\n",
              "      <th>คำพูดโรค</th>\n",
              "    </tr>\n",
              "  </thead>\n",
              "  <tbody>\n",
              "    <tr>\n",
              "      <th>0</th>\n",
              "      <td>ศ.นพ.ชวลิต ศูนย์มะเร็ง รพ.จุฬาลงกรณ์</td>\n",
              "      <td>กดที่ลิงค์นี้เพื่อเข้าไปอ่านคอมเม้นของโพสต์ครั...</td>\n",
              "    </tr>\n",
              "    <tr>\n",
              "      <th>1</th>\n",
              "      <td>Nubeer Kithiya</td>\n",
              "      <td>เป็นมะเร็งลำไส้ใหญ่ ระยะที่ 3 ตอนอายุ 26 ค่ะ พ...</td>\n",
              "    </tr>\n",
              "    <tr>\n",
              "      <th>2</th>\n",
              "      <td>Pam Prechanont</td>\n",
              "      <td>คุณแม่เป็นมะเร็งเม็ดเลือดขาวแบบเฉียบพลันค่ะ คุ...</td>\n",
              "    </tr>\n",
              "    <tr>\n",
              "      <th>3</th>\n",
              "      <td>Ize Atitya</td>\n",
              "      <td>ลูกสาว 5 ขวบ เป็นมะเร็งสมองคะ ไม่มีอาการอะไร น...</td>\n",
              "    </tr>\n",
              "    <tr>\n",
              "      <th>4</th>\n",
              "      <td>นู๋นิด ขนิษฐา</td>\n",
              "      <td>ขอให้เรื่องราวของพ่อกับพี่ชายเราเป็นวิทยาทานแก...</td>\n",
              "    </tr>\n",
              "    <tr>\n",
              "      <th>...</th>\n",
              "      <td>...</td>\n",
              "      <td>...</td>\n",
              "    </tr>\n",
              "    <tr>\n",
              "      <th>1661</th>\n",
              "      <td>Ba'ra Reer</td>\n",
              "      <td>Chanakan Phetpisal มาอ่าน</td>\n",
              "    </tr>\n",
              "    <tr>\n",
              "      <th>1662</th>\n",
              "      <td>Jirawat Tee</td>\n",
              "      <td>Jitladda Thonglukkeaw มาแชเร้ว ได้บุนนะ</td>\n",
              "    </tr>\n",
              "    <tr>\n",
              "      <th>1663</th>\n",
              "      <td>Punnapa Kampinitkulladet</td>\n",
              "      <td>Kamta Auttakan</td>\n",
              "    </tr>\n",
              "    <tr>\n",
              "      <th>1664</th>\n",
              "      <td>Chanikarn Tinmuean</td>\n",
              "      <td>อนุชา มีลาภ</td>\n",
              "    </tr>\n",
              "    <tr>\n",
              "      <th>1665</th>\n",
              "      <td>Nattavadee Ice Maneechot</td>\n",
              "      <td>Na Nat Fari Kawa II Herbara Binti Abdullah Ras...</td>\n",
              "    </tr>\n",
              "  </tbody>\n",
              "</table>\n",
              "<p>1666 rows × 2 columns</p>\n",
              "</div>\n",
              "    <div class=\"colab-df-buttons\">\n",
              "\n",
              "  <div class=\"colab-df-container\">\n",
              "    <button class=\"colab-df-convert\" onclick=\"convertToInteractive('df-02af3fce-d328-4c7c-bb59-35d9fa9d98b8')\"\n",
              "            title=\"Convert this dataframe to an interactive table.\"\n",
              "            style=\"display:none;\">\n",
              "\n",
              "  <svg xmlns=\"http://www.w3.org/2000/svg\" height=\"24px\" viewBox=\"0 -960 960 960\">\n",
              "    <path d=\"M120-120v-720h720v720H120Zm60-500h600v-160H180v160Zm220 220h160v-160H400v160Zm0 220h160v-160H400v160ZM180-400h160v-160H180v160Zm440 0h160v-160H620v160ZM180-180h160v-160H180v160Zm440 0h160v-160H620v160Z\"/>\n",
              "  </svg>\n",
              "    </button>\n",
              "\n",
              "  <style>\n",
              "    .colab-df-container {\n",
              "      display:flex;\n",
              "      gap: 12px;\n",
              "    }\n",
              "\n",
              "    .colab-df-convert {\n",
              "      background-color: #E8F0FE;\n",
              "      border: none;\n",
              "      border-radius: 50%;\n",
              "      cursor: pointer;\n",
              "      display: none;\n",
              "      fill: #1967D2;\n",
              "      height: 32px;\n",
              "      padding: 0 0 0 0;\n",
              "      width: 32px;\n",
              "    }\n",
              "\n",
              "    .colab-df-convert:hover {\n",
              "      background-color: #E2EBFA;\n",
              "      box-shadow: 0px 1px 2px rgba(60, 64, 67, 0.3), 0px 1px 3px 1px rgba(60, 64, 67, 0.15);\n",
              "      fill: #174EA6;\n",
              "    }\n",
              "\n",
              "    .colab-df-buttons div {\n",
              "      margin-bottom: 4px;\n",
              "    }\n",
              "\n",
              "    [theme=dark] .colab-df-convert {\n",
              "      background-color: #3B4455;\n",
              "      fill: #D2E3FC;\n",
              "    }\n",
              "\n",
              "    [theme=dark] .colab-df-convert:hover {\n",
              "      background-color: #434B5C;\n",
              "      box-shadow: 0px 1px 3px 1px rgba(0, 0, 0, 0.15);\n",
              "      filter: drop-shadow(0px 1px 2px rgba(0, 0, 0, 0.3));\n",
              "      fill: #FFFFFF;\n",
              "    }\n",
              "  </style>\n",
              "\n",
              "    <script>\n",
              "      const buttonEl =\n",
              "        document.querySelector('#df-02af3fce-d328-4c7c-bb59-35d9fa9d98b8 button.colab-df-convert');\n",
              "      buttonEl.style.display =\n",
              "        google.colab.kernel.accessAllowed ? 'block' : 'none';\n",
              "\n",
              "      async function convertToInteractive(key) {\n",
              "        const element = document.querySelector('#df-02af3fce-d328-4c7c-bb59-35d9fa9d98b8');\n",
              "        const dataTable =\n",
              "          await google.colab.kernel.invokeFunction('convertToInteractive',\n",
              "                                                    [key], {});\n",
              "        if (!dataTable) return;\n",
              "\n",
              "        const docLinkHtml = 'Like what you see? Visit the ' +\n",
              "          '<a target=\"_blank\" href=https://colab.research.google.com/notebooks/data_table.ipynb>data table notebook</a>'\n",
              "          + ' to learn more about interactive tables.';\n",
              "        element.innerHTML = '';\n",
              "        dataTable['output_type'] = 'display_data';\n",
              "        await google.colab.output.renderOutput(dataTable, element);\n",
              "        const docLink = document.createElement('div');\n",
              "        docLink.innerHTML = docLinkHtml;\n",
              "        element.appendChild(docLink);\n",
              "      }\n",
              "    </script>\n",
              "  </div>\n",
              "\n",
              "\n",
              "<div id=\"df-71ab7bb5-01e8-490d-9f69-961ed3f8ef38\">\n",
              "  <button class=\"colab-df-quickchart\" onclick=\"quickchart('df-71ab7bb5-01e8-490d-9f69-961ed3f8ef38')\"\n",
              "            title=\"Suggest charts\"\n",
              "            style=\"display:none;\">\n",
              "\n",
              "<svg xmlns=\"http://www.w3.org/2000/svg\" height=\"24px\"viewBox=\"0 0 24 24\"\n",
              "     width=\"24px\">\n",
              "    <g>\n",
              "        <path d=\"M19 3H5c-1.1 0-2 .9-2 2v14c0 1.1.9 2 2 2h14c1.1 0 2-.9 2-2V5c0-1.1-.9-2-2-2zM9 17H7v-7h2v7zm4 0h-2V7h2v10zm4 0h-2v-4h2v4z\"/>\n",
              "    </g>\n",
              "</svg>\n",
              "  </button>\n",
              "\n",
              "<style>\n",
              "  .colab-df-quickchart {\n",
              "      --bg-color: #E8F0FE;\n",
              "      --fill-color: #1967D2;\n",
              "      --hover-bg-color: #E2EBFA;\n",
              "      --hover-fill-color: #174EA6;\n",
              "      --disabled-fill-color: #AAA;\n",
              "      --disabled-bg-color: #DDD;\n",
              "  }\n",
              "\n",
              "  [theme=dark] .colab-df-quickchart {\n",
              "      --bg-color: #3B4455;\n",
              "      --fill-color: #D2E3FC;\n",
              "      --hover-bg-color: #434B5C;\n",
              "      --hover-fill-color: #FFFFFF;\n",
              "      --disabled-bg-color: #3B4455;\n",
              "      --disabled-fill-color: #666;\n",
              "  }\n",
              "\n",
              "  .colab-df-quickchart {\n",
              "    background-color: var(--bg-color);\n",
              "    border: none;\n",
              "    border-radius: 50%;\n",
              "    cursor: pointer;\n",
              "    display: none;\n",
              "    fill: var(--fill-color);\n",
              "    height: 32px;\n",
              "    padding: 0;\n",
              "    width: 32px;\n",
              "  }\n",
              "\n",
              "  .colab-df-quickchart:hover {\n",
              "    background-color: var(--hover-bg-color);\n",
              "    box-shadow: 0 1px 2px rgba(60, 64, 67, 0.3), 0 1px 3px 1px rgba(60, 64, 67, 0.15);\n",
              "    fill: var(--button-hover-fill-color);\n",
              "  }\n",
              "\n",
              "  .colab-df-quickchart-complete:disabled,\n",
              "  .colab-df-quickchart-complete:disabled:hover {\n",
              "    background-color: var(--disabled-bg-color);\n",
              "    fill: var(--disabled-fill-color);\n",
              "    box-shadow: none;\n",
              "  }\n",
              "\n",
              "  .colab-df-spinner {\n",
              "    border: 2px solid var(--fill-color);\n",
              "    border-color: transparent;\n",
              "    border-bottom-color: var(--fill-color);\n",
              "    animation:\n",
              "      spin 1s steps(1) infinite;\n",
              "  }\n",
              "\n",
              "  @keyframes spin {\n",
              "    0% {\n",
              "      border-color: transparent;\n",
              "      border-bottom-color: var(--fill-color);\n",
              "      border-left-color: var(--fill-color);\n",
              "    }\n",
              "    20% {\n",
              "      border-color: transparent;\n",
              "      border-left-color: var(--fill-color);\n",
              "      border-top-color: var(--fill-color);\n",
              "    }\n",
              "    30% {\n",
              "      border-color: transparent;\n",
              "      border-left-color: var(--fill-color);\n",
              "      border-top-color: var(--fill-color);\n",
              "      border-right-color: var(--fill-color);\n",
              "    }\n",
              "    40% {\n",
              "      border-color: transparent;\n",
              "      border-right-color: var(--fill-color);\n",
              "      border-top-color: var(--fill-color);\n",
              "    }\n",
              "    60% {\n",
              "      border-color: transparent;\n",
              "      border-right-color: var(--fill-color);\n",
              "    }\n",
              "    80% {\n",
              "      border-color: transparent;\n",
              "      border-right-color: var(--fill-color);\n",
              "      border-bottom-color: var(--fill-color);\n",
              "    }\n",
              "    90% {\n",
              "      border-color: transparent;\n",
              "      border-bottom-color: var(--fill-color);\n",
              "    }\n",
              "  }\n",
              "</style>\n",
              "\n",
              "  <script>\n",
              "    async function quickchart(key) {\n",
              "      const quickchartButtonEl =\n",
              "        document.querySelector('#' + key + ' button');\n",
              "      quickchartButtonEl.disabled = true;  // To prevent multiple clicks.\n",
              "      quickchartButtonEl.classList.add('colab-df-spinner');\n",
              "      try {\n",
              "        const charts = await google.colab.kernel.invokeFunction(\n",
              "            'suggestCharts', [key], {});\n",
              "      } catch (error) {\n",
              "        console.error('Error during call to suggestCharts:', error);\n",
              "      }\n",
              "      quickchartButtonEl.classList.remove('colab-df-spinner');\n",
              "      quickchartButtonEl.classList.add('colab-df-quickchart-complete');\n",
              "    }\n",
              "    (() => {\n",
              "      let quickchartButtonEl =\n",
              "        document.querySelector('#df-71ab7bb5-01e8-490d-9f69-961ed3f8ef38 button');\n",
              "      quickchartButtonEl.style.display =\n",
              "        google.colab.kernel.accessAllowed ? 'block' : 'none';\n",
              "    })();\n",
              "  </script>\n",
              "</div>\n",
              "\n",
              "  <div id=\"id_41697aee-8b11-4a26-a93c-c1d8a618a24b\">\n",
              "    <style>\n",
              "      .colab-df-generate {\n",
              "        background-color: #E8F0FE;\n",
              "        border: none;\n",
              "        border-radius: 50%;\n",
              "        cursor: pointer;\n",
              "        display: none;\n",
              "        fill: #1967D2;\n",
              "        height: 32px;\n",
              "        padding: 0 0 0 0;\n",
              "        width: 32px;\n",
              "      }\n",
              "\n",
              "      .colab-df-generate:hover {\n",
              "        background-color: #E2EBFA;\n",
              "        box-shadow: 0px 1px 2px rgba(60, 64, 67, 0.3), 0px 1px 3px 1px rgba(60, 64, 67, 0.15);\n",
              "        fill: #174EA6;\n",
              "      }\n",
              "\n",
              "      [theme=dark] .colab-df-generate {\n",
              "        background-color: #3B4455;\n",
              "        fill: #D2E3FC;\n",
              "      }\n",
              "\n",
              "      [theme=dark] .colab-df-generate:hover {\n",
              "        background-color: #434B5C;\n",
              "        box-shadow: 0px 1px 3px 1px rgba(0, 0, 0, 0.15);\n",
              "        filter: drop-shadow(0px 1px 2px rgba(0, 0, 0, 0.3));\n",
              "        fill: #FFFFFF;\n",
              "      }\n",
              "    </style>\n",
              "    <button class=\"colab-df-generate\" onclick=\"generateWithVariable('data')\"\n",
              "            title=\"Generate code using this dataframe.\"\n",
              "            style=\"display:none;\">\n",
              "\n",
              "  <svg xmlns=\"http://www.w3.org/2000/svg\" height=\"24px\"viewBox=\"0 0 24 24\"\n",
              "       width=\"24px\">\n",
              "    <path d=\"M7,19H8.4L18.45,9,17,7.55,7,17.6ZM5,21V16.75L18.45,3.32a2,2,0,0,1,2.83,0l1.4,1.43a1.91,1.91,0,0,1,.58,1.4,1.91,1.91,0,0,1-.58,1.4L9.25,21ZM18.45,9,17,7.55Zm-12,3A5.31,5.31,0,0,0,4.9,8.1,5.31,5.31,0,0,0,1,6.5,5.31,5.31,0,0,0,4.9,4.9,5.31,5.31,0,0,0,6.5,1,5.31,5.31,0,0,0,8.1,4.9,5.31,5.31,0,0,0,12,6.5,5.46,5.46,0,0,0,6.5,12Z\"/>\n",
              "  </svg>\n",
              "    </button>\n",
              "    <script>\n",
              "      (() => {\n",
              "      const buttonEl =\n",
              "        document.querySelector('#id_41697aee-8b11-4a26-a93c-c1d8a618a24b button.colab-df-generate');\n",
              "      buttonEl.style.display =\n",
              "        google.colab.kernel.accessAllowed ? 'block' : 'none';\n",
              "\n",
              "      buttonEl.onclick = () => {\n",
              "        google.colab.notebook.generateWithVariable('data');\n",
              "      }\n",
              "      })();\n",
              "    </script>\n",
              "  </div>\n",
              "\n",
              "    </div>\n",
              "  </div>\n"
            ],
            "text/plain": [
              "                                      ชื่อ  \\\n",
              "0     ศ.นพ.ชวลิต ศูนย์มะเร็ง รพ.จุฬาลงกรณ์   \n",
              "1                           Nubeer Kithiya   \n",
              "2                           Pam Prechanont   \n",
              "3                               Ize Atitya   \n",
              "4                            นู๋นิด ขนิษฐา   \n",
              "...                                    ...   \n",
              "1661                            Ba'ra Reer   \n",
              "1662                           Jirawat Tee   \n",
              "1663              Punnapa Kampinitkulladet   \n",
              "1664                    Chanikarn Tinmuean   \n",
              "1665              Nattavadee Ice Maneechot   \n",
              "\n",
              "                                               คำพูดโรค  \n",
              "0     กดที่ลิงค์นี้เพื่อเข้าไปอ่านคอมเม้นของโพสต์ครั...  \n",
              "1     เป็นมะเร็งลำไส้ใหญ่ ระยะที่ 3 ตอนอายุ 26 ค่ะ พ...  \n",
              "2     คุณแม่เป็นมะเร็งเม็ดเลือดขาวแบบเฉียบพลันค่ะ คุ...  \n",
              "3     ลูกสาว 5 ขวบ เป็นมะเร็งสมองคะ ไม่มีอาการอะไร น...  \n",
              "4     ขอให้เรื่องราวของพ่อกับพี่ชายเราเป็นวิทยาทานแก...  \n",
              "...                                                 ...  \n",
              "1661                          Chanakan Phetpisal มาอ่าน  \n",
              "1662            Jitladda Thonglukkeaw มาแชเร้ว ได้บุนนะ  \n",
              "1663                                     Kamta Auttakan  \n",
              "1664                                        อนุชา มีลาภ  \n",
              "1665  Na Nat Fari Kawa II Herbara Binti Abdullah Ras...  \n",
              "\n",
              "[1666 rows x 2 columns]"
            ]
          },
          "execution_count": 5,
          "metadata": {},
          "output_type": "execute_result"
        }
      ],
      "source": [
        "data"
      ]
    },
    {
      "cell_type": "code",
      "execution_count": null,
      "metadata": {
        "id": "ibrDDm96lkFx"
      },
      "outputs": [],
      "source": [
        "comment=data.groupby('ชื่อ').sum().reset_index()"
      ]
    },
    {
      "cell_type": "code",
      "execution_count": null,
      "metadata": {
        "id": "UI0irdMpjskA"
      },
      "outputs": [],
      "source": [
        "words = set(thai_words())\n",
        "words.remove(\"โรคมะเร็ง\")\n",
        "name =['กระเพาะปัสสวะ','กระเพาะปัสสาวะ','เยื่อบุโพรงมดลูก','ปากมดลูก','เม็ดเลือดขาว','กระเพาะอาหาร','กระเพราะอาหาร','ต่อมไทรอยด์','ต่อมไทยรอยด์','ท่อน้ำดี']\n",
        "for i in name:\n",
        "  words.add(i)\n",
        "custom_tokenizer = Tokenizer(words)"
      ]
    },
    {
      "cell_type": "code",
      "execution_count": null,
      "metadata": {
        "colab": {
          "base_uri": "https://localhost:8080/",
          "height": 36
        },
        "id": "bkfMxy5Kl195",
        "outputId": "b70bc74f-f33c-4e6c-bea3-5df8faac4053"
      },
      "outputs": [
        {
          "data": {
            "application/vnd.google.colaboratory.intrinsic+json": {
              "type": "string"
            },
            "text/plain": [
              "'ไม่ทานเนื้อค่ะ เห็นญาติพี่น้องรอบข้างเป็นมะ เยอะค่ะ'"
            ]
          },
          "execution_count": 8,
          "metadata": {},
          "output_type": "execute_result"
        }
      ],
      "source": [
        "comment['คำพูดโรค'][0]"
      ]
    },
    {
      "cell_type": "code",
      "execution_count": null,
      "metadata": {
        "id": "KAnA1lm1xP-v"
      },
      "outputs": [],
      "source": [
        "name_cancar = ['มะเร็งกระเพาะปัสสวะ','มะเร็งเยื่อบุโพรงมดลูก','มะเร็งปากมดลูก','มะเร็งเม็ดเลือดขาว','มะเร็งตับ','มะเร็งตับอ่อน','มะเร็งต่อมลูกหมาก','มะเร็งกระเพาะปัสสาวะ','มะเร็งกระเพาะอาหาร'\n",
        ",'มะเร็งหลอดอาหาร','มะเร็งเต้านม','มะเร็งปอด','มะเร็งลำไส้ใหญ่','มะเร็งรังไข่','มะเร็งช่องปาก','มะเร็งต่อมไทรอยด์','มะเร็งต่อมน้ำเหลือง','มะเร็งสมอง','มะเร็งผิวหนัง','มะเร็งลำไส้'\n",
        ",'มะเร็งท่อน้ำดี',\"มะเร็งลำไส้ใหญ่และทวารหนัก\",\"มะเร็งผิวหนังชนิดเมลาโนมา\",\"มะเร็งต่อมน้ำเหลืองชนิดนอนฮอดจ์กิน\",\"มะเร็งเม็ดเลือดขาวชนิดเฉียบพลัน\",\"มะเร็งกระดูก\",\"มะเร็งสมองและระบบประสาทกลาง\",\"มะเร็งไต\",\n",
        "\"มะเร็งมดลูก\",\"มะเร็งถุงน้ำดี\",\"มะเร็งกระดูกสันหลัง\",\"มะเร็งลูกตา\",\"มะเร็งเยื่อบุช่องคลอด\",\"มะเร็งเยื่อบุอวัยวะเพศชาย\",\"มะเร็งเยื่อบุอวัยวะเพศหญิง\",\"มะเร็งต่อมหมวกไต\",\"มะเร็งต่อมน้ำลาย\",\"มะเร็งถุงน้ำรังไข่\"\n",
        "]#อันนี้ prom ของ gimini \"จินี ช่วยสร้างlist python โดยในlistนั้นมีการระบุโรคมะเร็งชนิดต่างๆให้หน่อยขอเป็นเเบบภาษาทางการเเละก็ภาษาพูด ขอเเบบไม่ซ้ำด้วย\""
      ]
    },
    {
      "cell_type": "code",
      "execution_count": null,
      "metadata": {
        "colab": {
          "background_save": true
        },
        "id": "iJ59c2jExR0j",
        "outputId": "63715a5d-a23d-4b9b-e759-a9e85a384007"
      },
      "outputs": [
        {
          "name": "stdout",
          "output_type": "stream",
          "text": [
            "['ไม่สามารถระบุได้/ไม่มั่นใจว่าเป็น', 'ไม่สามารถระบุได้/ไม่มั่นใจว่าเป็น', 'ไม่สามารถระบุได้/ไม่มั่นใจว่าเป็น', 'มะเร็งเต้านม', 'ไม่สามารถระบุได้/ไม่มั่นใจว่าเป็น', 'ไม่สามารถระบุได้/ไม่มั่นใจว่าเป็น', 'มะเร็งปอด', 'มะเร็งเต้านม', 'ไม่สามารถระบุได้/ไม่มั่นใจว่าเป็น', 'มะเร็งต่อมลูกหมาก', 'ไม่สามารถระบุได้/ไม่มั่นใจว่าเป็น', 'ไม่สามารถระบุได้/ไม่มั่นใจว่าเป็น', 'มะเร็งต่อมน้ำเหลือง', 'ไม่สามารถระบุได้/ไม่มั่นใจว่าเป็น', 'ไม่สามารถระบุได้/ไม่มั่นใจว่าเป็น', 'ไม่สามารถระบุได้/ไม่มั่นใจว่าเป็น', 'ไม่สามารถระบุได้/ไม่มั่นใจว่าเป็น', 'มะเร็งเต้านม', 'ไม่สามารถระบุได้/ไม่มั่นใจว่าเป็น', 'ไม่สามารถระบุได้/ไม่มั่นใจว่าเป็น', 'ไม่สามารถระบุได้/ไม่มั่นใจว่าเป็น', 'ไม่สามารถระบุได้/ไม่มั่นใจว่าเป็น', 'ไม่สามารถระบุได้/ไม่มั่นใจว่าเป็น', 'ไม่สามารถระบุได้/ไม่มั่นใจว่าเป็น', 'ไม่สามารถระบุได้/ไม่มั่นใจว่าเป็น', 'ไม่สามารถระบุได้/ไม่มั่นใจว่าเป็น', 'มะเร็งตับ', 'ไม่สามารถระบุได้/ไม่มั่นใจว่าเป็น', 'มะเร็งปอด', 'ไม่สามารถระบุได้/ไม่มั่นใจว่าเป็น', 'ไม่สามารถระบุได้/ไม่มั่นใจว่าเป็น', 'ไม่สามารถระบุได้/ไม่มั่นใจว่าเป็น', 'ไม่สามารถระบุได้/ไม่มั่นใจว่าเป็น', 'ไม่สามารถระบุได้/ไม่มั่นใจว่าเป็น', 'มะเร็งต่อมน้ำเหลือง', 'ไม่สามารถระบุได้/ไม่มั่นใจว่าเป็น', 'ไม่สามารถระบุได้/ไม่มั่นใจว่าเป็น', 'มะเร็งปอด', 'ไม่สามารถระบุได้/ไม่มั่นใจว่าเป็น', 'มะเร็งเต้านม', 'ไม่สามารถระบุได้/ไม่มั่นใจว่าเป็น', 'ไม่สามารถระบุได้/ไม่มั่นใจว่าเป็น', 'ไม่สามารถระบุได้/ไม่มั่นใจว่าเป็น', 'ไม่สามารถระบุได้/ไม่มั่นใจว่าเป็น', 'ไม่สามารถระบุได้/ไม่มั่นใจว่าเป็น', 'มะเร็งตับอ่อน', 'มะเร็งปอด', 'ไม่สามารถระบุได้/ไม่มั่นใจว่าเป็น', 'ไม่สามารถระบุได้/ไม่มั่นใจว่าเป็น', 'มะเร็งสมอง', 'ไม่สามารถระบุได้/ไม่มั่นใจว่าเป็น', 'ไม่สามารถระบุได้/ไม่มั่นใจว่าเป็น', 'ไม่สามารถระบุได้/ไม่มั่นใจว่าเป็น', 'มะเร็งเต้านม', 'ไม่สามารถระบุได้/ไม่มั่นใจว่าเป็น', 'มะเร็งเม็ดเลือดขาว', 'มะเร็งกระดูก', 'ไม่สามารถระบุได้/ไม่มั่นใจว่าเป็น', 'ไม่สามารถระบุได้/ไม่มั่นใจว่าเป็น', 'ไม่สามารถระบุได้/ไม่มั่นใจว่าเป็น', 'ไม่สามารถระบุได้/ไม่มั่นใจว่าเป็น', 'ไม่สามารถระบุได้/ไม่มั่นใจว่าเป็น', 'ไม่สามารถระบุได้/ไม่มั่นใจว่าเป็น', 'มะเร็งต่อมน้ำเหลือง', 'ไม่สามารถระบุได้/ไม่มั่นใจว่าเป็น', 'มะเร็งปอด', 'ไม่สามารถระบุได้/ไม่มั่นใจว่าเป็น', 'ไม่สามารถระบุได้/ไม่มั่นใจว่าเป็น', 'ไม่สามารถระบุได้/ไม่มั่นใจว่าเป็น', 'มะเร็งต่อมน้ำเหลือง', 'ไม่สามารถระบุได้/ไม่มั่นใจว่าเป็น', 'ไม่สามารถระบุได้/ไม่มั่นใจว่าเป็น', 'ไม่สามารถระบุได้/ไม่มั่นใจว่าเป็น', 'ไม่สามารถระบุได้/ไม่มั่นใจว่าเป็น', 'ไม่สามารถระบุได้/ไม่มั่นใจว่าเป็น', 'ไม่สามารถระบุได้/ไม่มั่นใจว่าเป็น', 'ไม่สามารถระบุได้/ไม่มั่นใจว่าเป็น', 'ไม่สามารถระบุได้/ไม่มั่นใจว่าเป็น', 'ไม่สามารถระบุได้/ไม่มั่นใจว่าเป็น', 'ไม่สามารถระบุได้/ไม่มั่นใจว่าเป็น', 'มะเร็งตับ', 'ไม่สามารถระบุได้/ไม่มั่นใจว่าเป็น', 'ไม่สามารถระบุได้/ไม่มั่นใจว่าเป็น', 'ไม่สามารถระบุได้/ไม่มั่นใจว่าเป็น', 'ไม่สามารถระบุได้/ไม่มั่นใจว่าเป็น', 'ไม่สามารถระบุได้/ไม่มั่นใจว่าเป็น', 'ไม่สามารถระบุได้/ไม่มั่นใจว่าเป็น', 'ไม่สามารถระบุได้/ไม่มั่นใจว่าเป็น', 'ไม่สามารถระบุได้/ไม่มั่นใจว่าเป็น', 'ไม่สามารถระบุได้/ไม่มั่นใจว่าเป็น', 'ไม่สามารถระบุได้/ไม่มั่นใจว่าเป็น', 'มะเร็งเต้านม', 'ไม่สามารถระบุได้/ไม่มั่นใจว่าเป็น', 'ไม่สามารถระบุได้/ไม่มั่นใจว่าเป็น', 'ไม่สามารถระบุได้/ไม่มั่นใจว่าเป็น', 'ไม่สามารถระบุได้/ไม่มั่นใจว่าเป็น', 'ไม่สามารถระบุได้/ไม่มั่นใจว่าเป็น', 'ไม่สามารถระบุได้/ไม่มั่นใจว่าเป็น', 'ไม่สามารถระบุได้/ไม่มั่นใจว่าเป็น', 'ไม่สามารถระบุได้/ไม่มั่นใจว่าเป็น', 'ไม่สามารถระบุได้/ไม่มั่นใจว่าเป็น', 'ไม่สามารถระบุได้/ไม่มั่นใจว่าเป็น', 'ไม่สามารถระบุได้/ไม่มั่นใจว่าเป็น', 'ไม่สามารถระบุได้/ไม่มั่นใจว่าเป็น', 'มะเร็งลำไส้ใหญ่', 'ไม่สามารถระบุได้/ไม่มั่นใจว่าเป็น', 'มะเร็งท่อน้ำดี', 'ไม่สามารถระบุได้/ไม่มั่นใจว่าเป็น', 'ไม่สามารถระบุได้/ไม่มั่นใจว่าเป็น', 'ไม่สามารถระบุได้/ไม่มั่นใจว่าเป็น', 'ไม่สามารถระบุได้/ไม่มั่นใจว่าเป็น', 'มะเร็งตับ', 'ไม่สามารถระบุได้/ไม่มั่นใจว่าเป็น', 'มะเร็งรังไข่', 'ไม่สามารถระบุได้/ไม่มั่นใจว่าเป็น', 'มะเร็งต่อมน้ำเหลือง', 'ไม่สามารถระบุได้/ไม่มั่นใจว่าเป็น', 'ไม่สามารถระบุได้/ไม่มั่นใจว่าเป็น', 'มะเร็งต่อมน้ำเหลือง', 'ไม่สามารถระบุได้/ไม่มั่นใจว่าเป็น', 'ไม่สามารถระบุได้/ไม่มั่นใจว่าเป็น', 'ไม่สามารถระบุได้/ไม่มั่นใจว่าเป็น', 'มะเร็งเต้านม', 'มะเร็งตับอ่อน', 'ไม่สามารถระบุได้/ไม่มั่นใจว่าเป็น', 'ไม่สามารถระบุได้/ไม่มั่นใจว่าเป็น', 'ไม่สามารถระบุได้/ไม่มั่นใจว่าเป็น', 'ไม่สามารถระบุได้/ไม่มั่นใจว่าเป็น', 'ไม่สามารถระบุได้/ไม่มั่นใจว่าเป็น', 'ไม่สามารถระบุได้/ไม่มั่นใจว่าเป็น', 'ไม่สามารถระบุได้/ไม่มั่นใจว่าเป็น', 'มะเร็งเม็ดเลือดขาว', 'ไม่สามารถระบุได้/ไม่มั่นใจว่าเป็น', 'ไม่สามารถระบุได้/ไม่มั่นใจว่าเป็น', 'ไม่สามารถระบุได้/ไม่มั่นใจว่าเป็น', 'ไม่สามารถระบุได้/ไม่มั่นใจว่าเป็น', 'ไม่สามารถระบุได้/ไม่มั่นใจว่าเป็น', 'ไม่สามารถระบุได้/ไม่มั่นใจว่าเป็น', 'ไม่สามารถระบุได้/ไม่มั่นใจว่าเป็น', 'ไม่สามารถระบุได้/ไม่มั่นใจว่าเป็น', 'มะเร็งปอด', 'ไม่สามารถระบุได้/ไม่มั่นใจว่าเป็น', 'มะเร็งปอด', 'ไม่สามารถระบุได้/ไม่มั่นใจว่าเป็น', 'ไม่สามารถระบุได้/ไม่มั่นใจว่าเป็น', 'ไม่สามารถระบุได้/ไม่มั่นใจว่าเป็น', 'ไม่สามารถระบุได้/ไม่มั่นใจว่าเป็น', 'ไม่สามารถระบุได้/ไม่มั่นใจว่าเป็น', 'ไม่สามารถระบุได้/ไม่มั่นใจว่าเป็น', 'ไม่สามารถระบุได้/ไม่มั่นใจว่าเป็น', 'มะเร็งเม็ดเลือดขาว', 'ไม่สามารถระบุได้/ไม่มั่นใจว่าเป็น', 'ไม่สามารถระบุได้/ไม่มั่นใจว่าเป็น', 'ไม่สามารถระบุได้/ไม่มั่นใจว่าเป็น', 'ไม่สามารถระบุได้/ไม่มั่นใจว่าเป็น', 'มะเร็งเต้านม', 'ไม่สามารถระบุได้/ไม่มั่นใจว่าเป็น', 'มะเร็งท่อน้ำดี', 'ไม่สามารถระบุได้/ไม่มั่นใจว่าเป็น', 'ไม่สามารถระบุได้/ไม่มั่นใจว่าเป็น', 'มะเร็งลำไส้ใหญ่', 'ไม่สามารถระบุได้/ไม่มั่นใจว่าเป็น', 'ไม่สามารถระบุได้/ไม่มั่นใจว่าเป็น', 'ไม่สามารถระบุได้/ไม่มั่นใจว่าเป็น', 'ไม่สามารถระบุได้/ไม่มั่นใจว่าเป็น', 'ไม่สามารถระบุได้/ไม่มั่นใจว่าเป็น', 'ไม่สามารถระบุได้/ไม่มั่นใจว่าเป็น', 'มะเร็งต่อมน้ำเหลือง', 'ไม่สามารถระบุได้/ไม่มั่นใจว่าเป็น', 'ไม่สามารถระบุได้/ไม่มั่นใจว่าเป็น', 'ไม่สามารถระบุได้/ไม่มั่นใจว่าเป็น', 'มะเร็งตับ', 'ไม่สามารถระบุได้/ไม่มั่นใจว่าเป็น', 'ไม่สามารถระบุได้/ไม่มั่นใจว่าเป็น', 'ไม่สามารถระบุได้/ไม่มั่นใจว่าเป็น', 'ไม่สามารถระบุได้/ไม่มั่นใจว่าเป็น', 'ไม่สามารถระบุได้/ไม่มั่นใจว่าเป็น', 'ไม่สามารถระบุได้/ไม่มั่นใจว่าเป็น', 'ไม่สามารถระบุได้/ไม่มั่นใจว่าเป็น', 'ไม่สามารถระบุได้/ไม่มั่นใจว่าเป็น', 'ไม่สามารถระบุได้/ไม่มั่นใจว่าเป็น', 'มะเร็งตับ', 'ไม่สามารถระบุได้/ไม่มั่นใจว่าเป็น', 'มะเร็งตับ', 'ไม่สามารถระบุได้/ไม่มั่นใจว่าเป็น', 'ไม่สามารถระบุได้/ไม่มั่นใจว่าเป็น', 'ไม่สามารถระบุได้/ไม่มั่นใจว่าเป็น', 'ไม่สามารถระบุได้/ไม่มั่นใจว่าเป็น', 'มะเร็งเยื่อบุโพรงมดลูก', 'ไม่สามารถระบุได้/ไม่มั่นใจว่าเป็น', 'ไม่สามารถระบุได้/ไม่มั่นใจว่าเป็น', 'ไม่สามารถระบุได้/ไม่มั่นใจว่าเป็น', 'ไม่สามารถระบุได้/ไม่มั่นใจว่าเป็น', 'ไม่สามารถระบุได้/ไม่มั่นใจว่าเป็น', 'ไม่สามารถระบุได้/ไม่มั่นใจว่าเป็น', 'ไม่สามารถระบุได้/ไม่มั่นใจว่าเป็น', 'เล่ามากกว่า 2 โรค', 'ไม่สามารถระบุได้/ไม่มั่นใจว่าเป็น', 'ไม่สามารถระบุได้/ไม่มั่นใจว่าเป็น', 'มะเร็งปอด', 'ไม่สามารถระบุได้/ไม่มั่นใจว่าเป็น', 'ไม่สามารถระบุได้/ไม่มั่นใจว่าเป็น', 'ไม่สามารถระบุได้/ไม่มั่นใจว่าเป็น', 'มะเร็งต่อมน้ำเหลือง', 'มะเร็งปอด', 'ไม่สามารถระบุได้/ไม่มั่นใจว่าเป็น', 'มะเร็งลำไส้ใหญ่', 'ไม่สามารถระบุได้/ไม่มั่นใจว่าเป็น', 'ไม่สามารถระบุได้/ไม่มั่นใจว่าเป็น', 'ไม่สามารถระบุได้/ไม่มั่นใจว่าเป็น', 'ไม่สามารถระบุได้/ไม่มั่นใจว่าเป็น', 'มะเร็งรังไข่', 'ไม่สามารถระบุได้/ไม่มั่นใจว่าเป็น', 'มะเร็งกระดูก', 'มะเร็งไต', 'มะเร็งเม็ดเลือดขาว', 'ไม่สามารถระบุได้/ไม่มั่นใจว่าเป็น', 'มะเร็งกระดูก', 'มะเร็งตับ', 'ไม่สามารถระบุได้/ไม่มั่นใจว่าเป็น', 'ไม่สามารถระบุได้/ไม่มั่นใจว่าเป็น', 'ไม่สามารถระบุได้/ไม่มั่นใจว่าเป็น', 'มะเร็งต่อมน้ำเหลือง', 'ไม่สามารถระบุได้/ไม่มั่นใจว่าเป็น', 'มะเร็งกระดูก', 'มะเร็งต่อมลูกหมาก', 'มะเร็งกระดูก', 'มะเร็งตับอ่อน', 'มะเร็งผิวหนัง', 'ไม่สามารถระบุได้/ไม่มั่นใจว่าเป็น', 'มะเร็งเยื่อบุโพรงมดลูก', 'ไม่สามารถระบุได้/ไม่มั่นใจว่าเป็น', 'ไม่สามารถระบุได้/ไม่มั่นใจว่าเป็น', 'ไม่สามารถระบุได้/ไม่มั่นใจว่าเป็น', 'ไม่สามารถระบุได้/ไม่มั่นใจว่าเป็น', 'ไม่สามารถระบุได้/ไม่มั่นใจว่าเป็น', 'ไม่สามารถระบุได้/ไม่มั่นใจว่าเป็น', 'ไม่สามารถระบุได้/ไม่มั่นใจว่าเป็น', 'ไม่สามารถระบุได้/ไม่มั่นใจว่าเป็น', 'ไม่สามารถระบุได้/ไม่มั่นใจว่าเป็น', 'มะเร็งเม็ดเลือดขาว', 'ไม่สามารถระบุได้/ไม่มั่นใจว่าเป็น', 'ไม่สามารถระบุได้/ไม่มั่นใจว่าเป็น', 'ไม่สามารถระบุได้/ไม่มั่นใจว่าเป็น', 'ไม่สามารถระบุได้/ไม่มั่นใจว่าเป็น', 'ไม่สามารถระบุได้/ไม่มั่นใจว่าเป็น', 'ไม่สามารถระบุได้/ไม่มั่นใจว่าเป็น', 'มะเร็งลำไส้', 'ไม่สามารถระบุได้/ไม่มั่นใจว่าเป็น', 'มะเร็งตับ', 'มะเร็งต่อมน้ำเหลือง', 'ไม่สามารถระบุได้/ไม่มั่นใจว่าเป็น', 'มะเร็งลำไส้', 'ไม่สามารถระบุได้/ไม่มั่นใจว่าเป็น', 'ไม่สามารถระบุได้/ไม่มั่นใจว่าเป็น', 'มะเร็งลำไส้', 'ไม่สามารถระบุได้/ไม่มั่นใจว่าเป็น', 'ไม่สามารถระบุได้/ไม่มั่นใจว่าเป็น', 'ไม่สามารถระบุได้/ไม่มั่นใจว่าเป็น', 'มะเร็งกระเพาะอาหาร', 'ไม่สามารถระบุได้/ไม่มั่นใจว่าเป็น', 'ไม่สามารถระบุได้/ไม่มั่นใจว่าเป็น', 'มะเร็งรังไข่', 'มะเร็งกระดูก', 'ไม่สามารถระบุได้/ไม่มั่นใจว่าเป็น', 'ไม่สามารถระบุได้/ไม่มั่นใจว่าเป็น', 'ไม่สามารถระบุได้/ไม่มั่นใจว่าเป็น', 'ไม่สามารถระบุได้/ไม่มั่นใจว่าเป็น', 'มะเร็งปากมดลูก', 'มะเร็งลำไส้', 'ไม่สามารถระบุได้/ไม่มั่นใจว่าเป็น', 'ไม่สามารถระบุได้/ไม่มั่นใจว่าเป็น', 'ไม่สามารถระบุได้/ไม่มั่นใจว่าเป็น', 'ไม่สามารถระบุได้/ไม่มั่นใจว่าเป็น', 'ไม่สามารถระบุได้/ไม่มั่นใจว่าเป็น', 'ไม่สามารถระบุได้/ไม่มั่นใจว่าเป็น', 'มะเร็งรังไข่', 'ไม่สามารถระบุได้/ไม่มั่นใจว่าเป็น', 'ไม่สามารถระบุได้/ไม่มั่นใจว่าเป็น', 'มะเร็งเต้านม', 'ไม่สามารถระบุได้/ไม่มั่นใจว่าเป็น', 'ไม่สามารถระบุได้/ไม่มั่นใจว่าเป็น', 'ไม่สามารถระบุได้/ไม่มั่นใจว่าเป็น', 'ไม่สามารถระบุได้/ไม่มั่นใจว่าเป็น', 'ไม่สามารถระบุได้/ไม่มั่นใจว่าเป็น', 'ไม่สามารถระบุได้/ไม่มั่นใจว่าเป็น', 'ไม่สามารถระบุได้/ไม่มั่นใจว่าเป็น', 'ไม่สามารถระบุได้/ไม่มั่นใจว่าเป็น', 'มะเร็งเต้านม', 'มะเร็งปอด', 'ไม่สามารถระบุได้/ไม่มั่นใจว่าเป็น', 'ไม่สามารถระบุได้/ไม่มั่นใจว่าเป็น', 'มะเร็งปอด', 'ไม่สามารถระบุได้/ไม่มั่นใจว่าเป็น', 'ไม่สามารถระบุได้/ไม่มั่นใจว่าเป็น', 'ไม่สามารถระบุได้/ไม่มั่นใจว่าเป็น', 'ไม่สามารถระบุได้/ไม่มั่นใจว่าเป็น', 'ไม่สามารถระบุได้/ไม่มั่นใจว่าเป็น', 'มะเร็งลำไส้ใหญ่', 'ไม่สามารถระบุได้/ไม่มั่นใจว่าเป็น', 'ไม่สามารถระบุได้/ไม่มั่นใจว่าเป็น', 'ไม่สามารถระบุได้/ไม่มั่นใจว่าเป็น', 'มะเร็งปอด', 'ไม่สามารถระบุได้/ไม่มั่นใจว่าเป็น', 'ไม่สามารถระบุได้/ไม่มั่นใจว่าเป็น', 'ไม่สามารถระบุได้/ไม่มั่นใจว่าเป็น', 'ไม่สามารถระบุได้/ไม่มั่นใจว่าเป็น', 'มะเร็งสมอง', 'มะเร็งตับ', 'ไม่สามารถระบุได้/ไม่มั่นใจว่าเป็น', 'มะเร็งกระเพาะปัสสาวะ', 'ไม่สามารถระบุได้/ไม่มั่นใจว่าเป็น', 'มะเร็งปากมดลูก', 'ไม่สามารถระบุได้/ไม่มั่นใจว่าเป็น', 'มะเร็งปอด', 'มะเร็งเม็ดเลือดขาว', 'มะเร็งเม็ดเลือดขาว', 'มะเร็งต่อมหมวกไต', 'ไม่สามารถระบุได้/ไม่มั่นใจว่าเป็น', 'มะเร็งเยื่อบุโพรงมดลูก', 'เล่ามากกว่า 2 โรค', 'ไม่สามารถระบุได้/ไม่มั่นใจว่าเป็น', 'ไม่สามารถระบุได้/ไม่มั่นใจว่าเป็น', 'ไม่สามารถระบุได้/ไม่มั่นใจว่าเป็น', 'ไม่สามารถระบุได้/ไม่มั่นใจว่าเป็น', 'ไม่สามารถระบุได้/ไม่มั่นใจว่าเป็น', 'ไม่สามารถระบุได้/ไม่มั่นใจว่าเป็น', 'ไม่สามารถระบุได้/ไม่มั่นใจว่าเป็น', 'ไม่สามารถระบุได้/ไม่มั่นใจว่าเป็น', 'ไม่สามารถระบุได้/ไม่มั่นใจว่าเป็น', 'ไม่สามารถระบุได้/ไม่มั่นใจว่าเป็น', 'มะเร็งต่อมน้ำเหลือง', 'ไม่สามารถระบุได้/ไม่มั่นใจว่าเป็น', 'มะเร็งลำไส้', 'มะเร็งเต้านม', 'ไม่สามารถระบุได้/ไม่มั่นใจว่าเป็น', 'ไม่สามารถระบุได้/ไม่มั่นใจว่าเป็น', 'ไม่สามารถระบุได้/ไม่มั่นใจว่าเป็น', 'ไม่สามารถระบุได้/ไม่มั่นใจว่าเป็น', 'ไม่สามารถระบุได้/ไม่มั่นใจว่าเป็น', 'ไม่สามารถระบุได้/ไม่มั่นใจว่าเป็น', 'ไม่สามารถระบุได้/ไม่มั่นใจว่าเป็น', 'ไม่สามารถระบุได้/ไม่มั่นใจว่าเป็น', 'ไม่สามารถระบุได้/ไม่มั่นใจว่าเป็น', 'ไม่สามารถระบุได้/ไม่มั่นใจว่าเป็น', 'ไม่สามารถระบุได้/ไม่มั่นใจว่าเป็น', 'ไม่สามารถระบุได้/ไม่มั่นใจว่าเป็น', 'ไม่สามารถระบุได้/ไม่มั่นใจว่าเป็น', 'ไม่สามารถระบุได้/ไม่มั่นใจว่าเป็น', 'ไม่สามารถระบุได้/ไม่มั่นใจว่าเป็น', 'มะเร็งต่อมน้ำเหลือง', 'ไม่สามารถระบุได้/ไม่มั่นใจว่าเป็น', 'มะเร็งเต้านม', 'ไม่สามารถระบุได้/ไม่มั่นใจว่าเป็น', 'ไม่สามารถระบุได้/ไม่มั่นใจว่าเป็น', 'ไม่สามารถระบุได้/ไม่มั่นใจว่าเป็น', 'ไม่สามารถระบุได้/ไม่มั่นใจว่าเป็น', 'ไม่สามารถระบุได้/ไม่มั่นใจว่าเป็น', 'ไม่สามารถระบุได้/ไม่มั่นใจว่าเป็น', 'ไม่สามารถระบุได้/ไม่มั่นใจว่าเป็น', 'ไม่สามารถระบุได้/ไม่มั่นใจว่าเป็น', 'ไม่สามารถระบุได้/ไม่มั่นใจว่าเป็น', 'ไม่สามารถระบุได้/ไม่มั่นใจว่าเป็น', 'ไม่สามารถระบุได้/ไม่มั่นใจว่าเป็น', 'ไม่สามารถระบุได้/ไม่มั่นใจว่าเป็น', 'มะเร็งตับอ่อน', 'ไม่สามารถระบุได้/ไม่มั่นใจว่าเป็น', 'ไม่สามารถระบุได้/ไม่มั่นใจว่าเป็น', 'ไม่สามารถระบุได้/ไม่มั่นใจว่าเป็น', 'มะเร็งถุงน้ำดี', 'ไม่สามารถระบุได้/ไม่มั่นใจว่าเป็น', 'มะเร็งปอด', 'มะเร็งต่อมน้ำเหลือง', 'ไม่สามารถระบุได้/ไม่มั่นใจว่าเป็น', 'ไม่สามารถระบุได้/ไม่มั่นใจว่าเป็น', 'ไม่สามารถระบุได้/ไม่มั่นใจว่าเป็น', 'มะเร็งเต้านม', 'ไม่สามารถระบุได้/ไม่มั่นใจว่าเป็น', 'มะเร็งต่อมน้ำเหลือง', 'ไม่สามารถระบุได้/ไม่มั่นใจว่าเป็น', 'ไม่สามารถระบุได้/ไม่มั่นใจว่าเป็น', 'ไม่สามารถระบุได้/ไม่มั่นใจว่าเป็น', 'ไม่สามารถระบุได้/ไม่มั่นใจว่าเป็น', 'ไม่สามารถระบุได้/ไม่มั่นใจว่าเป็น', 'ไม่สามารถระบุได้/ไม่มั่นใจว่าเป็น', 'ไม่สามารถระบุได้/ไม่มั่นใจว่าเป็น', 'มะเร็งสมอง', 'มะเร็งปอด', 'ไม่สามารถระบุได้/ไม่มั่นใจว่าเป็น', 'ไม่สามารถระบุได้/ไม่มั่นใจว่าเป็น', 'ไม่สามารถระบุได้/ไม่มั่นใจว่าเป็น', 'ไม่สามารถระบุได้/ไม่มั่นใจว่าเป็น', 'ไม่สามารถระบุได้/ไม่มั่นใจว่าเป็น', 'ไม่สามารถระบุได้/ไม่มั่นใจว่าเป็น', 'มะเร็งปอด', 'มะเร็งตับ', 'ไม่สามารถระบุได้/ไม่มั่นใจว่าเป็น', 'มะเร็งต่อมลูกหมาก', 'มะเร็งตับ', 'ไม่สามารถระบุได้/ไม่มั่นใจว่าเป็น', 'ไม่สามารถระบุได้/ไม่มั่นใจว่าเป็น', 'ไม่สามารถระบุได้/ไม่มั่นใจว่าเป็น', 'ไม่สามารถระบุได้/ไม่มั่นใจว่าเป็น', 'มะเร็งตับ', 'มะเร็งรังไข่', 'ไม่สามารถระบุได้/ไม่มั่นใจว่าเป็น', 'ไม่สามารถระบุได้/ไม่มั่นใจว่าเป็น', 'ไม่สามารถระบุได้/ไม่มั่นใจว่าเป็น', 'มะเร็งต่อมน้ำเหลือง', 'ไม่สามารถระบุได้/ไม่มั่นใจว่าเป็น', 'ไม่สามารถระบุได้/ไม่มั่นใจว่าเป็น', 'ไม่สามารถระบุได้/ไม่มั่นใจว่าเป็น', 'ไม่สามารถระบุได้/ไม่มั่นใจว่าเป็น', 'ไม่สามารถระบุได้/ไม่มั่นใจว่าเป็น', 'ไม่สามารถระบุได้/ไม่มั่นใจว่าเป็น', 'ไม่สามารถระบุได้/ไม่มั่นใจว่าเป็น', 'ไม่สามารถระบุได้/ไม่มั่นใจว่าเป็น', 'ไม่สามารถระบุได้/ไม่มั่นใจว่าเป็น', 'ไม่สามารถระบุได้/ไม่มั่นใจว่าเป็น', 'มะเร็งไต', 'ไม่สามารถระบุได้/ไม่มั่นใจว่าเป็น', 'ไม่สามารถระบุได้/ไม่มั่นใจว่าเป็น', 'ไม่สามารถระบุได้/ไม่มั่นใจว่าเป็น', 'ไม่สามารถระบุได้/ไม่มั่นใจว่าเป็น', 'ไม่สามารถระบุได้/ไม่มั่นใจว่าเป็น', 'ไม่สามารถระบุได้/ไม่มั่นใจว่าเป็น', 'มะเร็งปอด', 'ไม่สามารถระบุได้/ไม่มั่นใจว่าเป็น', 'ไม่สามารถระบุได้/ไม่มั่นใจว่าเป็น', 'ไม่สามารถระบุได้/ไม่มั่นใจว่าเป็น', 'มะเร็งต่อมน้ำเหลือง', 'ไม่สามารถระบุได้/ไม่มั่นใจว่าเป็น', 'ไม่สามารถระบุได้/ไม่มั่นใจว่าเป็น', 'ไม่สามารถระบุได้/ไม่มั่นใจว่าเป็น', 'ไม่สามารถระบุได้/ไม่มั่นใจว่าเป็น', 'ไม่สามารถระบุได้/ไม่มั่นใจว่าเป็น', 'ไม่สามารถระบุได้/ไม่มั่นใจว่าเป็น', 'ไม่สามารถระบุได้/ไม่มั่นใจว่าเป็น', 'มะเร็งตับ', 'ไม่สามารถระบุได้/ไม่มั่นใจว่าเป็น', 'ไม่สามารถระบุได้/ไม่มั่นใจว่าเป็น', 'ไม่สามารถระบุได้/ไม่มั่นใจว่าเป็น', 'ไม่สามารถระบุได้/ไม่มั่นใจว่าเป็น', 'ไม่สามารถระบุได้/ไม่มั่นใจว่าเป็น', 'ไม่สามารถระบุได้/ไม่มั่นใจว่าเป็น', 'ไม่สามารถระบุได้/ไม่มั่นใจว่าเป็น', 'มะเร็งตับอ่อน', 'ไม่สามารถระบุได้/ไม่มั่นใจว่าเป็น', 'ไม่สามารถระบุได้/ไม่มั่นใจว่าเป็น', 'ไม่สามารถระบุได้/ไม่มั่นใจว่าเป็น', 'ไม่สามารถระบุได้/ไม่มั่นใจว่าเป็น', 'ไม่สามารถระบุได้/ไม่มั่นใจว่าเป็น', 'ไม่สามารถระบุได้/ไม่มั่นใจว่าเป็น', 'ไม่สามารถระบุได้/ไม่มั่นใจว่าเป็น', 'ไม่สามารถระบุได้/ไม่มั่นใจว่าเป็น', 'ไม่สามารถระบุได้/ไม่มั่นใจว่าเป็น', 'ไม่สามารถระบุได้/ไม่มั่นใจว่าเป็น', 'มะเร็งปากมดลูก', 'ไม่สามารถระบุได้/ไม่มั่นใจว่าเป็น', 'ไม่สามารถระบุได้/ไม่มั่นใจว่าเป็น', 'มะเร็งต่อมน้ำเหลือง', 'ไม่สามารถระบุได้/ไม่มั่นใจว่าเป็น', 'ไม่สามารถระบุได้/ไม่มั่นใจว่าเป็น', 'ไม่สามารถระบุได้/ไม่มั่นใจว่าเป็น', 'ไม่สามารถระบุได้/ไม่มั่นใจว่าเป็น', 'ไม่สามารถระบุได้/ไม่มั่นใจว่าเป็น', 'ไม่สามารถระบุได้/ไม่มั่นใจว่าเป็น', 'ไม่สามารถระบุได้/ไม่มั่นใจว่าเป็น', 'ไม่สามารถระบุได้/ไม่มั่นใจว่าเป็น', 'ไม่สามารถระบุได้/ไม่มั่นใจว่าเป็น', 'ไม่สามารถระบุได้/ไม่มั่นใจว่าเป็น', 'มะเร็งตับ', 'ไม่สามารถระบุได้/ไม่มั่นใจว่าเป็น', 'ไม่สามารถระบุได้/ไม่มั่นใจว่าเป็น', 'ไม่สามารถระบุได้/ไม่มั่นใจว่าเป็น', 'ไม่สามารถระบุได้/ไม่มั่นใจว่าเป็น', 'ไม่สามารถระบุได้/ไม่มั่นใจว่าเป็น', 'ไม่สามารถระบุได้/ไม่มั่นใจว่าเป็น', 'ไม่สามารถระบุได้/ไม่มั่นใจว่าเป็น', 'มะเร็งปากมดลูก', 'ไม่สามารถระบุได้/ไม่มั่นใจว่าเป็น', 'ไม่สามารถระบุได้/ไม่มั่นใจว่าเป็น', 'ไม่สามารถระบุได้/ไม่มั่นใจว่าเป็น', 'ไม่สามารถระบุได้/ไม่มั่นใจว่าเป็น', 'มะเร็งตับ', 'มะเร็งต่อมน้ำเหลือง', 'ไม่สามารถระบุได้/ไม่มั่นใจว่าเป็น', 'ไม่สามารถระบุได้/ไม่มั่นใจว่าเป็น', 'ไม่สามารถระบุได้/ไม่มั่นใจว่าเป็น', 'ไม่สามารถระบุได้/ไม่มั่นใจว่าเป็น', 'ไม่สามารถระบุได้/ไม่มั่นใจว่าเป็น', 'มะเร็งต่อมน้ำเหลือง', 'มะเร็งปอด', 'ไม่สามารถระบุได้/ไม่มั่นใจว่าเป็น', 'ไม่สามารถระบุได้/ไม่มั่นใจว่าเป็น', 'ไม่สามารถระบุได้/ไม่มั่นใจว่าเป็น', 'ไม่สามารถระบุได้/ไม่มั่นใจว่าเป็น', 'มะเร็งกระเพาะอาหาร', 'ไม่สามารถระบุได้/ไม่มั่นใจว่าเป็น', 'ไม่สามารถระบุได้/ไม่มั่นใจว่าเป็น', 'ไม่สามารถระบุได้/ไม่มั่นใจว่าเป็น', 'ไม่สามารถระบุได้/ไม่มั่นใจว่าเป็น', 'ไม่สามารถระบุได้/ไม่มั่นใจว่าเป็น', 'ไม่สามารถระบุได้/ไม่มั่นใจว่าเป็น', 'มะเร็งสมอง', 'ไม่สามารถระบุได้/ไม่มั่นใจว่าเป็น', 'ไม่สามารถระบุได้/ไม่มั่นใจว่าเป็น', 'ไม่สามารถระบุได้/ไม่มั่นใจว่าเป็น', 'ไม่สามารถระบุได้/ไม่มั่นใจว่าเป็น', 'ไม่สามารถระบุได้/ไม่มั่นใจว่าเป็น', 'ไม่สามารถระบุได้/ไม่มั่นใจว่าเป็น', 'ไม่สามารถระบุได้/ไม่มั่นใจว่าเป็น', 'มะเร็งตับ', 'ไม่สามารถระบุได้/ไม่มั่นใจว่าเป็น', 'มะเร็งรังไข่', 'ไม่สามารถระบุได้/ไม่มั่นใจว่าเป็น', 'มะเร็งเต้านม', 'เล่ามากกว่า 2 โรค', 'ไม่สามารถระบุได้/ไม่มั่นใจว่าเป็น', 'มะเร็งตับ', 'ไม่สามารถระบุได้/ไม่มั่นใจว่าเป็น', 'ไม่สามารถระบุได้/ไม่มั่นใจว่าเป็น', 'มะเร็งต่อมน้ำเหลือง', 'ไม่สามารถระบุได้/ไม่มั่นใจว่าเป็น', 'ไม่สามารถระบุได้/ไม่มั่นใจว่าเป็น', 'มะเร็งเม็ดเลือดขาว', 'มะเร็งต่อมลูกหมาก', 'ไม่สามารถระบุได้/ไม่มั่นใจว่าเป็น', 'มะเร็งต่อมน้ำเหลือง', 'มะเร็งปอด', 'ไม่สามารถระบุได้/ไม่มั่นใจว่าเป็น', 'ไม่สามารถระบุได้/ไม่มั่นใจว่าเป็น', 'ไม่สามารถระบุได้/ไม่มั่นใจว่าเป็น', 'ไม่สามารถระบุได้/ไม่มั่นใจว่าเป็น', 'ไม่สามารถระบุได้/ไม่มั่นใจว่าเป็น', 'มะเร็งเต้านม', 'ไม่สามารถระบุได้/ไม่มั่นใจว่าเป็น', 'ไม่สามารถระบุได้/ไม่มั่นใจว่าเป็น', 'ไม่สามารถระบุได้/ไม่มั่นใจว่าเป็น', 'ไม่สามารถระบุได้/ไม่มั่นใจว่าเป็น', 'ไม่สามารถระบุได้/ไม่มั่นใจว่าเป็น', 'ไม่สามารถระบุได้/ไม่มั่นใจว่าเป็น', 'ไม่สามารถระบุได้/ไม่มั่นใจว่าเป็น', 'มะเร็งเต้านม', 'ไม่สามารถระบุได้/ไม่มั่นใจว่าเป็น', 'ไม่สามารถระบุได้/ไม่มั่นใจว่าเป็น', 'ไม่สามารถระบุได้/ไม่มั่นใจว่าเป็น', 'ไม่สามารถระบุได้/ไม่มั่นใจว่าเป็น', 'ไม่สามารถระบุได้/ไม่มั่นใจว่าเป็น', 'ไม่สามารถระบุได้/ไม่มั่นใจว่าเป็น', 'ไม่สามารถระบุได้/ไม่มั่นใจว่าเป็น', 'มะเร็งรังไข่', 'ไม่สามารถระบุได้/ไม่มั่นใจว่าเป็น', 'ไม่สามารถระบุได้/ไม่มั่นใจว่าเป็น', 'ไม่สามารถระบุได้/ไม่มั่นใจว่าเป็น', 'ไม่สามารถระบุได้/ไม่มั่นใจว่าเป็น', 'ไม่สามารถระบุได้/ไม่มั่นใจว่าเป็น', 'มะเร็งสมอง', 'ไม่สามารถระบุได้/ไม่มั่นใจว่าเป็น', 'ไม่สามารถระบุได้/ไม่มั่นใจว่าเป็น', 'มะเร็งไต', 'ไม่สามารถระบุได้/ไม่มั่นใจว่าเป็น', 'มะเร็งท่อน้ำดี', 'ไม่สามารถระบุได้/ไม่มั่นใจว่าเป็น', 'ไม่สามารถระบุได้/ไม่มั่นใจว่าเป็น', 'ไม่สามารถระบุได้/ไม่มั่นใจว่าเป็น', 'ไม่สามารถระบุได้/ไม่มั่นใจว่าเป็น', 'ไม่สามารถระบุได้/ไม่มั่นใจว่าเป็น', 'ไม่สามารถระบุได้/ไม่มั่นใจว่าเป็น', 'ไม่สามารถระบุได้/ไม่มั่นใจว่าเป็น', 'ไม่สามารถระบุได้/ไม่มั่นใจว่าเป็น', 'ไม่สามารถระบุได้/ไม่มั่นใจว่าเป็น', 'ไม่สามารถระบุได้/ไม่มั่นใจว่าเป็น', 'มะเร็งเต้านม', 'ไม่สามารถระบุได้/ไม่มั่นใจว่าเป็น', 'ไม่สามารถระบุได้/ไม่มั่นใจว่าเป็น', 'ไม่สามารถระบุได้/ไม่มั่นใจว่าเป็น', 'ไม่สามารถระบุได้/ไม่มั่นใจว่าเป็น', 'ไม่สามารถระบุได้/ไม่มั่นใจว่าเป็น', 'มะเร็งเม็ดเลือดขาว', 'มะเร็งลำไส้', 'ไม่สามารถระบุได้/ไม่มั่นใจว่าเป็น', 'ไม่สามารถระบุได้/ไม่มั่นใจว่าเป็น', 'ไม่สามารถระบุได้/ไม่มั่นใจว่าเป็น', 'มะเร็งเต้านม', 'ไม่สามารถระบุได้/ไม่มั่นใจว่าเป็น', 'ไม่สามารถระบุได้/ไม่มั่นใจว่าเป็น', 'ไม่สามารถระบุได้/ไม่มั่นใจว่าเป็น', 'ไม่สามารถระบุได้/ไม่มั่นใจว่าเป็น', 'มะเร็งเต้านม', 'ไม่สามารถระบุได้/ไม่มั่นใจว่าเป็น', 'ไม่สามารถระบุได้/ไม่มั่นใจว่าเป็น', 'มะเร็งปอด', 'ไม่สามารถระบุได้/ไม่มั่นใจว่าเป็น', 'ไม่สามารถระบุได้/ไม่มั่นใจว่าเป็น', 'ไม่สามารถระบุได้/ไม่มั่นใจว่าเป็น', 'ไม่สามารถระบุได้/ไม่มั่นใจว่าเป็น', 'ไม่สามารถระบุได้/ไม่มั่นใจว่าเป็น', 'มะเร็งเม็ดเลือดขาว', 'ไม่สามารถระบุได้/ไม่มั่นใจว่าเป็น', 'ไม่สามารถระบุได้/ไม่มั่นใจว่าเป็น', 'ไม่สามารถระบุได้/ไม่มั่นใจว่าเป็น', 'ไม่สามารถระบุได้/ไม่มั่นใจว่าเป็น', 'ไม่สามารถระบุได้/ไม่มั่นใจว่าเป็น', 'มะเร็งหลอดอาหาร', 'ไม่สามารถระบุได้/ไม่มั่นใจว่าเป็น', 'มะเร็งตับ', 'ไม่สามารถระบุได้/ไม่มั่นใจว่าเป็น', 'มะเร็งลำไส้', 'ไม่สามารถระบุได้/ไม่มั่นใจว่าเป็น', 'ไม่สามารถระบุได้/ไม่มั่นใจว่าเป็น', 'ไม่สามารถระบุได้/ไม่มั่นใจว่าเป็น', 'ไม่สามารถระบุได้/ไม่มั่นใจว่าเป็น', 'มะเร็งเต้านม', 'ไม่สามารถระบุได้/ไม่มั่นใจว่าเป็น', 'มะเร็งรังไข่', 'ไม่สามารถระบุได้/ไม่มั่นใจว่าเป็น', 'มะเร็งเม็ดเลือดขาว', 'ไม่สามารถระบุได้/ไม่มั่นใจว่าเป็น', 'ไม่สามารถระบุได้/ไม่มั่นใจว่าเป็น', 'ไม่สามารถระบุได้/ไม่มั่นใจว่าเป็น', 'ไม่สามารถระบุได้/ไม่มั่นใจว่าเป็น', 'ไม่สามารถระบุได้/ไม่มั่นใจว่าเป็น', 'ไม่สามารถระบุได้/ไม่มั่นใจว่าเป็น', 'ไม่สามารถระบุได้/ไม่มั่นใจว่าเป็น', 'ไม่สามารถระบุได้/ไม่มั่นใจว่าเป็น', 'มะเร็งกระเพาะปัสสาวะ', 'มะเร็งตับอ่อน', 'ไม่สามารถระบุได้/ไม่มั่นใจว่าเป็น', 'ไม่สามารถระบุได้/ไม่มั่นใจว่าเป็น', 'มะเร็งลำไส้ใหญ่', 'ไม่สามารถระบุได้/ไม่มั่นใจว่าเป็น', 'ไม่สามารถระบุได้/ไม่มั่นใจว่าเป็น', 'ไม่สามารถระบุได้/ไม่มั่นใจว่าเป็น', 'ไม่สามารถระบุได้/ไม่มั่นใจว่าเป็น', 'มะเร็งตับ', 'ไม่สามารถระบุได้/ไม่มั่นใจว่าเป็น', 'ไม่สามารถระบุได้/ไม่มั่นใจว่าเป็น', 'มะเร็งเต้านม', 'ไม่สามารถระบุได้/ไม่มั่นใจว่าเป็น', 'ไม่สามารถระบุได้/ไม่มั่นใจว่าเป็น', 'มะเร็งกระดูกสันหลัง', 'ไม่สามารถระบุได้/ไม่มั่นใจว่าเป็น', 'ไม่สามารถระบุได้/ไม่มั่นใจว่าเป็น', 'ไม่สามารถระบุได้/ไม่มั่นใจว่าเป็น', 'ไม่สามารถระบุได้/ไม่มั่นใจว่าเป็น', 'ไม่สามารถระบุได้/ไม่มั่นใจว่าเป็น', 'มะเร็งเต้านม', 'ไม่สามารถระบุได้/ไม่มั่นใจว่าเป็น', 'ไม่สามารถระบุได้/ไม่มั่นใจว่าเป็น', 'ไม่สามารถระบุได้/ไม่มั่นใจว่าเป็น', 'ไม่สามารถระบุได้/ไม่มั่นใจว่าเป็น', 'ไม่สามารถระบุได้/ไม่มั่นใจว่าเป็น', 'มะเร็งปอด', 'ไม่สามารถระบุได้/ไม่มั่นใจว่าเป็น', 'มะเร็งผิวหนัง', 'ไม่สามารถระบุได้/ไม่มั่นใจว่าเป็น', 'ไม่สามารถระบุได้/ไม่มั่นใจว่าเป็น', 'ไม่สามารถระบุได้/ไม่มั่นใจว่าเป็น', 'มะเร็งผิวหนัง', 'ไม่สามารถระบุได้/ไม่มั่นใจว่าเป็น', 'ไม่สามารถระบุได้/ไม่มั่นใจว่าเป็น', 'เล่ามากกว่า 2 โรค', 'มะเร็งปอด', 'ไม่สามารถระบุได้/ไม่มั่นใจว่าเป็น', 'ไม่สามารถระบุได้/ไม่มั่นใจว่าเป็น', 'มะเร็งลำไส้ใหญ่', 'ไม่สามารถระบุได้/ไม่มั่นใจว่าเป็น', 'ไม่สามารถระบุได้/ไม่มั่นใจว่าเป็น', 'ไม่สามารถระบุได้/ไม่มั่นใจว่าเป็น', 'ไม่สามารถระบุได้/ไม่มั่นใจว่าเป็น', 'ไม่สามารถระบุได้/ไม่มั่นใจว่าเป็น', 'ไม่สามารถระบุได้/ไม่มั่นใจว่าเป็น', 'ไม่สามารถระบุได้/ไม่มั่นใจว่าเป็น', 'มะเร็งเต้านม', 'มะเร็งปอด', 'ไม่สามารถระบุได้/ไม่มั่นใจว่าเป็น', 'มะเร็งปากมดลูก', 'มะเร็งลำไส้', 'ไม่สามารถระบุได้/ไม่มั่นใจว่าเป็น', 'ไม่สามารถระบุได้/ไม่มั่นใจว่าเป็น', 'มะเร็งมดลูก', 'มะเร็งปากมดลูก', 'เล่ามากกว่า 2 โรค', 'มะเร็งผิวหนัง', 'ไม่สามารถระบุได้/ไม่มั่นใจว่าเป็น', 'ไม่สามารถระบุได้/ไม่มั่นใจว่าเป็น', 'ไม่สามารถระบุได้/ไม่มั่นใจว่าเป็น', 'มะเร็งต่อมน้ำเหลือง', 'มะเร็งต่อมน้ำเหลือง', 'ไม่สามารถระบุได้/ไม่มั่นใจว่าเป็น', 'เล่ามากกว่า 2 โรค', 'ไม่สามารถระบุได้/ไม่มั่นใจว่าเป็น', 'มะเร็งเต้านม', 'มะเร็งเต้านม', 'ไม่สามารถระบุได้/ไม่มั่นใจว่าเป็น', 'ไม่สามารถระบุได้/ไม่มั่นใจว่าเป็น', 'ไม่สามารถระบุได้/ไม่มั่นใจว่าเป็น', 'มะเร็งต่อมลูกหมาก', 'ไม่สามารถระบุได้/ไม่มั่นใจว่าเป็น', 'มะเร็งเม็ดเลือดขาว', 'ไม่สามารถระบุได้/ไม่มั่นใจว่าเป็น', 'ไม่สามารถระบุได้/ไม่มั่นใจว่าเป็น', 'ไม่สามารถระบุได้/ไม่มั่นใจว่าเป็น', 'ไม่สามารถระบุได้/ไม่มั่นใจว่าเป็น', 'ไม่สามารถระบุได้/ไม่มั่นใจว่าเป็น', 'ไม่สามารถระบุได้/ไม่มั่นใจว่าเป็น', 'ไม่สามารถระบุได้/ไม่มั่นใจว่าเป็น', 'ไม่สามารถระบุได้/ไม่มั่นใจว่าเป็น', 'มะเร็งต่อมน้ำเหลือง', 'ไม่สามารถระบุได้/ไม่มั่นใจว่าเป็น', 'ไม่สามารถระบุได้/ไม่มั่นใจว่าเป็น', 'ไม่สามารถระบุได้/ไม่มั่นใจว่าเป็น', 'ไม่สามารถระบุได้/ไม่มั่นใจว่าเป็น', 'มะเร็งลำไส้ใหญ่', 'ไม่สามารถระบุได้/ไม่มั่นใจว่าเป็น', 'ไม่สามารถระบุได้/ไม่มั่นใจว่าเป็น', 'มะเร็งตับ', 'ไม่สามารถระบุได้/ไม่มั่นใจว่าเป็น', 'มะเร็งต่อมน้ำเหลือง', 'มะเร็งเม็ดเลือดขาว', 'ไม่สามารถระบุได้/ไม่มั่นใจว่าเป็น', 'ไม่สามารถระบุได้/ไม่มั่นใจว่าเป็น', 'ไม่สามารถระบุได้/ไม่มั่นใจว่าเป็น', 'มะเร็งตับ', 'มะเร็งลำไส้ใหญ่', 'ไม่สามารถระบุได้/ไม่มั่นใจว่าเป็น', 'มะเร็งตับอ่อน', 'ไม่สามารถระบุได้/ไม่มั่นใจว่าเป็น', 'มะเร็งปากมดลูก', 'ไม่สามารถระบุได้/ไม่มั่นใจว่าเป็น', 'ไม่สามารถระบุได้/ไม่มั่นใจว่าเป็น', 'ไม่สามารถระบุได้/ไม่มั่นใจว่าเป็น', 'ไม่สามารถระบุได้/ไม่มั่นใจว่าเป็น', 'ไม่สามารถระบุได้/ไม่มั่นใจว่าเป็น', 'ไม่สามารถระบุได้/ไม่มั่นใจว่าเป็น', 'ไม่สามารถระบุได้/ไม่มั่นใจว่าเป็น', 'ไม่สามารถระบุได้/ไม่มั่นใจว่าเป็น', 'ไม่สามารถระบุได้/ไม่มั่นใจว่าเป็น', 'ไม่สามารถระบุได้/ไม่มั่นใจว่าเป็น', 'ไม่สามารถระบุได้/ไม่มั่นใจว่าเป็น', 'ไม่สามารถระบุได้/ไม่มั่นใจว่าเป็น', 'ไม่สามารถระบุได้/ไม่มั่นใจว่าเป็น', 'ไม่สามารถระบุได้/ไม่มั่นใจว่าเป็น', 'ไม่สามารถระบุได้/ไม่มั่นใจว่าเป็น', 'ไม่สามารถระบุได้/ไม่มั่นใจว่าเป็น', 'ไม่สามารถระบุได้/ไม่มั่นใจว่าเป็น', 'ไม่สามารถระบุได้/ไม่มั่นใจว่าเป็น', 'ไม่สามารถระบุได้/ไม่มั่นใจว่าเป็น', 'มะเร็งเต้านม', 'ไม่สามารถระบุได้/ไม่มั่นใจว่าเป็น', 'ไม่สามารถระบุได้/ไม่มั่นใจว่าเป็น', 'ไม่สามารถระบุได้/ไม่มั่นใจว่าเป็น', 'ไม่สามารถระบุได้/ไม่มั่นใจว่าเป็น', 'มะเร็งลำไส้', 'มะเร็งปอด', 'มะเร็งเต้านม', 'ไม่สามารถระบุได้/ไม่มั่นใจว่าเป็น', 'ไม่สามารถระบุได้/ไม่มั่นใจว่าเป็น', 'ไม่สามารถระบุได้/ไม่มั่นใจว่าเป็น', 'ไม่สามารถระบุได้/ไม่มั่นใจว่าเป็น', 'ไม่สามารถระบุได้/ไม่มั่นใจว่าเป็น', 'มะเร็งตับอ่อน', 'ไม่สามารถระบุได้/ไม่มั่นใจว่าเป็น', 'มะเร็งไต', 'มะเร็งเต้านม', 'ไม่สามารถระบุได้/ไม่มั่นใจว่าเป็น', 'ไม่สามารถระบุได้/ไม่มั่นใจว่าเป็น', 'ไม่สามารถระบุได้/ไม่มั่นใจว่าเป็น', 'ไม่สามารถระบุได้/ไม่มั่นใจว่าเป็น', 'ไม่สามารถระบุได้/ไม่มั่นใจว่าเป็น', 'มะเร็งเต้านม', 'ไม่สามารถระบุได้/ไม่มั่นใจว่าเป็น', 'ไม่สามารถระบุได้/ไม่มั่นใจว่าเป็น', 'ไม่สามารถระบุได้/ไม่มั่นใจว่าเป็น', 'เล่ามากกว่า 2 โรค', 'ไม่สามารถระบุได้/ไม่มั่นใจว่าเป็น', 'มะเร็งเต้านม', 'ไม่สามารถระบุได้/ไม่มั่นใจว่าเป็น', 'ไม่สามารถระบุได้/ไม่มั่นใจว่าเป็น', 'มะเร็งกระดูก', 'มะเร็งลำไส้ใหญ่', 'ไม่สามารถระบุได้/ไม่มั่นใจว่าเป็น', 'ไม่สามารถระบุได้/ไม่มั่นใจว่าเป็น', 'ไม่สามารถระบุได้/ไม่มั่นใจว่าเป็น', 'ไม่สามารถระบุได้/ไม่มั่นใจว่าเป็น', 'ไม่สามารถระบุได้/ไม่มั่นใจว่าเป็น', 'ไม่สามารถระบุได้/ไม่มั่นใจว่าเป็น', 'มะเร็งตับ', 'ไม่สามารถระบุได้/ไม่มั่นใจว่าเป็น', 'ไม่สามารถระบุได้/ไม่มั่นใจว่าเป็น', 'ไม่สามารถระบุได้/ไม่มั่นใจว่าเป็น', 'ไม่สามารถระบุได้/ไม่มั่นใจว่าเป็น', 'มะเร็งปอด', 'ไม่สามารถระบุได้/ไม่มั่นใจว่าเป็น', 'ไม่สามารถระบุได้/ไม่มั่นใจว่าเป็น', 'ไม่สามารถระบุได้/ไม่มั่นใจว่าเป็น', 'ไม่สามารถระบุได้/ไม่มั่นใจว่าเป็น', 'ไม่สามารถระบุได้/ไม่มั่นใจว่าเป็น', 'ไม่สามารถระบุได้/ไม่มั่นใจว่าเป็น', 'มะเร็งตับ', 'ไม่สามารถระบุได้/ไม่มั่นใจว่าเป็น', 'มะเร็งเม็ดเลือดขาว', 'ไม่สามารถระบุได้/ไม่มั่นใจว่าเป็น', 'ไม่สามารถระบุได้/ไม่มั่นใจว่าเป็น', 'ไม่สามารถระบุได้/ไม่มั่นใจว่าเป็น', 'ไม่สามารถระบุได้/ไม่มั่นใจว่าเป็น', 'ไม่สามารถระบุได้/ไม่มั่นใจว่าเป็น', 'ไม่สามารถระบุได้/ไม่มั่นใจว่าเป็น', 'ไม่สามารถระบุได้/ไม่มั่นใจว่าเป็น', 'มะเร็งเต้านม', 'มะเร็งเม็ดเลือดขาว', 'มะเร็งตับ', 'มะเร็งลำไส้', 'ไม่สามารถระบุได้/ไม่มั่นใจว่าเป็น', 'ไม่สามารถระบุได้/ไม่มั่นใจว่าเป็น', 'ไม่สามารถระบุได้/ไม่มั่นใจว่าเป็น', 'ไม่สามารถระบุได้/ไม่มั่นใจว่าเป็น', 'ไม่สามารถระบุได้/ไม่มั่นใจว่าเป็น', 'ไม่สามารถระบุได้/ไม่มั่นใจว่าเป็น', 'ไม่สามารถระบุได้/ไม่มั่นใจว่าเป็น', 'ไม่สามารถระบุได้/ไม่มั่นใจว่าเป็น', 'ไม่สามารถระบุได้/ไม่มั่นใจว่าเป็น', 'ไม่สามารถระบุได้/ไม่มั่นใจว่าเป็น', 'ไม่สามารถระบุได้/ไม่มั่นใจว่าเป็น', 'ไม่สามารถระบุได้/ไม่มั่นใจว่าเป็น', 'ไม่สามารถระบุได้/ไม่มั่นใจว่าเป็น', 'ไม่สามารถระบุได้/ไม่มั่นใจว่าเป็น', 'ไม่สามารถระบุได้/ไม่มั่นใจว่าเป็น', 'ไม่สามารถระบุได้/ไม่มั่นใจว่าเป็น', 'ไม่สามารถระบุได้/ไม่มั่นใจว่าเป็น', 'ไม่สามารถระบุได้/ไม่มั่นใจว่าเป็น', 'ไม่สามารถระบุได้/ไม่มั่นใจว่าเป็น', 'มะเร็งปอด', 'ไม่สามารถระบุได้/ไม่มั่นใจว่าเป็น', 'ไม่สามารถระบุได้/ไม่มั่นใจว่าเป็น', 'มะเร็งท่อน้ำดี', 'มะเร็งต่อมน้ำเหลือง', 'ไม่สามารถระบุได้/ไม่มั่นใจว่าเป็น', 'ไม่สามารถระบุได้/ไม่มั่นใจว่าเป็น', 'มะเร็งหลอดอาหาร', 'ไม่สามารถระบุได้/ไม่มั่นใจว่าเป็น', 'ไม่สามารถระบุได้/ไม่มั่นใจว่าเป็น', 'ไม่สามารถระบุได้/ไม่มั่นใจว่าเป็น', 'ไม่สามารถระบุได้/ไม่มั่นใจว่าเป็น', 'ไม่สามารถระบุได้/ไม่มั่นใจว่าเป็น', 'มะเร็งลำไส้', 'ไม่สามารถระบุได้/ไม่มั่นใจว่าเป็น', 'ไม่สามารถระบุได้/ไม่มั่นใจว่าเป็น', 'ไม่สามารถระบุได้/ไม่มั่นใจว่าเป็น', 'ไม่สามารถระบุได้/ไม่มั่นใจว่าเป็น', 'ไม่สามารถระบุได้/ไม่มั่นใจว่าเป็น', 'มะเร็งเต้านม', 'มะเร็งท่อน้ำดี', 'ไม่สามารถระบุได้/ไม่มั่นใจว่าเป็น', 'ไม่สามารถระบุได้/ไม่มั่นใจว่าเป็น', 'มะเร็งปอด', 'มะเร็งต่อมน้ำเหลือง', 'ไม่สามารถระบุได้/ไม่มั่นใจว่าเป็น', 'ไม่สามารถระบุได้/ไม่มั่นใจว่าเป็น', 'ไม่สามารถระบุได้/ไม่มั่นใจว่าเป็น', 'มะเร็งลำไส้ใหญ่', 'ไม่สามารถระบุได้/ไม่มั่นใจว่าเป็น', 'มะเร็งรังไข่', 'ไม่สามารถระบุได้/ไม่มั่นใจว่าเป็น', 'ไม่สามารถระบุได้/ไม่มั่นใจว่าเป็น', 'ไม่สามารถระบุได้/ไม่มั่นใจว่าเป็น', 'ไม่สามารถระบุได้/ไม่มั่นใจว่าเป็น', 'ไม่สามารถระบุได้/ไม่มั่นใจว่าเป็น', 'ไม่สามารถระบุได้/ไม่มั่นใจว่าเป็น', 'ไม่สามารถระบุได้/ไม่มั่นใจว่าเป็น', 'ไม่สามารถระบุได้/ไม่มั่นใจว่าเป็น', 'ไม่สามารถระบุได้/ไม่มั่นใจว่าเป็น', 'มะเร็งเต้านม', 'ไม่สามารถระบุได้/ไม่มั่นใจว่าเป็น', 'มะเร็งปอด', 'ไม่สามารถระบุได้/ไม่มั่นใจว่าเป็น', 'มะเร็งต่อมน้ำเหลือง', 'ไม่สามารถระบุได้/ไม่มั่นใจว่าเป็น', 'ไม่สามารถระบุได้/ไม่มั่นใจว่าเป็น', 'ไม่สามารถระบุได้/ไม่มั่นใจว่าเป็น', 'ไม่สามารถระบุได้/ไม่มั่นใจว่าเป็น', 'ไม่สามารถระบุได้/ไม่มั่นใจว่าเป็น', 'มะเร็งปากมดลูก', 'ไม่สามารถระบุได้/ไม่มั่นใจว่าเป็น', 'ไม่สามารถระบุได้/ไม่มั่นใจว่าเป็น', 'ไม่สามารถระบุได้/ไม่มั่นใจว่าเป็น', 'ไม่สามารถระบุได้/ไม่มั่นใจว่าเป็น', 'ไม่สามารถระบุได้/ไม่มั่นใจว่าเป็น', 'ไม่สามารถระบุได้/ไม่มั่นใจว่าเป็น', 'มะเร็งต่อมน้ำเหลือง', 'มะเร็งต่อมลูกหมาก', 'ไม่สามารถระบุได้/ไม่มั่นใจว่าเป็น', 'ไม่สามารถระบุได้/ไม่มั่นใจว่าเป็น', 'มะเร็งลำไส้', 'ไม่สามารถระบุได้/ไม่มั่นใจว่าเป็น', 'มะเร็งตับ', 'ไม่สามารถระบุได้/ไม่มั่นใจว่าเป็น', 'ไม่สามารถระบุได้/ไม่มั่นใจว่าเป็น', 'ไม่สามารถระบุได้/ไม่มั่นใจว่าเป็น', 'ไม่สามารถระบุได้/ไม่มั่นใจว่าเป็น', 'ไม่สามารถระบุได้/ไม่มั่นใจว่าเป็น', 'ไม่สามารถระบุได้/ไม่มั่นใจว่าเป็น', 'มะเร็งต่อมน้ำเหลือง', 'ไม่สามารถระบุได้/ไม่มั่นใจว่าเป็น', 'ไม่สามารถระบุได้/ไม่มั่นใจว่าเป็น', 'ไม่สามารถระบุได้/ไม่มั่นใจว่าเป็น', 'มะเร็งเต้านม', 'ไม่สามารถระบุได้/ไม่มั่นใจว่าเป็น', 'ไม่สามารถระบุได้/ไม่มั่นใจว่าเป็น', 'มะเร็งเต้านม', 'ไม่สามารถระบุได้/ไม่มั่นใจว่าเป็น', 'ไม่สามารถระบุได้/ไม่มั่นใจว่าเป็น', 'มะเร็งตับอ่อน', 'มะเร็งลำไส้', 'ไม่สามารถระบุได้/ไม่มั่นใจว่าเป็น', 'ไม่สามารถระบุได้/ไม่มั่นใจว่าเป็น', 'ไม่สามารถระบุได้/ไม่มั่นใจว่าเป็น', 'ไม่สามารถระบุได้/ไม่มั่นใจว่าเป็น', 'ไม่สามารถระบุได้/ไม่มั่นใจว่าเป็น', 'ไม่สามารถระบุได้/ไม่มั่นใจว่าเป็น', 'ไม่สามารถระบุได้/ไม่มั่นใจว่าเป็น', 'มะเร็งลำไส้ใหญ่', 'ไม่สามารถระบุได้/ไม่มั่นใจว่าเป็น', 'ไม่สามารถระบุได้/ไม่มั่นใจว่าเป็น', 'ไม่สามารถระบุได้/ไม่มั่นใจว่าเป็น', 'มะเร็งลำไส้ใหญ่', 'ไม่สามารถระบุได้/ไม่มั่นใจว่าเป็น', 'ไม่สามารถระบุได้/ไม่มั่นใจว่าเป็น', 'ไม่สามารถระบุได้/ไม่มั่นใจว่าเป็น', 'ไม่สามารถระบุได้/ไม่มั่นใจว่าเป็น', 'ไม่สามารถระบุได้/ไม่มั่นใจว่าเป็น', 'ไม่สามารถระบุได้/ไม่มั่นใจว่าเป็น', 'มะเร็งปอด', 'ไม่สามารถระบุได้/ไม่มั่นใจว่าเป็น', 'ไม่สามารถระบุได้/ไม่มั่นใจว่าเป็น', 'มะเร็งเต้านม', 'มะเร็งเม็ดเลือดขาว', 'ไม่สามารถระบุได้/ไม่มั่นใจว่าเป็น', 'ไม่สามารถระบุได้/ไม่มั่นใจว่าเป็น', 'ไม่สามารถระบุได้/ไม่มั่นใจว่าเป็น', 'ไม่สามารถระบุได้/ไม่มั่นใจว่าเป็น', 'ไม่สามารถระบุได้/ไม่มั่นใจว่าเป็น', 'มะเร็งช่องปาก', 'ไม่สามารถระบุได้/ไม่มั่นใจว่าเป็น', 'ไม่สามารถระบุได้/ไม่มั่นใจว่าเป็น', 'ไม่สามารถระบุได้/ไม่มั่นใจว่าเป็น', 'ไม่สามารถระบุได้/ไม่มั่นใจว่าเป็น', 'ไม่สามารถระบุได้/ไม่มั่นใจว่าเป็น', 'ไม่สามารถระบุได้/ไม่มั่นใจว่าเป็น', 'ไม่สามารถระบุได้/ไม่มั่นใจว่าเป็น', 'ไม่สามารถระบุได้/ไม่มั่นใจว่าเป็น', 'ไม่สามารถระบุได้/ไม่มั่นใจว่าเป็น', 'ไม่สามารถระบุได้/ไม่มั่นใจว่าเป็น', 'ไม่สามารถระบุได้/ไม่มั่นใจว่าเป็น', 'ไม่สามารถระบุได้/ไม่มั่นใจว่าเป็น', 'ไม่สามารถระบุได้/ไม่มั่นใจว่าเป็น', 'มะเร็งลำไส้', 'ไม่สามารถระบุได้/ไม่มั่นใจว่าเป็น', 'ไม่สามารถระบุได้/ไม่มั่นใจว่าเป็น', 'ไม่สามารถระบุได้/ไม่มั่นใจว่าเป็น', 'ไม่สามารถระบุได้/ไม่มั่นใจว่าเป็น', 'ไม่สามารถระบุได้/ไม่มั่นใจว่าเป็น', 'ไม่สามารถระบุได้/ไม่มั่นใจว่าเป็น', 'ไม่สามารถระบุได้/ไม่มั่นใจว่าเป็น', 'ไม่สามารถระบุได้/ไม่มั่นใจว่าเป็น', 'มะเร็งท่อน้ำดี', 'ไม่สามารถระบุได้/ไม่มั่นใจว่าเป็น', 'ไม่สามารถระบุได้/ไม่มั่นใจว่าเป็น', 'ไม่สามารถระบุได้/ไม่มั่นใจว่าเป็น', 'มะเร็งท่อน้ำดี', 'มะเร็งเต้านม', 'มะเร็งตับ', 'ไม่สามารถระบุได้/ไม่มั่นใจว่าเป็น', 'ไม่สามารถระบุได้/ไม่มั่นใจว่าเป็น', 'ไม่สามารถระบุได้/ไม่มั่นใจว่าเป็น', 'ไม่สามารถระบุได้/ไม่มั่นใจว่าเป็น', 'ไม่สามารถระบุได้/ไม่มั่นใจว่าเป็น', 'ไม่สามารถระบุได้/ไม่มั่นใจว่าเป็น', 'ไม่สามารถระบุได้/ไม่มั่นใจว่าเป็น', 'ไม่สามารถระบุได้/ไม่มั่นใจว่าเป็น', 'ไม่สามารถระบุได้/ไม่มั่นใจว่าเป็น', 'ไม่สามารถระบุได้/ไม่มั่นใจว่าเป็น', 'ไม่สามารถระบุได้/ไม่มั่นใจว่าเป็น', 'ไม่สามารถระบุได้/ไม่มั่นใจว่าเป็น', 'ไม่สามารถระบุได้/ไม่มั่นใจว่าเป็น', 'ไม่สามารถระบุได้/ไม่มั่นใจว่าเป็น', 'ไม่สามารถระบุได้/ไม่มั่นใจว่าเป็น', 'ไม่สามารถระบุได้/ไม่มั่นใจว่าเป็น', 'ไม่สามารถระบุได้/ไม่มั่นใจว่าเป็น', 'ไม่สามารถระบุได้/ไม่มั่นใจว่าเป็น', 'ไม่สามารถระบุได้/ไม่มั่นใจว่าเป็น', 'ไม่สามารถระบุได้/ไม่มั่นใจว่าเป็น', 'ไม่สามารถระบุได้/ไม่มั่นใจว่าเป็น', 'ไม่สามารถระบุได้/ไม่มั่นใจว่าเป็น', 'ไม่สามารถระบุได้/ไม่มั่นใจว่าเป็น', 'มะเร็งตับ', 'ไม่สามารถระบุได้/ไม่มั่นใจว่าเป็น', 'มะเร็งตับอ่อน', 'ไม่สามารถระบุได้/ไม่มั่นใจว่าเป็น', 'ไม่สามารถระบุได้/ไม่มั่นใจว่าเป็น', 'มะเร็งลำไส้', 'ไม่สามารถระบุได้/ไม่มั่นใจว่าเป็น', 'มะเร็งตับอ่อน', 'ไม่สามารถระบุได้/ไม่มั่นใจว่าเป็น', 'ไม่สามารถระบุได้/ไม่มั่นใจว่าเป็น', 'ไม่สามารถระบุได้/ไม่มั่นใจว่าเป็น', 'ไม่สามารถระบุได้/ไม่มั่นใจว่าเป็น', 'มะเร็งต่อมน้ำเหลือง', 'ไม่สามารถระบุได้/ไม่มั่นใจว่าเป็น', 'ไม่สามารถระบุได้/ไม่มั่นใจว่าเป็น', 'ไม่สามารถระบุได้/ไม่มั่นใจว่าเป็น', 'ไม่สามารถระบุได้/ไม่มั่นใจว่าเป็น', 'มะเร็งลำไส้', 'ไม่สามารถระบุได้/ไม่มั่นใจว่าเป็น', 'ไม่สามารถระบุได้/ไม่มั่นใจว่าเป็น', 'ไม่สามารถระบุได้/ไม่มั่นใจว่าเป็น', 'ไม่สามารถระบุได้/ไม่มั่นใจว่าเป็น', 'ไม่สามารถระบุได้/ไม่มั่นใจว่าเป็น', 'ไม่สามารถระบุได้/ไม่มั่นใจว่าเป็น', 'ไม่สามารถระบุได้/ไม่มั่นใจว่าเป็น', 'ไม่สามารถระบุได้/ไม่มั่นใจว่าเป็น', 'ไม่สามารถระบุได้/ไม่มั่นใจว่าเป็น', 'มะเร็งหลอดอาหาร', 'มะเร็งตับ', 'ไม่สามารถระบุได้/ไม่มั่นใจว่าเป็น', 'ไม่สามารถระบุได้/ไม่มั่นใจว่าเป็น', 'มะเร็งลำไส้', 'มะเร็งตับ', 'ไม่สามารถระบุได้/ไม่มั่นใจว่าเป็น', 'ไม่สามารถระบุได้/ไม่มั่นใจว่าเป็น', 'ไม่สามารถระบุได้/ไม่มั่นใจว่าเป็น', 'ไม่สามารถระบุได้/ไม่มั่นใจว่าเป็น', 'มะเร็งปากมดลูก', 'ไม่สามารถระบุได้/ไม่มั่นใจว่าเป็น', 'มะเร็งต่อมน้ำเหลือง', 'ไม่สามารถระบุได้/ไม่มั่นใจว่าเป็น', 'มะเร็งเม็ดเลือดขาว', 'ไม่สามารถระบุได้/ไม่มั่นใจว่าเป็น', 'ไม่สามารถระบุได้/ไม่มั่นใจว่าเป็น', 'ไม่สามารถระบุได้/ไม่มั่นใจว่าเป็น', 'ไม่สามารถระบุได้/ไม่มั่นใจว่าเป็น', 'ไม่สามารถระบุได้/ไม่มั่นใจว่าเป็น', 'มะเร็งตับ', 'ไม่สามารถระบุได้/ไม่มั่นใจว่าเป็น', 'เล่ามากกว่า 2 โรค', 'มะเร็งเต้านม', 'มะเร็งกระดูก', 'ไม่สามารถระบุได้/ไม่มั่นใจว่าเป็น', 'ไม่สามารถระบุได้/ไม่มั่นใจว่าเป็น', 'มะเร็งลำไส้ใหญ่', 'ไม่สามารถระบุได้/ไม่มั่นใจว่าเป็น', 'ไม่สามารถระบุได้/ไม่มั่นใจว่าเป็น', 'ไม่สามารถระบุได้/ไม่มั่นใจว่าเป็น', 'ไม่สามารถระบุได้/ไม่มั่นใจว่าเป็น', 'มะเร็งสมอง', 'ไม่สามารถระบุได้/ไม่มั่นใจว่าเป็น', 'ไม่สามารถระบุได้/ไม่มั่นใจว่าเป็น', 'ไม่สามารถระบุได้/ไม่มั่นใจว่าเป็น', 'ไม่สามารถระบุได้/ไม่มั่นใจว่าเป็น', 'ไม่สามารถระบุได้/ไม่มั่นใจว่าเป็น', 'มะเร็งลำไส้', 'ไม่สามารถระบุได้/ไม่มั่นใจว่าเป็น', 'ไม่สามารถระบุได้/ไม่มั่นใจว่าเป็น', 'มะเร็งเม็ดเลือดขาว', 'ไม่สามารถระบุได้/ไม่มั่นใจว่าเป็น', 'มะเร็งผิวหนัง', 'ไม่สามารถระบุได้/ไม่มั่นใจว่าเป็น', 'ไม่สามารถระบุได้/ไม่มั่นใจว่าเป็น', 'ไม่สามารถระบุได้/ไม่มั่นใจว่าเป็น', 'ไม่สามารถระบุได้/ไม่มั่นใจว่าเป็น', 'ไม่สามารถระบุได้/ไม่มั่นใจว่าเป็น', 'ไม่สามารถระบุได้/ไม่มั่นใจว่าเป็น', 'ไม่สามารถระบุได้/ไม่มั่นใจว่าเป็น', 'มะเร็งปอด', 'ไม่สามารถระบุได้/ไม่มั่นใจว่าเป็น', 'ไม่สามารถระบุได้/ไม่มั่นใจว่าเป็น', 'ไม่สามารถระบุได้/ไม่มั่นใจว่าเป็น', 'มะเร็งเต้านม', 'มะเร็งเม็ดเลือดขาว', 'มะเร็งปอด', 'ไม่สามารถระบุได้/ไม่มั่นใจว่าเป็น', 'ไม่สามารถระบุได้/ไม่มั่นใจว่าเป็น', 'ไม่สามารถระบุได้/ไม่มั่นใจว่าเป็น', 'ไม่สามารถระบุได้/ไม่มั่นใจว่าเป็น', 'ไม่สามารถระบุได้/ไม่มั่นใจว่าเป็น', 'มะเร็งต่อมน้ำเหลือง', 'มะเร็งตับ', 'ไม่สามารถระบุได้/ไม่มั่นใจว่าเป็น', 'ไม่สามารถระบุได้/ไม่มั่นใจว่าเป็น', 'ไม่สามารถระบุได้/ไม่มั่นใจว่าเป็น', 'ไม่สามารถระบุได้/ไม่มั่นใจว่าเป็น', 'ไม่สามารถระบุได้/ไม่มั่นใจว่าเป็น', 'ไม่สามารถระบุได้/ไม่มั่นใจว่าเป็น', 'ไม่สามารถระบุได้/ไม่มั่นใจว่าเป็น', 'เล่ามากกว่า 2 โรค', 'ไม่สามารถระบุได้/ไม่มั่นใจว่าเป็น', 'ไม่สามารถระบุได้/ไม่มั่นใจว่าเป็น', 'ไม่สามารถระบุได้/ไม่มั่นใจว่าเป็น', 'มะเร็งปอด', 'ไม่สามารถระบุได้/ไม่มั่นใจว่าเป็น', 'มะเร็งเต้านม', 'ไม่สามารถระบุได้/ไม่มั่นใจว่าเป็น', 'มะเร็งเต้านม', 'ไม่สามารถระบุได้/ไม่มั่นใจว่าเป็น', 'ไม่สามารถระบุได้/ไม่มั่นใจว่าเป็น', 'ไม่สามารถระบุได้/ไม่มั่นใจว่าเป็น', 'ไม่สามารถระบุได้/ไม่มั่นใจว่าเป็น', 'ไม่สามารถระบุได้/ไม่มั่นใจว่าเป็น', 'ไม่สามารถระบุได้/ไม่มั่นใจว่าเป็น', 'ไม่สามารถระบุได้/ไม่มั่นใจว่าเป็น', 'ไม่สามารถระบุได้/ไม่มั่นใจว่าเป็น', 'มะเร็งปอด', 'ไม่สามารถระบุได้/ไม่มั่นใจว่าเป็น', 'ไม่สามารถระบุได้/ไม่มั่นใจว่าเป็น', 'ไม่สามารถระบุได้/ไม่มั่นใจว่าเป็น', 'ไม่สามารถระบุได้/ไม่มั่นใจว่าเป็น', 'มะเร็งต่อมน้ำเหลือง', 'ไม่สามารถระบุได้/ไม่มั่นใจว่าเป็น', 'ไม่สามารถระบุได้/ไม่มั่นใจว่าเป็น', 'ไม่สามารถระบุได้/ไม่มั่นใจว่าเป็น', 'ไม่สามารถระบุได้/ไม่มั่นใจว่าเป็น', 'ไม่สามารถระบุได้/ไม่มั่นใจว่าเป็น', 'ไม่สามารถระบุได้/ไม่มั่นใจว่าเป็น', 'ไม่สามารถระบุได้/ไม่มั่นใจว่าเป็น', 'มะเร็งเม็ดเลือดขาว', 'ไม่สามารถระบุได้/ไม่มั่นใจว่าเป็น', 'ไม่สามารถระบุได้/ไม่มั่นใจว่าเป็น', 'ไม่สามารถระบุได้/ไม่มั่นใจว่าเป็น', 'มะเร็งเต้านม', 'ไม่สามารถระบุได้/ไม่มั่นใจว่าเป็น', 'ไม่สามารถระบุได้/ไม่มั่นใจว่าเป็น', 'มะเร็งปากมดลูก', 'ไม่สามารถระบุได้/ไม่มั่นใจว่าเป็น', 'มะเร็งเม็ดเลือดขาว', 'ไม่สามารถระบุได้/ไม่มั่นใจว่าเป็น', 'เล่ามากกว่า 2 โรค', 'มะเร็งปากมดลูก', 'เล่ามากกว่า 2 โรค', 'ไม่สามารถระบุได้/ไม่มั่นใจว่าเป็น', 'ไม่สามารถระบุได้/ไม่มั่นใจว่าเป็น', 'ไม่สามารถระบุได้/ไม่มั่นใจว่าเป็น', 'ไม่สามารถระบุได้/ไม่มั่นใจว่าเป็น', 'ไม่สามารถระบุได้/ไม่มั่นใจว่าเป็น', 'ไม่สามารถระบุได้/ไม่มั่นใจว่าเป็น', 'ไม่สามารถระบุได้/ไม่มั่นใจว่าเป็น', 'ไม่สามารถระบุได้/ไม่มั่นใจว่าเป็น', 'ไม่สามารถระบุได้/ไม่มั่นใจว่าเป็น', 'ไม่สามารถระบุได้/ไม่มั่นใจว่าเป็น', 'ไม่สามารถระบุได้/ไม่มั่นใจว่าเป็น', 'ไม่สามารถระบุได้/ไม่มั่นใจว่าเป็น', 'ไม่สามารถระบุได้/ไม่มั่นใจว่าเป็น', 'ไม่สามารถระบุได้/ไม่มั่นใจว่าเป็น', 'ไม่สามารถระบุได้/ไม่มั่นใจว่าเป็น', 'ไม่สามารถระบุได้/ไม่มั่นใจว่าเป็น', 'ไม่สามารถระบุได้/ไม่มั่นใจว่าเป็น', 'ไม่สามารถระบุได้/ไม่มั่นใจว่าเป็น', 'ไม่สามารถระบุได้/ไม่มั่นใจว่าเป็น', 'ไม่สามารถระบุได้/ไม่มั่นใจว่าเป็น', 'ไม่สามารถระบุได้/ไม่มั่นใจว่าเป็น', 'ไม่สามารถระบุได้/ไม่มั่นใจว่าเป็น', 'ไม่สามารถระบุได้/ไม่มั่นใจว่าเป็น', 'มะเร็งตับ', 'ไม่สามารถระบุได้/ไม่มั่นใจว่าเป็น', 'ไม่สามารถระบุได้/ไม่มั่นใจว่าเป็น', 'ไม่สามารถระบุได้/ไม่มั่นใจว่าเป็น', 'ไม่สามารถระบุได้/ไม่มั่นใจว่าเป็น', 'ไม่สามารถระบุได้/ไม่มั่นใจว่าเป็น', 'ไม่สามารถระบุได้/ไม่มั่นใจว่าเป็น', 'มะเร็งลำไส้', 'มะเร็งต่อมลูกหมาก', 'มะเร็งท่อน้ำดี', 'ไม่สามารถระบุได้/ไม่มั่นใจว่าเป็น', 'ไม่สามารถระบุได้/ไม่มั่นใจว่าเป็น', 'ไม่สามารถระบุได้/ไม่มั่นใจว่าเป็น', 'ไม่สามารถระบุได้/ไม่มั่นใจว่าเป็น', 'ไม่สามารถระบุได้/ไม่มั่นใจว่าเป็น', 'ไม่สามารถระบุได้/ไม่มั่นใจว่าเป็น', 'ไม่สามารถระบุได้/ไม่มั่นใจว่าเป็น', 'ไม่สามารถระบุได้/ไม่มั่นใจว่าเป็น', 'ไม่สามารถระบุได้/ไม่มั่นใจว่าเป็น', 'ไม่สามารถระบุได้/ไม่มั่นใจว่าเป็น', 'ไม่สามารถระบุได้/ไม่มั่นใจว่าเป็น', 'ไม่สามารถระบุได้/ไม่มั่นใจว่าเป็น', 'ไม่สามารถระบุได้/ไม่มั่นใจว่าเป็น', 'มะเร็งตับ', 'มะเร็งลำไส้', 'มะเร็งต่อมน้ำเหลือง', 'มะเร็งตับ', 'ไม่สามารถระบุได้/ไม่มั่นใจว่าเป็น', 'ไม่สามารถระบุได้/ไม่มั่นใจว่าเป็น', 'ไม่สามารถระบุได้/ไม่มั่นใจว่าเป็น', 'ไม่สามารถระบุได้/ไม่มั่นใจว่าเป็น', 'ไม่สามารถระบุได้/ไม่มั่นใจว่าเป็น', 'ไม่สามารถระบุได้/ไม่มั่นใจว่าเป็น', 'ไม่สามารถระบุได้/ไม่มั่นใจว่าเป็น', 'ไม่สามารถระบุได้/ไม่มั่นใจว่าเป็น', 'ไม่สามารถระบุได้/ไม่มั่นใจว่าเป็น', 'มะเร็งเต้านม', 'มะเร็งปอด', 'มะเร็งต่อมลูกหมาก', 'ไม่สามารถระบุได้/ไม่มั่นใจว่าเป็น', 'ไม่สามารถระบุได้/ไม่มั่นใจว่าเป็น', 'ไม่สามารถระบุได้/ไม่มั่นใจว่าเป็น', 'มะเร็งสมอง', 'ไม่สามารถระบุได้/ไม่มั่นใจว่าเป็น', 'ไม่สามารถระบุได้/ไม่มั่นใจว่าเป็น', 'ไม่สามารถระบุได้/ไม่มั่นใจว่าเป็น', 'ไม่สามารถระบุได้/ไม่มั่นใจว่าเป็น', 'ไม่สามารถระบุได้/ไม่มั่นใจว่าเป็น', 'ไม่สามารถระบุได้/ไม่มั่นใจว่าเป็น', 'ไม่สามารถระบุได้/ไม่มั่นใจว่าเป็น', 'ไม่สามารถระบุได้/ไม่มั่นใจว่าเป็น', 'ไม่สามารถระบุได้/ไม่มั่นใจว่าเป็น', 'ไม่สามารถระบุได้/ไม่มั่นใจว่าเป็น', 'ไม่สามารถระบุได้/ไม่มั่นใจว่าเป็น', 'ไม่สามารถระบุได้/ไม่มั่นใจว่าเป็น', 'ไม่สามารถระบุได้/ไม่มั่นใจว่าเป็น', 'ไม่สามารถระบุได้/ไม่มั่นใจว่าเป็น', 'มะเร็งปอด', 'ไม่สามารถระบุได้/ไม่มั่นใจว่าเป็น', 'ไม่สามารถระบุได้/ไม่มั่นใจว่าเป็น', 'มะเร็งลำไส้', 'ไม่สามารถระบุได้/ไม่มั่นใจว่าเป็น', 'ไม่สามารถระบุได้/ไม่มั่นใจว่าเป็น', 'ไม่สามารถระบุได้/ไม่มั่นใจว่าเป็น', 'มะเร็งตับ', 'ไม่สามารถระบุได้/ไม่มั่นใจว่าเป็น', 'ไม่สามารถระบุได้/ไม่มั่นใจว่าเป็น', 'ไม่สามารถระบุได้/ไม่มั่นใจว่าเป็น', 'ไม่สามารถระบุได้/ไม่มั่นใจว่าเป็น', 'ไม่สามารถระบุได้/ไม่มั่นใจว่าเป็น', 'ไม่สามารถระบุได้/ไม่มั่นใจว่าเป็น', 'ไม่สามารถระบุได้/ไม่มั่นใจว่าเป็น', 'ไม่สามารถระบุได้/ไม่มั่นใจว่าเป็น', 'ไม่สามารถระบุได้/ไม่มั่นใจว่าเป็น', 'ไม่สามารถระบุได้/ไม่มั่นใจว่าเป็น', 'ไม่สามารถระบุได้/ไม่มั่นใจว่าเป็น', 'ไม่สามารถระบุได้/ไม่มั่นใจว่าเป็น', 'ไม่สามารถระบุได้/ไม่มั่นใจว่าเป็น', 'ไม่สามารถระบุได้/ไม่มั่นใจว่าเป็น', 'ไม่สามารถระบุได้/ไม่มั่นใจว่าเป็น', 'ไม่สามารถระบุได้/ไม่มั่นใจว่าเป็น', 'ไม่สามารถระบุได้/ไม่มั่นใจว่าเป็น', 'มะเร็งลำไส้', 'มะเร็งลำไส้', 'ไม่สามารถระบุได้/ไม่มั่นใจว่าเป็น', 'ไม่สามารถระบุได้/ไม่มั่นใจว่าเป็น', 'ไม่สามารถระบุได้/ไม่มั่นใจว่าเป็น', 'มะเร็งรังไข่', 'มะเร็งต่อมน้ำเหลือง', 'ไม่สามารถระบุได้/ไม่มั่นใจว่าเป็น', 'ไม่สามารถระบุได้/ไม่มั่นใจว่าเป็น', 'เล่ามากกว่า 2 โรค', 'ไม่สามารถระบุได้/ไม่มั่นใจว่าเป็น', 'ไม่สามารถระบุได้/ไม่มั่นใจว่าเป็น', 'ไม่สามารถระบุได้/ไม่มั่นใจว่าเป็น', 'มะเร็งลำไส้', 'ไม่สามารถระบุได้/ไม่มั่นใจว่าเป็น', 'มะเร็งตับ', 'ไม่สามารถระบุได้/ไม่มั่นใจว่าเป็น', 'ไม่สามารถระบุได้/ไม่มั่นใจว่าเป็น', 'ไม่สามารถระบุได้/ไม่มั่นใจว่าเป็น', 'มะเร็งลำไส้', 'ไม่สามารถระบุได้/ไม่มั่นใจว่าเป็น', 'มะเร็งเต้านม', 'ไม่สามารถระบุได้/ไม่มั่นใจว่าเป็น', 'ไม่สามารถระบุได้/ไม่มั่นใจว่าเป็น', 'มะเร็งเต้านม', 'ไม่สามารถระบุได้/ไม่มั่นใจว่าเป็น', 'ไม่สามารถระบุได้/ไม่มั่นใจว่าเป็น', 'มะเร็งช่องปาก', 'ไม่สามารถระบุได้/ไม่มั่นใจว่าเป็น', 'ไม่สามารถระบุได้/ไม่มั่นใจว่าเป็น', 'ไม่สามารถระบุได้/ไม่มั่นใจว่าเป็น', 'ไม่สามารถระบุได้/ไม่มั่นใจว่าเป็น', 'ไม่สามารถระบุได้/ไม่มั่นใจว่าเป็น', 'ไม่สามารถระบุได้/ไม่มั่นใจว่าเป็น', 'ไม่สามารถระบุได้/ไม่มั่นใจว่าเป็น', 'ไม่สามารถระบุได้/ไม่มั่นใจว่าเป็น', 'ไม่สามารถระบุได้/ไม่มั่นใจว่าเป็น', 'ไม่สามารถระบุได้/ไม่มั่นใจว่าเป็น', 'มะเร็งต่อมไทรอยด์', 'มะเร็งปอด', 'ไม่สามารถระบุได้/ไม่มั่นใจว่าเป็น', 'ไม่สามารถระบุได้/ไม่มั่นใจว่าเป็น', 'มะเร็งลำไส้', 'ไม่สามารถระบุได้/ไม่มั่นใจว่าเป็น', 'ไม่สามารถระบุได้/ไม่มั่นใจว่าเป็น', 'ไม่สามารถระบุได้/ไม่มั่นใจว่าเป็น', 'ไม่สามารถระบุได้/ไม่มั่นใจว่าเป็น', 'มะเร็งถุงน้ำดี', 'มะเร็งต่อมลูกหมาก', 'ไม่สามารถระบุได้/ไม่มั่นใจว่าเป็น', 'ไม่สามารถระบุได้/ไม่มั่นใจว่าเป็น', 'ไม่สามารถระบุได้/ไม่มั่นใจว่าเป็น', 'มะเร็งท่อน้ำดี', 'มะเร็งตับ', 'เล่ามากกว่า 2 โรค', 'ไม่สามารถระบุได้/ไม่มั่นใจว่าเป็น', 'ไม่สามารถระบุได้/ไม่มั่นใจว่าเป็น', 'ไม่สามารถระบุได้/ไม่มั่นใจว่าเป็น', 'มะเร็งเต้านม', 'ไม่สามารถระบุได้/ไม่มั่นใจว่าเป็น', 'ไม่สามารถระบุได้/ไม่มั่นใจว่าเป็น', 'มะเร็งปากมดลูก', 'ไม่สามารถระบุได้/ไม่มั่นใจว่าเป็น', 'ไม่สามารถระบุได้/ไม่มั่นใจว่าเป็น', 'มะเร็งลำไส้ใหญ่', 'ไม่สามารถระบุได้/ไม่มั่นใจว่าเป็น', 'ไม่สามารถระบุได้/ไม่มั่นใจว่าเป็น', 'ไม่สามารถระบุได้/ไม่มั่นใจว่าเป็น', 'ไม่สามารถระบุได้/ไม่มั่นใจว่าเป็น', 'ไม่สามารถระบุได้/ไม่มั่นใจว่าเป็น', 'ไม่สามารถระบุได้/ไม่มั่นใจว่าเป็น', 'ไม่สามารถระบุได้/ไม่มั่นใจว่าเป็น', 'ไม่สามารถระบุได้/ไม่มั่นใจว่าเป็น', 'ไม่สามารถระบุได้/ไม่มั่นใจว่าเป็น', 'ไม่สามารถระบุได้/ไม่มั่นใจว่าเป็น', 'ไม่สามารถระบุได้/ไม่มั่นใจว่าเป็น', 'ไม่สามารถระบุได้/ไม่มั่นใจว่าเป็น', 'ไม่สามารถระบุได้/ไม่มั่นใจว่าเป็น', 'ไม่สามารถระบุได้/ไม่มั่นใจว่าเป็น', 'ไม่สามารถระบุได้/ไม่มั่นใจว่าเป็น', 'ไม่สามารถระบุได้/ไม่มั่นใจว่าเป็น', 'ไม่สามารถระบุได้/ไม่มั่นใจว่าเป็น', 'ไม่สามารถระบุได้/ไม่มั่นใจว่าเป็น', 'ไม่สามารถระบุได้/ไม่มั่นใจว่าเป็น', 'มะเร็งลำไส้ใหญ่', 'มะเร็งเต้านม', 'ไม่สามารถระบุได้/ไม่มั่นใจว่าเป็น', 'ไม่สามารถระบุได้/ไม่มั่นใจว่าเป็น', 'ไม่สามารถระบุได้/ไม่มั่นใจว่าเป็น', 'ไม่สามารถระบุได้/ไม่มั่นใจว่าเป็น', 'ไม่สามารถระบุได้/ไม่มั่นใจว่าเป็น', 'ไม่สามารถระบุได้/ไม่มั่นใจว่าเป็น', 'มะเร็งตับ', 'มะเร็งกระเพาะอาหาร', 'ไม่สามารถระบุได้/ไม่มั่นใจว่าเป็น', 'ไม่สามารถระบุได้/ไม่มั่นใจว่าเป็น', 'ไม่สามารถระบุได้/ไม่มั่นใจว่าเป็น', 'ไม่สามารถระบุได้/ไม่มั่นใจว่าเป็น', 'ไม่สามารถระบุได้/ไม่มั่นใจว่าเป็น', 'ไม่สามารถระบุได้/ไม่มั่นใจว่าเป็น', 'ไม่สามารถระบุได้/ไม่มั่นใจว่าเป็น', 'ไม่สามารถระบุได้/ไม่มั่นใจว่าเป็น', 'ไม่สามารถระบุได้/ไม่มั่นใจว่าเป็น', 'มะเร็งเม็ดเลือดขาว', 'มะเร็งตับ', 'ไม่สามารถระบุได้/ไม่มั่นใจว่าเป็น', 'ไม่สามารถระบุได้/ไม่มั่นใจว่าเป็น', 'ไม่สามารถระบุได้/ไม่มั่นใจว่าเป็น', 'ไม่สามารถระบุได้/ไม่มั่นใจว่าเป็น', 'ไม่สามารถระบุได้/ไม่มั่นใจว่าเป็น', 'ไม่สามารถระบุได้/ไม่มั่นใจว่าเป็น', 'มะเร็งเต้านม', 'ไม่สามารถระบุได้/ไม่มั่นใจว่าเป็น', 'ไม่สามารถระบุได้/ไม่มั่นใจว่าเป็น', 'ไม่สามารถระบุได้/ไม่มั่นใจว่าเป็น', 'มะเร็งปอด', 'ไม่สามารถระบุได้/ไม่มั่นใจว่าเป็น', 'ไม่สามารถระบุได้/ไม่มั่นใจว่าเป็น', 'มะเร็งกระดูก', 'ไม่สามารถระบุได้/ไม่มั่นใจว่าเป็น', 'ไม่สามารถระบุได้/ไม่มั่นใจว่าเป็น', 'มะเร็งตับ', 'ไม่สามารถระบุได้/ไม่มั่นใจว่าเป็น', 'ไม่สามารถระบุได้/ไม่มั่นใจว่าเป็น', 'ไม่สามารถระบุได้/ไม่มั่นใจว่าเป็น', 'ไม่สามารถระบุได้/ไม่มั่นใจว่าเป็น', 'ไม่สามารถระบุได้/ไม่มั่นใจว่าเป็น', 'มะเร็งปอด', 'มะเร็งลำไส้', 'ไม่สามารถระบุได้/ไม่มั่นใจว่าเป็น', 'ไม่สามารถระบุได้/ไม่มั่นใจว่าเป็น', 'มะเร็งกระเพาะอาหาร', 'ไม่สามารถระบุได้/ไม่มั่นใจว่าเป็น', 'ไม่สามารถระบุได้/ไม่มั่นใจว่าเป็น', 'ไม่สามารถระบุได้/ไม่มั่นใจว่าเป็น', 'ไม่สามารถระบุได้/ไม่มั่นใจว่าเป็น', 'ไม่สามารถระบุได้/ไม่มั่นใจว่าเป็น', 'ไม่สามารถระบุได้/ไม่มั่นใจว่าเป็น', 'ไม่สามารถระบุได้/ไม่มั่นใจว่าเป็น', 'ไม่สามารถระบุได้/ไม่มั่นใจว่าเป็น', 'ไม่สามารถระบุได้/ไม่มั่นใจว่าเป็น', 'ไม่สามารถระบุได้/ไม่มั่นใจว่าเป็น', 'ไม่สามารถระบุได้/ไม่มั่นใจว่าเป็น', 'ไม่สามารถระบุได้/ไม่มั่นใจว่าเป็น', 'มะเร็งลำไส้ใหญ่', 'มะเร็งตับอ่อน', 'ไม่สามารถระบุได้/ไม่มั่นใจว่าเป็น', 'ไม่สามารถระบุได้/ไม่มั่นใจว่าเป็น', 'ไม่สามารถระบุได้/ไม่มั่นใจว่าเป็น', 'ไม่สามารถระบุได้/ไม่มั่นใจว่าเป็น', 'ไม่สามารถระบุได้/ไม่มั่นใจว่าเป็น', 'ไม่สามารถระบุได้/ไม่มั่นใจว่าเป็น', 'มะเร็งเต้านม', 'ไม่สามารถระบุได้/ไม่มั่นใจว่าเป็น', 'ไม่สามารถระบุได้/ไม่มั่นใจว่าเป็น', 'ไม่สามารถระบุได้/ไม่มั่นใจว่าเป็น', 'ไม่สามารถระบุได้/ไม่มั่นใจว่าเป็น', 'ไม่สามารถระบุได้/ไม่มั่นใจว่าเป็น', 'มะเร็งลำไส้', 'ไม่สามารถระบุได้/ไม่มั่นใจว่าเป็น', 'ไม่สามารถระบุได้/ไม่มั่นใจว่าเป็น', 'มะเร็งต่อมไทรอยด์', 'ไม่สามารถระบุได้/ไม่มั่นใจว่าเป็น', 'ไม่สามารถระบุได้/ไม่มั่นใจว่าเป็น', 'ไม่สามารถระบุได้/ไม่มั่นใจว่าเป็น', 'มะเร็งปากมดลูก', 'มะเร็งเต้านม', 'มะเร็งลำไส้ใหญ่', 'มะเร็งสมอง', 'มะเร็งเต้านม', 'ไม่สามารถระบุได้/ไม่มั่นใจว่าเป็น', 'ไม่สามารถระบุได้/ไม่มั่นใจว่าเป็น', 'ไม่สามารถระบุได้/ไม่มั่นใจว่าเป็น', 'มะเร็งลำไส้', 'มะเร็งเม็ดเลือดขาว', 'ไม่สามารถระบุได้/ไม่มั่นใจว่าเป็น', 'ไม่สามารถระบุได้/ไม่มั่นใจว่าเป็น', 'ไม่สามารถระบุได้/ไม่มั่นใจว่าเป็น', 'ไม่สามารถระบุได้/ไม่มั่นใจว่าเป็น', 'ไม่สามารถระบุได้/ไม่มั่นใจว่าเป็น', 'ไม่สามารถระบุได้/ไม่มั่นใจว่าเป็น', 'ไม่สามารถระบุได้/ไม่มั่นใจว่าเป็น', 'ไม่สามารถระบุได้/ไม่มั่นใจว่าเป็น', 'ไม่สามารถระบุได้/ไม่มั่นใจว่าเป็น', 'ไม่สามารถระบุได้/ไม่มั่นใจว่าเป็น', 'ไม่สามารถระบุได้/ไม่มั่นใจว่าเป็น', 'ไม่สามารถระบุได้/ไม่มั่นใจว่าเป็น', 'เล่ามากกว่า 2 โรค', 'ไม่สามารถระบุได้/ไม่มั่นใจว่าเป็น', 'มะเร็งตับ', 'มะเร็งปอด', 'มะเร็งรังไข่', 'ไม่สามารถระบุได้/ไม่มั่นใจว่าเป็น', 'มะเร็งตับ', 'ไม่สามารถระบุได้/ไม่มั่นใจว่าเป็น', 'ไม่สามารถระบุได้/ไม่มั่นใจว่าเป็น', 'ไม่สามารถระบุได้/ไม่มั่นใจว่าเป็น', 'ไม่สามารถระบุได้/ไม่มั่นใจว่าเป็น', 'ไม่สามารถระบุได้/ไม่มั่นใจว่าเป็น', 'ไม่สามารถระบุได้/ไม่มั่นใจว่าเป็น', 'ไม่สามารถระบุได้/ไม่มั่นใจว่าเป็น', 'ไม่สามารถระบุได้/ไม่มั่นใจว่าเป็น', 'ไม่สามารถระบุได้/ไม่มั่นใจว่าเป็น', 'ไม่สามารถระบุได้/ไม่มั่นใจว่าเป็น', 'มะเร็งปอด', 'ไม่สามารถระบุได้/ไม่มั่นใจว่าเป็น', 'ไม่สามารถระบุได้/ไม่มั่นใจว่าเป็น', 'ไม่สามารถระบุได้/ไม่มั่นใจว่าเป็น', 'ไม่สามารถระบุได้/ไม่มั่นใจว่าเป็น', 'ไม่สามารถระบุได้/ไม่มั่นใจว่าเป็น', 'มะเร็งเต้านม', 'ไม่สามารถระบุได้/ไม่มั่นใจว่าเป็น', 'มะเร็งปอด', 'ไม่สามารถระบุได้/ไม่มั่นใจว่าเป็น', 'ไม่สามารถระบุได้/ไม่มั่นใจว่าเป็น', 'มะเร็งปอด', 'ไม่สามารถระบุได้/ไม่มั่นใจว่าเป็น', 'มะเร็งต่อมน้ำเหลือง', 'ไม่สามารถระบุได้/ไม่มั่นใจว่าเป็น', 'ไม่สามารถระบุได้/ไม่มั่นใจว่าเป็น', 'ไม่สามารถระบุได้/ไม่มั่นใจว่าเป็น', 'ไม่สามารถระบุได้/ไม่มั่นใจว่าเป็น', 'มะเร็งตับ', 'ไม่สามารถระบุได้/ไม่มั่นใจว่าเป็น', 'มะเร็งลำไส้', 'มะเร็งเม็ดเลือดขาว', 'มะเร็งลำไส้', 'เล่ามากกว่า 2 โรค', 'ไม่สามารถระบุได้/ไม่มั่นใจว่าเป็น', 'ไม่สามารถระบุได้/ไม่มั่นใจว่าเป็น', 'ไม่สามารถระบุได้/ไม่มั่นใจว่าเป็น', 'ไม่สามารถระบุได้/ไม่มั่นใจว่าเป็น', 'มะเร็งปอด', 'มะเร็งปอด', 'ไม่สามารถระบุได้/ไม่มั่นใจว่าเป็น', 'ไม่สามารถระบุได้/ไม่มั่นใจว่าเป็น', 'ไม่สามารถระบุได้/ไม่มั่นใจว่าเป็น', 'ไม่สามารถระบุได้/ไม่มั่นใจว่าเป็น', 'ไม่สามารถระบุได้/ไม่มั่นใจว่าเป็น', 'ไม่สามารถระบุได้/ไม่มั่นใจว่าเป็น', 'ไม่สามารถระบุได้/ไม่มั่นใจว่าเป็น', 'ไม่สามารถระบุได้/ไม่มั่นใจว่าเป็น', 'มะเร็งเต้านม', 'มะเร็งต่อมน้ำเหลือง', 'ไม่สามารถระบุได้/ไม่มั่นใจว่าเป็น', 'ไม่สามารถระบุได้/ไม่มั่นใจว่าเป็น', 'ไม่สามารถระบุได้/ไม่มั่นใจว่าเป็น', 'ไม่สามารถระบุได้/ไม่มั่นใจว่าเป็น', 'ไม่สามารถระบุได้/ไม่มั่นใจว่าเป็น', 'มะเร็งปอด', 'มะเร็งลำไส้', 'มะเร็งตับ', 'มะเร็งปากมดลูก', 'ไม่สามารถระบุได้/ไม่มั่นใจว่าเป็น', 'ไม่สามารถระบุได้/ไม่มั่นใจว่าเป็น', 'ไม่สามารถระบุได้/ไม่มั่นใจว่าเป็น', 'ไม่สามารถระบุได้/ไม่มั่นใจว่าเป็น', 'ไม่สามารถระบุได้/ไม่มั่นใจว่าเป็น', 'ไม่สามารถระบุได้/ไม่มั่นใจว่าเป็น', 'มะเร็งเยื่อบุโพรงมดลูก', 'ไม่สามารถระบุได้/ไม่มั่นใจว่าเป็น', 'มะเร็งลำไส้', 'ไม่สามารถระบุได้/ไม่มั่นใจว่าเป็น', 'ไม่สามารถระบุได้/ไม่มั่นใจว่าเป็น', 'ไม่สามารถระบุได้/ไม่มั่นใจว่าเป็น', 'ไม่สามารถระบุได้/ไม่มั่นใจว่าเป็น', 'ไม่สามารถระบุได้/ไม่มั่นใจว่าเป็น', 'ไม่สามารถระบุได้/ไม่มั่นใจว่าเป็น', 'ไม่สามารถระบุได้/ไม่มั่นใจว่าเป็น', 'ไม่สามารถระบุได้/ไม่มั่นใจว่าเป็น', 'ไม่สามารถระบุได้/ไม่มั่นใจว่าเป็น', 'ไม่สามารถระบุได้/ไม่มั่นใจว่าเป็น', 'มะเร็งลำไส้', 'ไม่สามารถระบุได้/ไม่มั่นใจว่าเป็น', 'ไม่สามารถระบุได้/ไม่มั่นใจว่าเป็น', 'ไม่สามารถระบุได้/ไม่มั่นใจว่าเป็น', 'ไม่สามารถระบุได้/ไม่มั่นใจว่าเป็น', 'ไม่สามารถระบุได้/ไม่มั่นใจว่าเป็น', 'ไม่สามารถระบุได้/ไม่มั่นใจว่าเป็น', 'มะเร็งปากมดลูก', 'ไม่สามารถระบุได้/ไม่มั่นใจว่าเป็น', 'ไม่สามารถระบุได้/ไม่มั่นใจว่าเป็น', 'ไม่สามารถระบุได้/ไม่มั่นใจว่าเป็น', 'มะเร็งตับ', 'มะเร็งหลอดอาหาร', 'ไม่สามารถระบุได้/ไม่มั่นใจว่าเป็น', 'ไม่สามารถระบุได้/ไม่มั่นใจว่าเป็น', 'ไม่สามารถระบุได้/ไม่มั่นใจว่าเป็น', 'ไม่สามารถระบุได้/ไม่มั่นใจว่าเป็น', 'ไม่สามารถระบุได้/ไม่มั่นใจว่าเป็น', 'ไม่สามารถระบุได้/ไม่มั่นใจว่าเป็น', 'ไม่สามารถระบุได้/ไม่มั่นใจว่าเป็น', 'ไม่สามารถระบุได้/ไม่มั่นใจว่าเป็น', 'ไม่สามารถระบุได้/ไม่มั่นใจว่าเป็น', 'ไม่สามารถระบุได้/ไม่มั่นใจว่าเป็น', 'ไม่สามารถระบุได้/ไม่มั่นใจว่าเป็น', 'ไม่สามารถระบุได้/ไม่มั่นใจว่าเป็น', 'มะเร็งท่อน้ำดี', 'ไม่สามารถระบุได้/ไม่มั่นใจว่าเป็น', 'ไม่สามารถระบุได้/ไม่มั่นใจว่าเป็น', 'ไม่สามารถระบุได้/ไม่มั่นใจว่าเป็น', 'ไม่สามารถระบุได้/ไม่มั่นใจว่าเป็น', 'ไม่สามารถระบุได้/ไม่มั่นใจว่าเป็น', 'ไม่สามารถระบุได้/ไม่มั่นใจว่าเป็น', 'ไม่สามารถระบุได้/ไม่มั่นใจว่าเป็น', 'มะเร็งเต้านม', 'ไม่สามารถระบุได้/ไม่มั่นใจว่าเป็น', 'ไม่สามารถระบุได้/ไม่มั่นใจว่าเป็น', 'มะเร็งปอด', 'ไม่สามารถระบุได้/ไม่มั่นใจว่าเป็น', 'ไม่สามารถระบุได้/ไม่มั่นใจว่าเป็น', 'ไม่สามารถระบุได้/ไม่มั่นใจว่าเป็น', 'ไม่สามารถระบุได้/ไม่มั่นใจว่าเป็น', 'มะเร็งปอด', 'ไม่สามารถระบุได้/ไม่มั่นใจว่าเป็น', 'ไม่สามารถระบุได้/ไม่มั่นใจว่าเป็น', 'มะเร็งตับ', 'มะเร็งรังไข่', 'มะเร็งปอด', 'ไม่สามารถระบุได้/ไม่มั่นใจว่าเป็น', 'ไม่สามารถระบุได้/ไม่มั่นใจว่าเป็น', 'ไม่สามารถระบุได้/ไม่มั่นใจว่าเป็น', 'ไม่สามารถระบุได้/ไม่มั่นใจว่าเป็น', 'มะเร็งลำไส้', 'ไม่สามารถระบุได้/ไม่มั่นใจว่าเป็น', 'ไม่สามารถระบุได้/ไม่มั่นใจว่าเป็น', 'ไม่สามารถระบุได้/ไม่มั่นใจว่าเป็น', 'ไม่สามารถระบุได้/ไม่มั่นใจว่าเป็น', 'ไม่สามารถระบุได้/ไม่มั่นใจว่าเป็น', 'ไม่สามารถระบุได้/ไม่มั่นใจว่าเป็น', 'มะเร็งเต้านม', 'ไม่สามารถระบุได้/ไม่มั่นใจว่าเป็น', 'มะเร็งปอด', 'ไม่สามารถระบุได้/ไม่มั่นใจว่าเป็น', 'ไม่สามารถระบุได้/ไม่มั่นใจว่าเป็น', 'ไม่สามารถระบุได้/ไม่มั่นใจว่าเป็น', 'มะเร็งเยื่อบุโพรงมดลูก', 'ไม่สามารถระบุได้/ไม่มั่นใจว่าเป็น', 'ไม่สามารถระบุได้/ไม่มั่นใจว่าเป็น', 'ไม่สามารถระบุได้/ไม่มั่นใจว่าเป็น', 'ไม่สามารถระบุได้/ไม่มั่นใจว่าเป็น', 'ไม่สามารถระบุได้/ไม่มั่นใจว่าเป็น', 'ไม่สามารถระบุได้/ไม่มั่นใจว่าเป็น', 'ไม่สามารถระบุได้/ไม่มั่นใจว่าเป็น', 'ไม่สามารถระบุได้/ไม่มั่นใจว่าเป็น', 'เล่ามากกว่า 2 โรค', 'ไม่สามารถระบุได้/ไม่มั่นใจว่าเป็น', 'มะเร็งเม็ดเลือดขาว', 'ไม่สามารถระบุได้/ไม่มั่นใจว่าเป็น', 'ไม่สามารถระบุได้/ไม่มั่นใจว่าเป็น', 'ไม่สามารถระบุได้/ไม่มั่นใจว่าเป็น', 'ไม่สามารถระบุได้/ไม่มั่นใจว่าเป็น', 'ไม่สามารถระบุได้/ไม่มั่นใจว่าเป็น', 'ไม่สามารถระบุได้/ไม่มั่นใจว่าเป็น', 'ไม่สามารถระบุได้/ไม่มั่นใจว่าเป็น', 'มะเร็งต่อมน้ำเหลือง', 'ไม่สามารถระบุได้/ไม่มั่นใจว่าเป็น', 'มะเร็งตับ', 'ไม่สามารถระบุได้/ไม่มั่นใจว่าเป็น', 'ไม่สามารถระบุได้/ไม่มั่นใจว่าเป็น', 'เล่ามากกว่า 2 โรค', 'มะเร็งลำไส้ใหญ่', 'ไม่สามารถระบุได้/ไม่มั่นใจว่าเป็น', 'มะเร็งเม็ดเลือดขาว', 'มะเร็งถุงน้ำดี', 'มะเร็งเต้านม', 'ไม่สามารถระบุได้/ไม่มั่นใจว่าเป็น', 'ไม่สามารถระบุได้/ไม่มั่นใจว่าเป็น', 'ไม่สามารถระบุได้/ไม่มั่นใจว่าเป็น', 'ไม่สามารถระบุได้/ไม่มั่นใจว่าเป็น', 'ไม่สามารถระบุได้/ไม่มั่นใจว่าเป็น', 'มะเร็งรังไข่', 'มะเร็งเม็ดเลือดขาว', 'ไม่สามารถระบุได้/ไม่มั่นใจว่าเป็น', 'ไม่สามารถระบุได้/ไม่มั่นใจว่าเป็น', 'ไม่สามารถระบุได้/ไม่มั่นใจว่าเป็น', 'ไม่สามารถระบุได้/ไม่มั่นใจว่าเป็น', 'มะเร็งรังไข่', 'ไม่สามารถระบุได้/ไม่มั่นใจว่าเป็น']\n"
          ]
        }
      ],
      "source": [
        "new_colcan = []\n",
        "for i in range(len(comment)):#len(comment)\n",
        "  text= comment['คำพูดโรค'][i]\n",
        "  custom_tokenizer = Tokenizer(words)\n",
        "  Token = custom_tokenizer.word_tokenize(normalize(str(text)))\n",
        "  Token.append('end')\n",
        "  #หาโรค\n",
        "  #--------------------------------------------------------\n",
        "  list_cancer = []\n",
        "  for i in range(len(Token)):\n",
        "    if (Token[i] == \"มะเร็ง\")|(Token[i] == \"โรคมะเร็ง\"):\n",
        "      list_cancer.append(Token[i]+Token[i+1])\n",
        "    # else :\n",
        "    #   list_cancer.append('ไม่สามารถระบุได้')\n",
        "  unique_list = list(OrderedDict.fromkeys(list_cancer))\n",
        "  #----------------------------------------------------------\n",
        "  list_define_cancer = []\n",
        "  new_list=[]\n",
        "  for i in range(len(unique_list)):\n",
        "    for j in range(len(name_cancar)):\n",
        "      if unique_list[i]==name_cancar[j]:\n",
        "        list_define_cancer.append(unique_list[i])\n",
        "  #-----------------------------------------------------\n",
        "  cancer_list_de2 =[]\n",
        "  if len(list_define_cancer) > 0:\n",
        "    if len(list_define_cancer) == 2:\n",
        "      cancer_list_de2.append('เล่ามากกว่า 2 โรค')\n",
        "    elif len(list_define_cancer)==1:\n",
        "      cancer_list_de2.append(list_define_cancer[0])\n",
        "  elif list_define_cancer==[]:\n",
        "    cancer_list_de2.append('ไม่สามารถระบุได้/ไม่มั่นใจว่าเป็น')\n",
        "  if len(cancer_list_de2)> 0 :\n",
        "    new_colcan.append(cancer_list_de2[0])\n",
        "  elif len(cancer_list_de2)== 0 :\n",
        "    new_colcan.append('ไม่สามารถระบุได้/ไม่มั่นใจว่าเป็น')\n",
        "print(new_colcan)"
      ]
    },
    {
      "cell_type": "code",
      "execution_count": null,
      "metadata": {
        "colab": {
          "background_save": true
        },
        "id": "oHQ_NBsDNBW9"
      },
      "outputs": [],
      "source": [
        "Genden = {'ชาย':['พ่อ','บิดา','พี่ชาย','น้องชาย','ลูกชาย','สามี','พัว','ผัว','ปู่','ตา','คุณปู่','คุณตา','คุณพ่อ',\n",
        "                 'ปู่ทวด','ตาทวด','ลุง','อาหนู','คุณอา','คุณลุง','หลายชาย','ลูกเขย','เขย','พี่เขย','น้องเขย',\n",
        "                 'พ่อตา','พ่อผม','พ่อหนู','พ่อพม','ชาย','หนุ่ม','ลช.','ผ่อ','ชย.','น้าชาย','ผ่อตา','หน.']\n",
        "          ,'หญิง':['แม่','เเม่','คุณแม่','มารดา','พี่สาว','น้องสาว','ลูกสาว','ภรรยา','เมีย','ย่า','ยาย','คุณย่า',\n",
        "                   'คุณยาย','คุณเเม่','ย่าทวด','ยายทวด','ป้า','น้า','คุณป้า','คุณน้า','หลายสาว','ลูกสะใถ้',\n",
        "                   'ลูกสะใภ้','สะใภ้','พี่สะใภ้','น้องสะใภ้','เเม่ผม','เเม่หนู','เเม่พม','แม่ผม','แม่หนู','แม่พม','สาว','หญิง','ก้อน','คลำ']}"
      ]
    },
    {
      "cell_type": "code",
      "execution_count": null,
      "metadata": {
        "colab": {
          "background_save": true
        },
        "id": "NZF2lHGmR51r",
        "outputId": "14ec9e07-a2b9-484f-86bd-6baa0002227e"
      },
      "outputs": [
        {
          "data": {
            "text/plain": [
              "36"
            ]
          },
          "execution_count": 12,
          "metadata": {},
          "output_type": "execute_result"
        }
      ],
      "source": [
        "len(Genden['ชาย'])"
      ]
    },
    {
      "cell_type": "code",
      "execution_count": null,
      "metadata": {
        "id": "I_4dMl2EOvfi"
      },
      "outputs": [],
      "source": [
        "new_colgenden=[]\n",
        "for i in range(len(comment)):\n",
        "  text= comment['คำพูดโรค'][i]\n",
        "  custom_tokenizer = Tokenizer(words)\n",
        "  Token = custom_tokenizer.word_tokenize(normalize(str(text)))\n",
        "  Token.append('end')\n",
        "  list_genden = []\n",
        "  for j in range(len(Genden['หญิง'])):\n",
        "    for k in range(len(Token)):\n",
        "      if (Token[k] == Genden['ชาย'][j]):\n",
        "        list_genden.append('เพศชาย')\n",
        "      elif(Token[k] == Genden['หญิง'][j]):\n",
        "        list_genden.append('เพศหญิง')\n",
        "  genden_list =[]\n",
        "  genden_list = list(OrderedDict.fromkeys(list_genden)) # ลบคำซ้ำ\n",
        "  #-------------------------------------------------------------------\n",
        "  list_define_genden = []\n",
        "  if len(genden_list) > 0 :\n",
        "    if len(genden_list) == 2:\n",
        "      list_define_genden.append('เล่าทั้งสองเพศ')\n",
        "    elif len(genden_list)==1:\n",
        "      list_define_genden.append(genden_list[0])\n",
        "  elif len(genden_list)==0:\n",
        "    list_define_genden.append('ไม่สามารถระบุได้/ไม่มั่นใจว่าเป็น')\n",
        "  genden_list_de =[]\n",
        "  genden_list_de = list(OrderedDict.fromkeys(list_define_genden))\n",
        "  new_colgenden.append(genden_list_de[0])\n",
        "print(new_colgenden)"
      ]
    },
    {
      "cell_type": "code",
      "execution_count": null,
      "metadata": {
        "id": "oX0P7Rz2sqaR"
      },
      "outputs": [],
      "source": [
        "comment"
      ]
    },
    {
      "cell_type": "code",
      "execution_count": null,
      "metadata": {
        "id": "WToq2cJpkRTb"
      },
      "outputs": [],
      "source": [
        "point =[]\n",
        "k =[]\n",
        "r=comment\n",
        "for i in range(len(comment)):\n",
        "  text= comment['คำพูดโรค'][i]\n",
        "  custom_tokenizer = Tokenizer(words)\n",
        "  Token = custom_tokenizer.word_tokenize(normalize(str(text)))\n",
        "  Token.append('end')\n",
        "  count_text = len(Token)-1\n",
        "  if new_colcan[i] =='ไม่สามารถระบุได้/ไม่มั่นใจว่าเป็น':\n",
        "    x=0\n",
        "  elif new_colcan[i] == 'เล่ามากกว่า 2 โรค':\n",
        "    x=1\n",
        "  else :\n",
        "    x=2\n",
        "  point.append(count_text+x)\n",
        "  pop = point[i]/100\n",
        "  if pop >= 0.75:\n",
        "    k.append('มีประโยชน์มาก')\n",
        "  elif pop < 0.75 and pop >=0.5:\n",
        "    k.append('มีประโยชน์')\n",
        "  elif pop < 0.5 and pop >=0.25:\n",
        "    k.append('อาจมีประโยชน์')\n",
        "  elif pop < 0.25 :\n",
        "    k.append('ไม่มีประโยชน์')\n",
        "# elif max(point) > 100:\n",
        "#   for i in range(len(comment)):\n",
        "#     pop = point[i]/max(point)\n",
        "#     if pop >= 0.75:\n",
        "#       k.append('มีประโยชน์มาก')\n",
        "#     elif pop < 0.75 and pop >=0.5:\n",
        "#       k.append('มีประโยชน์')\n",
        "#     elif pop < 0.5 and pop >=0.25:\n",
        "#       k.append('อาจมีประโยชน์')\n",
        "#     elif pop < 0.25 :\n",
        "#       k.append('ไม่มีประโยชน์')\n",
        "r['โรค'] = new_colcan\n",
        "r['คะเเนน'] = point\n",
        "r['ผลลัพธ์'] = k\n",
        "print(r)"
      ]
    },
    {
      "cell_type": "code",
      "execution_count": null,
      "metadata": {
        "id": "CWrD5mwgu1QK"
      },
      "outputs": [],
      "source": [
        "def detect_person(comment):\n",
        "    # คำที่ใช้ตรวจสอบว่ามีใครเป็นคนอยู่ในความคิดเห็น\n",
        "    other = ['พ่อ','บิดา','พี่ชาย','น้องชาย','ลูกชาย','สามี','พัว','ผัว','ปู่','ตา','คุณปู่','คุณตา','คุณพ่อ',\n",
        "              'ปู่ทวด','ตาทวด','ลุง','อาหนู','คุณอา','คุณลุง','หลายชาย','ลูกเขย','เขย','พี่เขย','น้องเขย',\n",
        "              'พ่อตา','พ่อผม','พ่อหนู','พ่อพม','ชาย','หนุ่ม''แม่','เเม่','คุณแม่','มารดา','พี่สาว','น้องสาว',\n",
        "              'ลูกสาว','ภรรยา','เมีย','ย่า','ยาย','คุณย่า','คุณยาย','คุณเเม่','ย่าทวด','ยายทวด','ป้า',\n",
        "              'น้า','คุณป้า','คุณน้า','หลายสาว','ลูกสะใถ้','ลูกสะใภ้','สะใภ้','พี่สะใภ้','น้องสะใภ้','เเม่ผม','เเม่หนู','เเม่พม','แม่ผม','แม่หนู','แม่พม','สาว','หญิง']\n",
        "    myself = ['ผมเป็น','ผมเอง','กระผม','พมเป็น','พมเอง','กระพม','หนูเอง','หนู','ดิฉัน','ตัวเอง','ก้อน','คลำ']\n",
        "    # ตรวจสอบคำในความคิดเห็น\n",
        "    for keyword in  other:\n",
        "        if keyword in comment and \"อาการ\" not in comment :\n",
        "              return 'เล่าประสบการณ์คนอื่น'\n",
        "    for keyword in  myself:\n",
        "        if keyword in comment:\n",
        "            return 'เล่าประสบการณ์ตัวเอง'\n",
        "    # หากไม่พบคำที่บ่งบอกถึงคน\n",
        "    return 'ไม่ได้เล่าประสบการณ์'"
      ]
    },
    {
      "cell_type": "code",
      "execution_count": null,
      "metadata": {
        "id": "vR3NEwRIqayj"
      },
      "outputs": [],
      "source": [
        "def detect_gender_other(comment):\n",
        "    # คำที่บ่งบอกถึงเพศชาย\n",
        "    male_keywords = ['พ่อ','บิดา','พี่ชาย','น้องชาย','ลูกชาย','สามี','พัว','ผัว','ปู่','ตา','คุณปู่','คุณตา','คุณพ่อ',\n",
        "                     'ปู่ทวด','ตาทวด','ลุง','อาหนู','คุณอา','คุณลุง','หลายชาย','ลูกเขย','เขย','พี่เขย','น้องเขย',\n",
        "                     'พ่อตา','พ่อผม','พ่อหนู','พ่อพม','ชาย','หนุ่ม']\n",
        "    # คำที่บ่งบอกถึงเพศหญิง\n",
        "    female_keywords = ['แม่','เเม่','คุณแม่','มารดา','พี่สาว','น้องสาว','ลูกสาว','ภรรยา','เมีย','ย่า','ยาย','คุณย่า','คุณยาย','คุณเเม่','ย่าทวด','ยายทวด','ป้า',\n",
        "                       'น้า','คุณป้า','คุณน้า','หลายสาว','ลูกสะใถ้','ลูกสะใภ้','สะใภ้','พี่สะใภ้','น้องสะใภ้','เเม่ผม','เเม่หนู','เเม่พม','แม่ผม','แม่หนู','แม่พม','สาว','หญิง']\n",
        "    # ตรวจสอบคำในความคิดเห็น\n",
        "    for keyword in male_keywords:\n",
        "        if keyword in comment and \"อาการ\" not in comment :\n",
        "              return \"เพศชาย\"\n",
        "    for keyword in female_keywords:\n",
        "        if keyword in comment:\n",
        "            return \"เพศหญิง\"\n",
        "    # หากไม่พบคำที่บ่งบอกถึงเพศ\n",
        "    return \"ไม่ระบุเพศ\""
      ]
    },
    {
      "cell_type": "code",
      "execution_count": null,
      "metadata": {
        "id": "aXKlraDPqeZe"
      },
      "outputs": [],
      "source": [
        "def detect_gender_self(comment):\n",
        "    # คำที่บ่งบอกถึงเพศชาย\n",
        "    male_keywords = ['ผมเป็น','ครับ','ผมเอง','คับ','กระผม','พมเป็น','พมเอง','กระพม']\n",
        "    # คำที่บ่งบอกถึงเพศหญิง\n",
        "    female_keywords = ['ค่ะ','คะ','หนูเอง','หนูเป็น','ดิฉัน','ก้อน','คลำ']\n",
        "    # ตรวจสอบคำในความคิดเห็น\n",
        "    for keyword in male_keywords:\n",
        "        if keyword in comment:\n",
        "            return \"เพศชาย\"\n",
        "    for keyword in female_keywords:\n",
        "        if keyword in comment:\n",
        "            return \"เพศหญิง\"\n",
        "    # หากไม่พบคำที่บ่งบอกถึงเพศ\n",
        "    return \"ไม่ระบุเพศ\""
      ]
    },
    {
      "cell_type": "code",
      "execution_count": null,
      "metadata": {
        "id": "iMBUULOGqgkj"
      },
      "outputs": [],
      "source": [
        "k1=[]\n",
        "k2=[]\n",
        "for i in comment['คำพูดโรค']:\n",
        "  k1.append(detect_person(str(i)))\n",
        "  if detect_person(str(i)) == 'เล่าประสบการณ์คนอื่น':\n",
        "    k2.append(detect_gender_other(str(i)))\n",
        "  elif detect_person(str(i)) == 'เล่าประสบการณ์ตัวเอง':\n",
        "    k2.append(detect_gender_self(str(i)))\n",
        "  elif detect_person(str(i)) == 'ไม่ได้เล่าประสบการณ์':\n",
        "    k2.append(detect_gender_self(str(i)))\n",
        "r['ใครเล่า'] = k1\n",
        "r['เพศเเบ่งโดยใช้_python'] = k2"
      ]
    },
    {
      "cell_type": "code",
      "execution_count": null,
      "metadata": {
        "id": "TcSP1lc8yRUz"
      },
      "outputs": [],
      "source": [
        "r['เพศเเบ่งโดยใช้_nlp'] = new_colgenden\n",
        "r['โรค'] = new_colcan"
      ]
    },
    {
      "cell_type": "code",
      "execution_count": null,
      "metadata": {
        "id": "BjBRuZwasjcN"
      },
      "outputs": [],
      "source": [
        "r"
      ]
    },
    {
      "cell_type": "code",
      "execution_count": null,
      "metadata": {
        "id": "MTO7K9werHgn"
      },
      "outputs": [],
      "source": [
        "comment = r[r['คำพูดโรค']!=0]"
      ]
    },
    {
      "cell_type": "markdown",
      "metadata": {
        "id": "JY2oCe-FMEpI"
      },
      "source": [
        "#sentence_transformers and clustering เเบ่งว่าอันไหนมี ประโยชน์กับไม่มีประโยชน์"
      ]
    },
    {
      "cell_type": "code",
      "execution_count": null,
      "metadata": {
        "id": "jllCKIvWNYZO"
      },
      "outputs": [],
      "source": [
        "from sentence_transformers import SentenceTransformer,util\n",
        "sentences = list(comment['คำพูดโรค'])\n",
        "model = SentenceTransformer('sentence-transformers/paraphrase-multilingual-mpnet-base-v2')\n",
        "embeddings = model.encode(sentences)\n",
        "#Normalize the embeddings to unit length\n",
        "Normalize_embeddings = embeddings / np.linalg.norm(embeddings, axis=1, keepdims=True)"
      ]
    },
    {
      "cell_type": "code",
      "execution_count": null,
      "metadata": {
        "id": "I-7EqJ-3AKdd"
      },
      "outputs": [],
      "source": [
        "clustering_model = KMeans(n_clusters=2)\n",
        "clustering_model.fit(embeddings)\n",
        "cluster_assignment = clustering_model.labels_\n",
        "print(cluster_assignment)\n",
        "print(len(cluster_assignment))"
      ]
    },
    {
      "cell_type": "code",
      "execution_count": null,
      "metadata": {
        "id": "a041RBvWBdgP"
      },
      "outputs": [],
      "source": [
        "clusternd_sentences= {}\n",
        "for sentence_id, cluster_id in enumerate(cluster_assignment):\n",
        "  if cluster_id not in clusternd_sentences:\n",
        "    clusternd_sentences[cluster_id] = []\n",
        "\n",
        "  clusternd_sentences[cluster_id].append(sentences[sentence_id])"
      ]
    },
    {
      "cell_type": "code",
      "execution_count": null,
      "metadata": {
        "id": "qmNTYZXEcG--"
      },
      "outputs": [],
      "source": [
        "len(clusternd_sentences)"
      ]
    },
    {
      "cell_type": "code",
      "execution_count": null,
      "metadata": {
        "id": "ea7yi9RfYidi"
      },
      "outputs": [],
      "source": [
        "clusternd_sentences[1][0]"
      ]
    },
    {
      "cell_type": "code",
      "execution_count": null,
      "metadata": {
        "id": "Sa4uDgpXFuW1"
      },
      "outputs": [],
      "source": [
        "len_1=[]\n",
        "len_2=[]\n",
        "for i in range(len(clusternd_sentences)):\n",
        "    x=len(clusternd_sentences[1][i])\n",
        "    len_1.append(x)\n",
        "    y=len(clusternd_sentences[0][i])\n",
        "    len_2.append(y)\n",
        "if max(len_1) < max(len_2) :\n",
        "  Pop=comment[comment['คำพูดโรค'].isin(clusternd_sentences[1])]\n",
        "  Pop['โรค_clusternd'] = 'ไม่มีประโยชน์_หรือ_ให้ข้อมูลน้อยเกินไป'\n",
        "  pop_use=comment[comment['คำพูดโรค'].isin(clusternd_sentences[0])]\n",
        "  useful = clusternd_sentences[0]\n",
        "else :\n",
        "  Pop=comment[comment['คำพูดโรค'].isin(clusternd_sentences[0])]\n",
        "  pop_use=comment[comment['คำพูดโรค'].isin(clusternd_sentences[1])]\n",
        "  Pop['โรค_clusternd'] = 'ไม่มีประโยชน์_หรือ_ให้ข้อมูลน้อยเกินไป'\n",
        "  useful = clusternd_sentences[1]"
      ]
    },
    {
      "cell_type": "code",
      "execution_count": null,
      "metadata": {
        "id": "ZrEj2XUKejRb"
      },
      "outputs": [],
      "source": [
        "Pop"
      ]
    },
    {
      "cell_type": "markdown",
      "metadata": {
        "id": "xej0ytTdM7uD"
      },
      "source": []
    },
    {
      "cell_type": "code",
      "execution_count": null,
      "metadata": {
        "id": "DcCg45cyLEZN"
      },
      "outputs": [],
      "source": [
        "model = SentenceTransformer('sentence-transformers/paraphrase-multilingual-mpnet-base-v2')\n",
        "useful_embeddings = model.encode(useful)\n",
        "#Normalize the embeddings to unit length\n",
        "Normalize_useful_embeddings = useful_embeddings / np.linalg.norm(useful_embeddings, axis=1, keepdims=True)\n",
        "clustering_useful_model = KMeans(n_clusters=6)\n",
        "clustering_useful_model.fit(Normalize_useful_embeddings)\n",
        "cluster_assignment_useful = clustering_useful_model.labels_\n",
        "\n",
        "print(cluster_assignment_useful)\n",
        "print(len(cluster_assignment_useful))"
      ]
    },
    {
      "cell_type": "code",
      "execution_count": null,
      "metadata": {
        "id": "IbB_KOeK5SCi"
      },
      "outputs": [],
      "source": [
        "k_level = []\n",
        "for k in range(2, len(set(pop_use['โรค']))):\n",
        "    kmeans = KMeans(n_clusters=k)\n",
        "    kmeans.fit(Normalize_useful_embeddings)\n",
        "    labels = kmeans.labels_\n",
        "\n",
        "    # คำนวณ Silhouette Coefficient\n",
        "    silhouette_avg = silhouette_score(Normalize_useful_embeddings, labels)\n",
        "    k_level.append(silhouette_avg)\n",
        "print(max(k_level))"
      ]
    },
    {
      "cell_type": "code",
      "execution_count": null,
      "metadata": {
        "id": "t0xhIjHD6qbU"
      },
      "outputs": [],
      "source": [
        "import statistics\n",
        "max(k_level)"
      ]
    },
    {
      "cell_type": "code",
      "execution_count": null,
      "metadata": {
        "id": "GRESbgnUWhCo"
      },
      "outputs": [],
      "source": [
        "k_level"
      ]
    },
    {
      "cell_type": "code",
      "execution_count": null,
      "metadata": {
        "id": "Qcn_ObnGLY8w"
      },
      "outputs": [],
      "source": [
        "clusternd_useful_sentences= {}\n",
        "for sentence_ID, cluster_ID in enumerate(cluster_assignment_useful):\n",
        "  if cluster_ID not in clusternd_useful_sentences:\n",
        "    clusternd_useful_sentences[cluster_ID] = []\n",
        "\n",
        "  clusternd_useful_sentences[cluster_ID].append(useful[sentence_ID])"
      ]
    },
    {
      "cell_type": "code",
      "execution_count": null,
      "metadata": {
        "id": "oED4vjMnWasp"
      },
      "outputs": [],
      "source": [
        "comment[comment['คำพูดโรค'].isin(clusternd_useful_sentences[5])]"
      ]
    },
    {
      "cell_type": "code",
      "execution_count": null,
      "metadata": {
        "id": "BaugbRybuwTW"
      },
      "outputs": [],
      "source": [
        "def define_Cencer_with_clusternd(use_clusternd_sentences,n_clusters):\n",
        "  data = pd.DataFrame()\n",
        "  for i in range(n_clusters):\n",
        "    point = []\n",
        "    define_C =[]\n",
        "    test = comment[comment['คำพูดโรค'].isin(use_clusternd_sentences[i])]\n",
        "    test_cer = list(test['โรค'])\n",
        "    for j in range(len(test_cer)):\n",
        "      if test_cer[j] in name_cancar:\n",
        "        point.append(test_cer[j])\n",
        "    if len(set(point)) == 0 :\n",
        "      for x in range(len(test_cer)):\n",
        "        define_C.append('ไม่สามารถระบุได้/ไม่มั่นใจว่าเป็น')\n",
        "    elif len(set(point)) == 1 :\n",
        "      for x in range(len(test_cer)):\n",
        "        define_C.append(point[0])\n",
        "    elif len(set(point)) > 1:\n",
        "      for x in range(len(test_cer)):\n",
        "        define_C.append('มีโอกาสเป็นโรคมะเร็งมากกว่า 2 เเบบ')\n",
        "    test['โรค_clusternd'] = define_C\n",
        "    data = pd.concat([data,test])\n",
        "  return data"
      ]
    },
    {
      "cell_type": "code",
      "execution_count": null,
      "metadata": {
        "collapsed": true,
        "id": "UIpPc6_rwOKr"
      },
      "outputs": [],
      "source": [
        "define_Cencer_a=define_Cencer_with_clusternd(clusternd_useful_sentences,len(name_cancar))"
      ]
    },
    {
      "cell_type": "code",
      "execution_count": null,
      "metadata": {
        "id": "pH1a-xqkx2V7"
      },
      "outputs": [],
      "source": [
        "define_Cencer_a"
      ]
    },
    {
      "cell_type": "code",
      "execution_count": null,
      "metadata": {
        "id": "5RzQ-szuzx_S"
      },
      "outputs": [],
      "source": [
        "usedata=pd.concat([Pop,define_Cencer_a])"
      ]
    },
    {
      "cell_type": "code",
      "execution_count": null,
      "metadata": {
        "id": "GIOpBKMk0SHo"
      },
      "outputs": [],
      "source": [
        "usedata"
      ]
    },
    {
      "cell_type": "code",
      "execution_count": null,
      "metadata": {
        "id": "SYF3uyBw4Fpk"
      },
      "outputs": [],
      "source": [
        "data = ['A', 'B', 'C', 'A', 'B']\n",
        "\n",
        "# แปลง list เป็น DataFrame\n",
        "df = pd.DataFrame(data, columns=['data'])\n",
        "\n",
        "# One-hot encoding\n",
        "dummy_variables = pd.get_dummies(df['data'])\n",
        "\n",
        "# แสดงผล"
      ]
    },
    {
      "cell_type": "code",
      "execution_count": null,
      "metadata": {
        "id": "X7TPdDPA4Hwf"
      },
      "outputs": [],
      "source": [
        "dummy_variables"
      ]
    },
    {
      "cell_type": "code",
      "execution_count": null,
      "metadata": {
        "id": "gIgXABgq5LzO"
      },
      "outputs": [],
      "source": []
    },
    {
      "cell_type": "code",
      "execution_count": null,
      "metadata": {
        "id": "lPkV_Ior4rpj"
      },
      "outputs": [],
      "source": [
        "import pandas as pd\n",
        "from sklearn.cluster import KMeans\n",
        "from sklearn.metrics import silhouette_score\n",
        "\n",
        "# ตัวอย่าง list\n",
        "data = [[1, 2], [3, 4], [5, 6], [7, 8], [9, 10]]\n",
        "\n",
        "# แปลง list เป็น DataFrame\n",
        "df = pd.DataFrame(data, columns=['x', 'y'])\n",
        "\n",
        "# ลองใช้ค่า k ที่แตกต่างกัน\n",
        "for k in range(2, 10):\n",
        "    kmeans = KMeans(n_clusters=k)\n",
        "    kmeans.fit(df[['x', 'y']])\n",
        "    labels = kmeans.labels_\n",
        "\n",
        "    # คำนวณ Silhouette Coefficient\n",
        "    silhouette_avg = silhouette_score(df[['x', 'y']], labels)\n",
        "    print(f\"k = {k}, Silhouette Coefficient = {silhouette_avg}\")"
      ]
    }
  ],
  "metadata": {
    "colab": {
      "provenance": [],
      "authorship_tag": "ABX9TyPpF6WazJNx+V8RyHIIujXK",
      "include_colab_link": true
    },
    "kernelspec": {
      "display_name": "Python 3",
      "name": "python3"
    },
    "language_info": {
      "name": "python"
    }
  },
  "nbformat": 4,
  "nbformat_minor": 0
}