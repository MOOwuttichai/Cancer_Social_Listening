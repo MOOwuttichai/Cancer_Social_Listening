{
  "nbformat": 4,
  "nbformat_minor": 0,
  "metadata": {
    "colab": {
      "provenance": [],
      "include_colab_link": true
    },
    "kernelspec": {
      "name": "python3",
      "display_name": "Python 3"
    },
    "language_info": {
      "name": "python"
    }
  },
  "cells": [
    {
      "cell_type": "markdown",
      "metadata": {
        "id": "view-in-github",
        "colab_type": "text"
      },
      "source": [
        "<a href=\"https://colab.research.google.com/github/MOOwuttichai/Cancer_Social_Listening/blob/main/%E0%B9%80%E0%B9%80%E0%B8%A2%E0%B8%81%E0%B8%A1%E0%B8%B0%E0%B9%80%E0%B8%A3%E0%B9%87%E0%B8%87%2B%E0%B9%80%E0%B8%9E%E0%B8%A8.ipynb\" target=\"_parent\"><img src=\"https://colab.research.google.com/assets/colab-badge.svg\" alt=\"Open In Colab\"/></a>"
      ]
    },
    {
      "cell_type": "code",
      "source": [
        "!pip install attacut\n",
        "!pip install pythainlp\n",
        "!pip install epitran"
      ],
      "metadata": {
        "id": "bxnO4WkVZ75t"
      },
      "execution_count": null,
      "outputs": []
    },
    {
      "cell_type": "code",
      "source": [
        "!wget https://github.com/Phonbopit/sarabun-webfont/raw/master/fonts/thsarabunnew-webfont.ttf\n",
        "mpl.font_manager.fontManager.addfont('thsarabunnew-webfont.ttf') # Ensuring matplotlib recognizes the font\n",
        "mpl.rc('font', family='TH Sarabun New')"
      ],
      "metadata": {
        "id": "POP_YeKY8lme"
      },
      "execution_count": null,
      "outputs": []
    },
    {
      "cell_type": "code",
      "execution_count": null,
      "metadata": {
        "id": "1FINUSzwVhz6"
      },
      "outputs": [],
      "source": [
        "import pandas as pd\n",
        "from google.colab import drive\n",
        "from attacut import tokenize, Tokenizer\n",
        "import pythainlp\n",
        "from pythainlp import sent_tokenize, word_tokenize, Tokenizer\n",
        "from pythainlp.util import normalize\n",
        "from pythainlp.corpus.common import thai_words\n",
        "from collections import OrderedDict\n",
        "import matplotlib as mpl\n",
        "drive.mount('/content/drive')"
      ]
    },
    {
      "cell_type": "code",
      "source": [
        "data = pd.read_csv('/content/drive/MyDrive/Carbon/data/ดึงข้อความFacbook - Sheet1.csv')"
      ],
      "metadata": {
        "id": "RlFqJ8-YbE4Z"
      },
      "execution_count": null,
      "outputs": []
    },
    {
      "cell_type": "code",
      "source": [
        "data.describe()"
      ],
      "metadata": {
        "id": "R2ggp07HflWf"
      },
      "execution_count": null,
      "outputs": []
    },
    {
      "cell_type": "code",
      "source": [
        "data.head(5)"
      ],
      "metadata": {
        "id": "cM-Mh4TAeQ2W"
      },
      "execution_count": null,
      "outputs": []
    },
    {
      "cell_type": "code",
      "source": [
        "data.iloc[0,1]"
      ],
      "metadata": {
        "id": "vqU0RKKDenLF"
      },
      "execution_count": null,
      "outputs": []
    },
    {
      "cell_type": "code",
      "source": [
        "data[data['ชื่อ']==data.iloc[1,1]]"
      ],
      "metadata": {
        "id": "z1vwiytlcX3i"
      },
      "execution_count": null,
      "outputs": []
    },
    {
      "cell_type": "code",
      "source": [
        "comment=data.groupby('ชื่อ').sum().reset_index()"
      ],
      "metadata": {
        "id": "wW4aJltbe1hf"
      },
      "execution_count": null,
      "outputs": []
    },
    {
      "cell_type": "code",
      "source": [
        "comment[comment['ชื่อ']=='Wiraon Chuenchom']"
      ],
      "metadata": {
        "id": "_0QEjtyVfWKU"
      },
      "execution_count": null,
      "outputs": []
    },
    {
      "cell_type": "code",
      "source": [
        "text = comment['คำพูดโรค'][1]"
      ],
      "metadata": {
        "id": "Tdf62mfefwQa"
      },
      "execution_count": null,
      "outputs": []
    },
    {
      "cell_type": "code",
      "source": [
        "text"
      ],
      "metadata": {
        "id": "oSDssKYzf78o"
      },
      "execution_count": null,
      "outputs": []
    },
    {
      "cell_type": "code",
      "source": [
        "words = set(thai_words())\n",
        "name =['กระเพาะปัสสวะ','กระเพาะปัสสาวะ','เยื่อบุโพรงมดลูก','ปากมดลูก','เม็ดเลือดขาว','กระเพาะอาหาร','กระเพราะอาหาร','ต่อมไทรอยด์','ต่อมไทยรอยด์','ท่อน้ำดี']\n",
        "for i in name:\n",
        "  words.add(i)\n",
        "custom_tokenizer = Tokenizer(words)\n",
        "Token = custom_tokenizer.word_tokenize(normalize(text))"
      ],
      "metadata": {
        "id": "RYOp-UTtgBTs"
      },
      "execution_count": null,
      "outputs": []
    },
    {
      "cell_type": "code",
      "source": [
        "Token"
      ],
      "metadata": {
        "id": "NZxkSuQZ7Dab"
      },
      "execution_count": null,
      "outputs": []
    },
    {
      "cell_type": "code",
      "source": [
        "list_cancer = []\n",
        "for i in range(len(Token)):\n",
        "  if (Token[i] == \"มะเร็ง\")|(Token[i] == \"โรคมะเร็ง\"):\n",
        "    list_cancer.append(Token[i]+Token[i+1])\n",
        "  else :\n",
        "    list_cancer.append('ไม่สามารถระบุได้')\n",
        "unique_list = list(OrderedDict.fromkeys(list_cancer)) # ลบคำซ้ำ"
      ],
      "metadata": {
        "id": "paHS3hCCgMhT"
      },
      "execution_count": null,
      "outputs": []
    },
    {
      "cell_type": "code",
      "source": [
        "unique_list"
      ],
      "metadata": {
        "id": "vpNSlCPCgoSb"
      },
      "execution_count": null,
      "outputs": []
    },
    {
      "cell_type": "code",
      "source": [
        "name_cancar = ['มะเร็งกระเพาะปัสสวะ','มะเร็งเยื่อบุโพรงมดลูก','มะเร็งปากมดลูก','มะเร็งเม็ดเลือดขาว','มะเร็งตับ','มะเร็งตับอ่อน','มะเร็งต่อมลูกหมาก','มะเร็งกระเพาะปัสสาวะ','มะเร็งกระเพาะอาหาร'\n",
        ",'มะเร็งหลอดอาหาร','มะเร็งเต้านม','มะเร็งปากมดลูก','มะเร็งปอด','มะเร็งลำไส้ใหญ่','มะเร็งรังไข่','มะเร็งเม็ดเลือดขาว','มะเร็งช่องปาก','มะเร็งต่อมไทรอยด์','มะเร็งต่อมน้ำเหลือง','มะเร็งสมอง','มะเร็งผิวหนัง','มะเร็งท่อน้ำดี']"
      ],
      "metadata": {
        "id": "5DdS-DQbhVEu"
      },
      "execution_count": null,
      "outputs": []
    },
    {
      "cell_type": "code",
      "source": [
        "list_define_cancer = []\n",
        "for i in range(len(unique_list)):\n",
        "  for j in range(len(name_cancar)):\n",
        "    if unique_list[i]==name_cancar[j]:\n",
        "      list_define_cancer.append(unique_list[i])\n",
        "if list_define_cancer==[]:\n",
        "  list_define_cancer.append('ไม่สามารถระบุได้/ไม่มั่นใจว่าเป็น')"
      ],
      "metadata": {
        "id": "KFLTa7iRhYBz"
      },
      "execution_count": null,
      "outputs": []
    },
    {
      "cell_type": "code",
      "source": [
        "list_define_cancer"
      ],
      "metadata": {
        "id": "oyUJ-sGZhh1A"
      },
      "execution_count": null,
      "outputs": []
    },
    {
      "cell_type": "markdown",
      "source": [
        "#ลองทั้งหมด"
      ],
      "metadata": {
        "id": "lKeKBFAih1ew"
      }
    },
    {
      "cell_type": "code",
      "source": [
        "data = pd.read_csv('/content/drive/MyDrive/Carbon/data/ดึงข้อความFacbook - Sheet1.csv')"
      ],
      "metadata": {
        "id": "bh4jNI-cuGHg"
      },
      "execution_count": null,
      "outputs": []
    },
    {
      "cell_type": "code",
      "source": [
        "name_cancar = ['มะเร็งกระเพาะปัสสวะ','มะเร็งเยื่อบุโพรงมดลูก','มะเร็งปากมดลูก','มะเร็งเม็ดเลือดขาว','มะเร็งตับ','มะเร็งตับอ่อน','มะเร็งต่อมลูกหมาก','มะเร็งกระเพาะปัสสาวะ','มะเร็งกระเพาะอาหาร'\n",
        ",'มะเร็งหลอดอาหาร','มะเร็งเต้านม','มะเร็งปากมดลูก','มะเร็งปอด','มะเร็งลำไส้ใหญ่','มะเร็งรังไข่','มะเร็งเม็ดเลือดขาว','มะเร็งช่องปาก','มะเร็งต่อมไทรอยด์','มะเร็งต่อมน้ำเหลือง','มะเร็งสมอง','มะเร็งผิวหนัง','มะเร็งลำไส้'\n",
        ",'มะเร็งท่อน้ำดี']"
      ],
      "metadata": {
        "id": "NrI66WvOs-Vk"
      },
      "execution_count": null,
      "outputs": []
    },
    {
      "cell_type": "code",
      "source": [
        "Genden = {'ชาย':['พ่อ','บิดา','พี่ชาย','น้องชาย','ลูกชาย','สามี','พัว','ผัว','ปู่','ตา','คุณปู่','คุณตา','คุณพ่อ','ปู่ทวด','ตาทวด','ลุง','อา','คุณอา','คุณลุง','หลายชาย','ลูกเขย','เขย','พี่เขย','น้องเขย','พ่อตา']\n",
        "          ,'หญิง':['แม่','เเม่','มารดา','พี่สาว','น้องสาว','ลูกสาว','ภรรยา','เมีย','ย่า','ยาย','คุณย่า','คุณยาย','คุณเเม่','ย่าทวด','ยายทวด','ป้า','น้า่','คุณป้า','คุณน้า','หลายสาว','ลูกสะใถ้','ลูกสะใภ้','สะใภ้','พี่สะใภ้','น้องสะใภ้']}"
      ],
      "metadata": {
        "id": "S3lYtdyGthx2"
      },
      "execution_count": null,
      "outputs": []
    },
    {
      "cell_type": "code",
      "source": [
        "words = set(thai_words())\n",
        "words.remove(\"โรคมะเร็ง\")\n",
        "name =['กระเพาะปัสสวะ','กระเพาะปัสสาวะ','เยื่อบุโพรงมดลูก','ปากมดลูก','เม็ดเลือดขาว','กระเพาะอาหาร','กระเพราะอาหาร','โรค','มะเร็ง']\n",
        "for i in name:\n",
        "  words.add(i)"
      ],
      "metadata": {
        "id": "fanI6fM0tAXg"
      },
      "execution_count": null,
      "outputs": []
    },
    {
      "cell_type": "code",
      "source": [
        "new_colcan = []\n",
        "new_colgenden = []\n",
        "for i in range(len(comment)):\n",
        "  text= comment['คำพูดโรค'][i]\n",
        "  custom_tokenizer = Tokenizer(words)\n",
        "  Token = custom_tokenizer.word_tokenize(normalize(text))\n",
        "  Token.append('end')\n",
        "  #หาโรค\n",
        "  #--------------------------------------------------------\n",
        "  list_cancer = []\n",
        "  for i in range(len(Token)):\n",
        "    if (Token[i] == \"มะเร็ง\")|(Token[i] == \"โรคมะเร็ง\"):\n",
        "      list_cancer.append(Token[i]+Token[i+1])\n",
        "    # else :\n",
        "    #   list_cancer.append('ไม่สามารถระบุได้')\n",
        "  unique_list = list(OrderedDict.fromkeys(list_cancer))\n",
        "  #----------------------------------------------------------\n",
        "  list_define_cancer = []\n",
        "  new_list=[]\n",
        "  for i in range(len(unique_list)):\n",
        "    for j in range(len(name_cancar)):\n",
        "      if unique_list[i]==name_cancar[j]:\n",
        "        list_define_cancer.append(unique_list[i])\n",
        "  if list_define_cancer==[]:\n",
        "    list_define_cancer.append('ไม่สามารถระบุได้/ไม่มั่นใจว่าเป็น')\n",
        "  new_colcan.append(list_define_cancer)\n",
        "  # for i in range(len(new_colcan)):\n",
        "  #   if len(new_colcan) == 1:\n",
        "  #     new_list.append(new_colcan[i][0])\n",
        "  #   elif len(list_define_cancer) > 1:\n",
        "  #     new_list.append('เล่ามากกว่า 2 โรค')\n",
        "  # new_colcan.append(new_list)"
      ],
      "metadata": {
        "id": "zdXm1v0_tCWw"
      },
      "execution_count": 63,
      "outputs": []
    },
    {
      "cell_type": "code",
      "source": [
        "new_cancer=[]\n",
        "for i in range(len(new_colcan)):\n",
        "  if len(new_colcan[i]) == 1:\n",
        "    new_list.append(new_colcan[i][0])\n",
        "  elif len(new_colcan[i]) > 1:\n",
        "    new_list.append('เล่ามากกว่า 2 โรค')\n",
        "  new_cancer.append(new_list)"
      ],
      "metadata": {
        "id": "KnuE8VSQJNzd"
      },
      "execution_count": 64,
      "outputs": []
    },
    {
      "cell_type": "code",
      "source": [
        "new_cancer"
      ],
      "metadata": {
        "id": "K4bh4wI_aXwJ"
      },
      "execution_count": null,
      "outputs": []
    },
    {
      "cell_type": "code",
      "source": [
        "len(new_colcan[0])"
      ],
      "metadata": {
        "id": "U44IbIa1aFpe"
      },
      "execution_count": null,
      "outputs": []
    },
    {
      "cell_type": "code",
      "source": [
        "use_data = comment[['ชื่อ','คำพูดโรค']]\n",
        "use_data['ประเภทของมะเร็ง'] = new_cancer\n",
        "use_data"
      ],
      "metadata": {
        "id": "FGOtdD0D57S_"
      },
      "execution_count": null,
      "outputs": []
    },
    {
      "cell_type": "markdown",
      "source": [
        "#วิเคราะห์เเละสรุปผล"
      ],
      "metadata": {
        "id": "TosSBhgF0XH8"
      }
    },
    {
      "cell_type": "code",
      "source": [
        "use_data.to_csv('งาน.csv')"
      ],
      "metadata": {
        "id": "DsiwvC5cxK86"
      },
      "execution_count": null,
      "outputs": []
    },
    {
      "cell_type": "code",
      "source": [
        "new_list=[]\n",
        "for i in range(len(use_data)):\n",
        "  if len(use_data['ประเภทของมะเร็ง'][i]) == 1:\n",
        "    new_list.append(use_data['ประเภทของมะเร็ง'][i][0])\n",
        "  elif len(use_data['ประเภทของมะเร็ง'][i]) > 1:\n",
        "    new_list.append('เล่ามากกว่า 2 โรค')\n",
        "use_data['ประเภทของมะเร็ง']=new_list"
      ],
      "metadata": {
        "id": "15rFSTW03hoa"
      },
      "execution_count": null,
      "outputs": []
    },
    {
      "cell_type": "code",
      "source": [
        "use_data"
      ],
      "metadata": {
        "id": "wYHsueDN6wN9"
      },
      "execution_count": null,
      "outputs": []
    },
    {
      "cell_type": "code",
      "source": [
        "cancer_counts = use_data['ประเภทของมะเร็ง'].value_counts()\n",
        "cancer_counts"
      ],
      "metadata": {
        "id": "S-qdR2Bg1Hgp"
      },
      "execution_count": null,
      "outputs": []
    },
    {
      "cell_type": "code",
      "source": [
        "set(use_data['ประเภทของมะเร็ง'])"
      ],
      "metadata": {
        "id": "m-As9Sds7zV4"
      },
      "execution_count": null,
      "outputs": []
    },
    {
      "cell_type": "code",
      "source": [
        "# # List of cancer names\n",
        "# name_cancer = list(set(use_data['ประเภทของมะเร็ง']))\n",
        "# # Count of cancer occurrences (dummy data for demonstration)\n",
        "# cancer_counts = use_data['ประเภทของมะเร็ง'].value_counts()\n",
        "# # Create bar plot\n",
        "# plt.figure(figsize=(10, 8))\n",
        "# plt.bar(name_cancer, cancer_counts.values, color='skyblue')  # Providing counts as y-axis data\n",
        "# plt.xlabel('Cancer Types')\n",
        "# plt.ylabel('Number of Cases')\n",
        "# plt.title('Cancer Cases by Type')\n",
        "# plt.xticks(rotation=90)  # Rotate x-axis labels for better readability\n",
        "# plt.tight_layout()\n",
        "# plt.show()"
      ],
      "metadata": {
        "id": "AXRSxXQoyYPz"
      },
      "execution_count": null,
      "outputs": []
    },
    {
      "cell_type": "code",
      "source": [
        "use_data['ประเภทของมะเร็ง'].value_counts().plot(kind='bar')"
      ],
      "metadata": {
        "id": "SoEEFJti-SQV"
      },
      "execution_count": null,
      "outputs": []
    },
    {
      "cell_type": "markdown",
      "source": [
        "#หาโรคเดี่ยว"
      ],
      "metadata": {
        "id": "sJHn1Zqmh4ck"
      }
    },
    {
      "cell_type": "code",
      "source": [
        "Genden = {'ชาย':['พ่อ','บิดา','พี่ชาย','น้องชาย','ลูกชาย','สามี','พัว','ผัว','ปู่','ตา','คุณปู่','คุณตา','คุณพ่อ','ปู่ทวด','ตาทวด','ลุง','อา','คุณอา','คุณลุง','หลายชาย','ลูกเขย','เขย','พี่เขย','น้องเขย','พ่อตา']\n",
        "          ,'หญิง':['แม่','เเม่','มารดา','พี่สาว','น้องสาว','ลูกสาว','ภรรยา','เมีย','ย่า','ยาย','คุณย่า','คุณยาย','คุณเเม่','ย่าทวด','ยายทวด','ป้า','น้า่','คุณป้า','คุณน้า','หลายสาว','ลูกสะใถ้','ลูกสะใภ้','สะใภ้','พี่สะใภ้','น้องสะใภ้']}"
      ],
      "metadata": {
        "id": "7muNkCt9iD2x"
      },
      "execution_count": null,
      "outputs": []
    },
    {
      "cell_type": "code",
      "source": [
        "genden_list =[]\n",
        "list_genden = []\n",
        "for i in range(len(Token)):\n",
        "  for j in range(len(Genden['หญิง'])):\n",
        "    if (Token[i] == Genden['ชาย'][j]):\n",
        "      list_genden.append('เพศชาย')\n",
        "    elif(Token[i] == Genden['หญิง'][j]):\n",
        "      list_genden.append('เพศหญิง')\n",
        "genden_list = list(OrderedDict.fromkeys(list_genden)) # ลบคำซ้ำ"
      ],
      "metadata": {
        "id": "y460p7t3h8Sk"
      },
      "execution_count": null,
      "outputs": []
    },
    {
      "cell_type": "code",
      "source": [
        "genden_list"
      ],
      "metadata": {
        "id": "icXICfK9rDiU"
      },
      "execution_count": null,
      "outputs": []
    },
    {
      "cell_type": "code",
      "source": [
        "list_define_genden = []\n",
        "for i in range(len(genden_list)):\n",
        "  if len(genden_list) == 2:\n",
        "    list_define_genden.append('เล่าทั้งสองเพศ')\n",
        "  elif list_define_cancer==[]:\n",
        "    list_define_genden.append('ไม่สามารถระบุได้/ไม่มั่นใจว่าเป็น')\n",
        "  else:\n",
        "    list_define_genden.append(genden_list[0])"
      ],
      "metadata": {
        "id": "_mPJex7fsFO3"
      },
      "execution_count": null,
      "outputs": []
    },
    {
      "cell_type": "code",
      "source": [
        "list_define_genden"
      ],
      "metadata": {
        "id": "djRgGZWHs3ZL"
      },
      "execution_count": null,
      "outputs": []
    },
    {
      "cell_type": "markdown",
      "source": [
        "#หาโรครวม"
      ],
      "metadata": {
        "id": "-GWHNV3z0Ro1"
      }
    },
    {
      "cell_type": "code",
      "source": [
        " #หาเพศ\n",
        "  #----------------------------------------------------------\n",
        "for i in range(len(comment)):\n",
        "  text= comment['คำพูดโรค'][i]\n",
        "  custom_tokenizer = Tokenizer(words)\n",
        "  Token = custom_tokenizer.word_tokenize(normalize(text))\n",
        "  Token.append('end')\n",
        "  list_genden = []\n",
        "  for i in range(len(Token)):\n",
        "    for j in range(len(Genden['หญิง'])):\n",
        "      if (Token[i] == Genden['ชาย'][j]):\n",
        "        list_genden.append('เพศชาย')\n",
        "      elif(Token[i] == Genden['หญิง'][j]):\n",
        "        list_genden.append('เพศหญิง')\n",
        "  genden_list =[]\n",
        "  genden_list = list(OrderedDict.fromkeys(list_genden)) # ลบคำซ้ำ\n",
        "  #-------------------------------------------------------------------\n",
        "  list_define_genden = []\n",
        "  for i in range(len(genden_list)):\n",
        "    if len(genden_list) == 2:\n",
        "      list_define_genden.append('เล่าทั้งสองเพศ')\n",
        "    elif genden_list==[]:\n",
        "      list_define_genden.append('ไม่สามารถระบุได้/ไม่มั่นใจว่าเป็น')\n",
        "    else:\n",
        "      list_define_genden.append(genden_list[0])\n",
        "    genden_list_de =[]\n",
        "    genden_list_de = list(OrderedDict.fromkeys(list_define_genden))\n",
        "    new_colgenden.append(genden_list_de)"
      ],
      "metadata": {
        "id": "5Q9uXJPDwAIB"
      },
      "execution_count": null,
      "outputs": []
    },
    {
      "cell_type": "code",
      "source": [
        "for i in range(len(comment)):\n",
        "  text= comment['คำพูดโรค'][i]\n",
        "  custom_tokenizer = Tokenizer(words)\n",
        "  Token = custom_tokenizer.word_tokenize(normalize(text))\n",
        "  Token.append('end')\n",
        "  list_genden = []\n",
        "  for i in range(len(Token)):\n",
        "    for j in range(len(Genden['หญิง'])):\n",
        "      if (Token[i] == Genden['ชาย'][j]):\n",
        "        list_genden.append('เพศชาย')\n",
        "      elif(Token[i] == Genden['หญิง'][j]):\n",
        "        list_genden.append('เพศหญิง')\n",
        "  genden_list =[]\n",
        "  genden_list = list(OrderedDict.fromkeys(list_genden))"
      ],
      "metadata": {
        "id": "2A8rWt-d6dGY"
      },
      "execution_count": null,
      "outputs": []
    },
    {
      "cell_type": "code",
      "source": [
        "new_colgenden"
      ],
      "metadata": {
        "id": "FKN5Bg5t6jq6"
      },
      "execution_count": null,
      "outputs": []
    },
    {
      "cell_type": "code",
      "source": [
        "genden=[]\n",
        "for i in range(len(new_colgenden)):\n",
        "  x= set(new_colgenden[i])\n",
        "  genden.append(x)"
      ],
      "metadata": {
        "id": "KXXmipJ50oC-"
      },
      "execution_count": null,
      "outputs": []
    },
    {
      "cell_type": "code",
      "source": [
        "len(genden)"
      ],
      "metadata": {
        "id": "L8VKmbJ0rDn-"
      },
      "execution_count": null,
      "outputs": []
    }
  ]
}